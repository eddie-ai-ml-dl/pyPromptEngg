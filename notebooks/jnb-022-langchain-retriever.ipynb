{
 "cells": [
  {
   "metadata": {},
   "cell_type": "code",
   "source": [
    "from langchain_google_genai import ChatGoogleGenerativeAI as genai\n",
    "from langchain_community.document_loaders import WebBaseLoader\n",
    "from dotenv import load_dotenv\n",
    "from langchain_google_genai import GoogleGenerativeAIEmbeddings as GeminiEmbeddings"
   ],
   "id": "b90a19481b75c753",
   "outputs": [],
   "execution_count": null
  },
  {
   "metadata": {},
   "cell_type": "code",
   "source": [
    "load_dotenv()\n",
    "_DEFAULT_EMBEDDINGS_MODEL= \"models/embedding-001\"\n",
    "# Initializes a large language model (LLM) for text generation\n",
    "llm = genai(model=\"models/gemini-2.0-flash-exp\",\n",
    "            temperature=0.6,\n",
    "             top_p=0.85,\n",
    "            )"
   ],
   "id": "986cad587a8a00a4",
   "outputs": [],
   "execution_count": null
  },
  {
   "metadata": {},
   "cell_type": "code",
   "source": [
    "question = \"what are the most recent udpates about hurricane Helene as of September 2024?\"\n",
    "response = llm.invoke(question)\n",
    "print(response.content)"
   ],
   "id": "5c2f0f82c0d9daae",
   "outputs": [],
   "execution_count": null
  },
  {
   "metadata": {},
   "cell_type": "code",
   "source": [
    "url = \"https://www.cnn.com/weather/live-news/hurricane-helene-florida-north-carolina-georgia-09-30-24/index.html\"\n",
    "\n",
    "loader = WebBaseLoader(url)\n",
    "\n",
    "docs = loader.load()"
   ],
   "id": "e2ab4d5cae5dee1b",
   "outputs": [],
   "execution_count": null
  },
  {
   "cell_type": "code",
   "source": [
    "print(docs[0].page_content)"
   ],
   "metadata": {
    "collapsed": false
   },
   "id": "c6dac30d4da9f971",
   "outputs": [],
   "execution_count": null
  },
  {
   "cell_type": "code",
   "source": [
    "embeddings = GeminiEmbeddings(model=_DEFAULT_EMBEDDINGS_MODEL)\n",
    "from langchain_community.vectorstores import FAISS\n",
    "from langchain_text_splitters import RecursiveCharacterTextSplitter\n",
    "\n",
    "\n",
    "text_splitter = RecursiveCharacterTextSplitter()\n",
    "documents = text_splitter.split_documents(docs)\n",
    "vector = FAISS.from_documents(documents, embeddings)"
   ],
   "metadata": {
    "collapsed": false
   },
   "id": "fdd9b309840f560c",
   "outputs": [],
   "execution_count": null
  },
  {
   "cell_type": "code",
   "source": [
    "from langchain_core.prompts import ChatPromptTemplate\n",
    "from langchain.chains.combine_documents import create_stuff_documents_chain\n",
    "\n",
    "prompt = ChatPromptTemplate.from_template(\"\"\"Answer the following question based only on the provided context:\n",
    "\n",
    "** Context **\n",
    "{context}\n",
    "\n",
    "Question: {input}\"\"\")\n",
    "\n",
    "document_chain = create_stuff_documents_chain(llm, prompt)"
   ],
   "metadata": {
    "collapsed": false,
    "ExecuteTime": {
     "end_time": "2025-04-02T00:16:24.167683Z",
     "start_time": "2025-04-02T00:16:24.150795Z"
    }
   },
   "id": "92ad6a5ea5d736ab",
   "outputs": [],
   "execution_count": 23
  },
  {
   "cell_type": "code",
   "source": [
    "from langchain.chains import create_retrieval_chain\n",
    "\n",
    "retriever = vector.as_retriever()\n",
    "retrieval_chain = create_retrieval_chain(retriever, document_chain)"
   ],
   "metadata": {
    "collapsed": false,
    "ExecuteTime": {
     "end_time": "2025-04-02T00:16:25.047712Z",
     "start_time": "2025-04-02T00:16:25.038582Z"
    }
   },
   "id": "fb03107fe9add9ff",
   "outputs": [],
   "execution_count": 24
  },
  {
   "cell_type": "code",
   "source": [
    "response = retrieval_chain.invoke({\"input\": question})"
   ],
   "metadata": {
    "collapsed": false,
    "ExecuteTime": {
     "end_time": "2025-04-02T00:16:28.456716Z",
     "start_time": "2025-04-02T00:16:25.798197Z"
    }
   },
   "id": "b395ede4566abb32",
   "outputs": [],
   "execution_count": 25
  },
  {
   "cell_type": "code",
   "source": "print(f\"Prompt/> {question}\\n\\n\", f\"Answer: {response['answer']}\")",
   "metadata": {
    "collapsed": false,
    "ExecuteTime": {
     "end_time": "2025-04-02T00:16:30.111886Z",
     "start_time": "2025-04-02T00:16:30.106441Z"
    }
   },
   "id": "6e0c0d216d4dcc20",
   "outputs": [
    {
     "name": "stdout",
     "output_type": "stream",
     "text": [
      "Prompt/> what are the most recent udpates about hurricane Helene as of September 2024?\n",
      "\n",
      " Answer: Here are the most recent updates about Hurricane Helene as of September 2024, based on the provided text:\n",
      "\n",
      "*   **Buncombe County confirms 35 storm deaths:** Buncombe County, North Carolina, now has 35 confirmed deaths from Hurricane Helene.\n",
      "*   **Helene death toll reaches 115:** There are now 115 confirmed deaths from Helene in six states.\n",
      "*   **Florida urban search teams to end operations:** Urban search and rescue teams will finish all their operations in the state of Florida by the end of the day Monday. Florida is focusing on deploying recovery assistance to hard-hit areas in North Carolina and Tennessee.\n",
      "*   **President Biden calls Helene \"history-making\":** President Biden called Helene “a history-making storm” and said he hopes to visit impacted areas later this week. He vowed the federal government will assist survivors of Hurricane Helene “for as long as it takes.\"\n",
      "*   **New storm could develop:** There’s a medium chance a new storm develops in the western Caribbean or Gulf of Mexico later this week.\n",
      "*   **North Carolina village is grappling with \"total devastation\":** A village in North Carolina is dealing with the aftermath of the storm, which wiped out the entire business district.\n",
      "*   **At least 130 people have died across six states:** Officials fear the death toll can rise. Many more remain missing.\n",
      "*   **Hundreds of roads remain closed:** This is especially true in the Carolinas, hampering the delivery of badly-needed supplies.\n",
      "*   **More than 2 million customers remain without power:** According to poweroutage.us.\n",
      "*   **President Joe Biden will visit some of the affected communities later this week:** The White House said this will happen “as soon as it will not disrupt emergency response operations.”\n"
     ]
    }
   ],
   "execution_count": 26
  },
  {
   "cell_type": "code",
   "source": [],
   "metadata": {
    "collapsed": false
   },
   "id": "834418fa50091c24",
   "outputs": [],
   "execution_count": null
  }
 ],
 "metadata": {
  "kernelspec": {
   "display_name": "Python 3",
   "language": "python",
   "name": "python3"
  },
  "language_info": {
   "codemirror_mode": {
    "name": "ipython",
    "version": 2
   },
   "file_extension": ".py",
   "mimetype": "text/x-python",
   "name": "python",
   "nbconvert_exporter": "python",
   "pygments_lexer": "ipython2",
   "version": "2.7.6"
  }
 },
 "nbformat": 4,
 "nbformat_minor": 5
}
