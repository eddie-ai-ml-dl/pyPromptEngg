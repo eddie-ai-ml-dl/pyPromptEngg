{
 "cells": [
  {
   "metadata": {},
   "cell_type": "markdown",
   "source": "# I. Initialization Code",
   "id": "a93dd5014c4f0efc"
  },
  {
   "metadata": {
    "ExecuteTime": {
     "end_time": "2025-01-16T18:09:56.942608Z",
     "start_time": "2025-01-16T18:09:56.930850Z"
    }
   },
   "cell_type": "code",
   "source": [
    "%load_ext autoreload\n",
    "%autoreload 2"
   ],
   "id": "481c67eb4ed41555",
   "outputs": [
    {
     "name": "stdout",
     "output_type": "stream",
     "text": [
      "The autoreload extension is already loaded. To reload it, use:\n",
      "  %reload_ext autoreload\n"
     ]
    }
   ],
   "execution_count": 17
  },
  {
   "metadata": {
    "ExecuteTime": {
     "end_time": "2025-01-16T18:10:05.244467Z",
     "start_time": "2025-01-16T18:10:05.231943Z"
    }
   },
   "cell_type": "code",
   "source": [
    "from src.gemini import get_model\n",
    "from src.fnPrompts import (simple_prompt,\n",
    "                           product_prompt_template,\n",
    "                           rate_products_prompt)\n",
    "from src.fnUtils import render_markdown"
   ],
   "id": "d2b30958328e89d1",
   "outputs": [],
   "execution_count": 18
  },
  {
   "metadata": {
    "ExecuteTime": {
     "end_time": "2025-01-16T18:10:06.683550Z",
     "start_time": "2025-01-16T18:10:06.671115Z"
    }
   },
   "cell_type": "code",
   "source": [
    "print(simple_prompt())\n",
    "# print(product_prompt_template('Vacuum cleaner'))"
   ],
   "id": "ee8e2f797ef94270",
   "outputs": [
    {
     "name": "stdout",
     "output_type": "stream",
     "text": [
      "Generate a list of 10 product names for vacuum cleaner.\n"
     ]
    }
   ],
   "execution_count": 19
  },
  {
   "metadata": {
    "ExecuteTime": {
     "end_time": "2025-01-16T18:10:07.935409Z",
     "start_time": "2025-01-16T18:10:07.922680Z"
    }
   },
   "cell_type": "code",
   "source": [
    "model = get_model()\n",
    "model.model_name"
   ],
   "id": "4173883f72560a77",
   "outputs": [
    {
     "data": {
      "text/plain": [
       "'models/gemini-2.0-flash-exp'"
      ]
     },
     "execution_count": 20,
     "metadata": {},
     "output_type": "execute_result"
    }
   ],
   "execution_count": 20
  },
  {
   "metadata": {},
   "cell_type": "markdown",
   "source": [
    "# II. \n",
    "## 1."
   ],
   "id": "bba467b7e2795fc2"
  },
  {
   "metadata": {
    "ExecuteTime": {
     "end_time": "2025-01-16T18:17:23.052830Z",
     "start_time": "2025-01-16T18:17:21.156676Z"
    }
   },
   "cell_type": "code",
   "source": [
    "response = model.generate_content(simple_prompt())\n",
    "render_markdown(response.text)"
   ],
   "id": "d399835e51696d3a",
   "outputs": [
    {
     "data": {
      "text/plain": [
       "<IPython.core.display.Markdown object>"
      ],
      "text/markdown": "> Okay, here are 10 product names for a vacuum cleaner, playing with different styles and focuses:\n> \n> 1. **AeroClean Pro:** (Focuses on power and professional quality)\n> 2. **WhispVac:** (Highlights quiet operation)\n> 3. **DustBuster Max:** (Emphasizes strong suction and dust removal)\n> 4. **Glide & Shine:** (Suggests smooth movement and floor cleaning)\n> 5. **PureFlow Vacuum:** (Implies clean air filtration)\n> 6. **TerraClean:** (Suggests environmentally friendly cleaning and connection to earth/home)\n> 7. **SwiftSweep:** (Conveys speed and efficiency)\n> 8. **Zenith Vac:** (Positions it as a top-of-the-line or ultimate choice)\n> 9. **PowerBeam Cleaner:** (Focuses on powerful cleaning and a concentrated beam of suction)\n> 10. **Spotless Sentinel:** (Evokes a sense of protection against dirt and constant vigilance)\n"
     },
     "metadata": {},
     "output_type": "display_data"
    }
   ],
   "execution_count": 27
  },
  {
   "metadata": {},
   "cell_type": "markdown",
   "source": "# III.",
   "id": "d18240799c6cd067"
  },
  {
   "metadata": {},
   "cell_type": "markdown",
   "source": [
    "## 1.\n",
    "### 1.1\n",
    "### 1.2"
   ],
   "id": "fa23df25e50a8e65"
  },
  {
   "metadata": {
    "ExecuteTime": {
     "end_time": "2025-01-16T19:35:55.372146Z",
     "start_time": "2025-01-16T19:35:55.370934Z"
    }
   },
   "cell_type": "code",
   "source": "",
   "id": "4accaee55c9295a",
   "outputs": [],
   "execution_count": null
  }
 ],
 "metadata": {
  "kernelspec": {
   "display_name": "Python 3",
   "language": "python",
   "name": "python3"
  },
  "language_info": {
   "codemirror_mode": {
    "name": "ipython",
    "version": 2
   },
   "file_extension": ".py",
   "mimetype": "text/x-python",
   "name": "python",
   "nbconvert_exporter": "python",
   "pygments_lexer": "ipython2",
   "version": "2.7.6"
  }
 },
 "nbformat": 4,
 "nbformat_minor": 5
}
