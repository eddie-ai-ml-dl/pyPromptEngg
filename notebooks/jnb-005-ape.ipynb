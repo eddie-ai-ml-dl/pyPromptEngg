{
 "cells": [
  {
   "metadata": {},
   "cell_type": "markdown",
   "source": "# I. Initialization Code",
   "id": "a93dd5014c4f0efc"
  },
  {
   "metadata": {
    "ExecuteTime": {
     "end_time": "2025-01-28T01:04:03.366537Z",
     "start_time": "2025-01-28T01:04:03.315798Z"
    }
   },
   "cell_type": "code",
   "source": [
    "%load_ext autoreload\n",
    "%autoreload 2"
   ],
   "id": "481c67eb4ed41555",
   "outputs": [],
   "execution_count": 75
  },
  {
   "metadata": {
    "ExecuteTime": {
     "end_time": "2025-01-28T01:04:03.819895Z",
     "start_time": "2025-01-28T01:04:03.806347Z"
    }
   },
   "cell_type": "code",
   "source": [
    "from src.genAIClient import GenerativeAIClient\n",
    "client = GenerativeAIClient()"
   ],
   "id": "d2b30958328e89d1",
   "outputs": [
    {
     "name": "stderr",
     "output_type": "stream",
     "text": [
      "2025-01-27 20:04:03,816 - INFO - Google Generative AI API configured successfully.\n"
     ]
    }
   ],
   "execution_count": 76
  },
  {
   "metadata": {},
   "cell_type": "markdown",
   "source": [
    "# I. APE\n",
    "## 1."
   ],
   "id": "bba467b7e2795fc2"
  },
  {
   "metadata": {
    "ExecuteTime": {
     "end_time": "2025-01-28T01:31:57.206217Z",
     "start_time": "2025-01-28T01:31:51.698426Z"
    }
   },
   "cell_type": "code",
   "source": [
    "from src.genAIClient import GenerativeAIClient\n",
    "\n",
    "client=GenerativeAIClient()\n",
    "\n",
    "system=\"\"\"You are a world-leading expert in LLM prompt engineering.\n",
    "You will be given a prompt and one or more test cases. Your job is to optimize the given prompt template using prompt engineering best practices.\n",
    "\n",
    "# Definition\n",
    "Prompt engineering is the process of discovering prompts which reliably yield useful or desired results.\n",
    "\n",
    "# Prompt Engineering best practices include :\n",
    "1. Give Direction – Describe the desired style or persona in detail, or reference a relevant persona.\n",
    "2. Specify Format – Define what rules to follow, and the required structure of the response.\n",
    "3. Provide Examples – Insert a diverse set of test cases where the task was done correctly.\n",
    "\"\"\"\n",
    "\n",
    "requirements = \"\"\"\n",
    "# Requirements\n",
    "1. Abide by the \"Prompt Engineering best practices\" (DO NOT INCLUDE IN THE OUTPUT).\n",
    "2. Generate at least 2-3 of your own examples similar to the \"Test Cases\".\n",
    "\"\"\"\n",
    "\n",
    "prompt=\"\"\"\n",
    "# Given Prompt Template:\n",
    "Give me a list of product names for <input_var>{product_description}</input_var>.\n",
    "\n",
    "# Test Cases:\n",
    "## product_description: \"a shoe that can fit any foot size\"\n",
    "## Example Responses: AdaptSoles, OmniFit, iFitWalkers, ShapeShift\n",
    "\n",
    "Respond only with your optimized prompt template.\n",
    "\"\"\"\n",
    "\n",
    "output=client.invoke(prompt, system + requirements)\n",
    "print(output)\n",
    "# print(prompt)"
   ],
   "id": "d399835e51696d3a",
   "outputs": [
    {
     "name": "stderr",
     "output_type": "stream",
     "text": [
      "2025-01-27 20:31:51,707 - INFO - Google Generative AI API configured successfully.\n",
      "2025-01-27 20:31:54,713 - INFO - Initialized model: gemini-pro\n"
     ]
    },
    {
     "name": "stdout",
     "output_type": "stream",
     "text": [
      "**Optimized Prompt Template:**\n",
      "\n",
      "Give me a list of creative product names for {product_description} that are memorable, easy to pronounce, and relevant to the product's unique features. Include at least 5 names and provide a brief explanation for each.\n",
      "\n",
      "**Additional Examples:**\n",
      "\n",
      "* **product_description:** \"a self-driving car\"\n",
      "  * **Example Responses:** AutoPilot, Wheeless, RoadRunner, NavigateIQ, CruiseControl\n",
      "* **product_description:** \"a virtual reality headset\"\n",
      "  * **Example Responses:** DreamScape, HyperVision, Immerse, RealityVerse, HorizonXR\n"
     ]
    }
   ],
   "execution_count": 103
  },
  {
   "metadata": {},
   "cell_type": "markdown",
   "source": "# II. APE",
   "id": "d18240799c6cd067"
  },
  {
   "metadata": {},
   "cell_type": "markdown",
   "source": [
    "## 1.\n",
    "### 1.1\n",
    "### 1.2"
   ],
   "id": "fa23df25e50a8e65"
  },
  {
   "metadata": {
    "ExecuteTime": {
     "end_time": "2025-01-28T01:05:41.511903Z",
     "start_time": "2025-01-28T01:05:41.500205Z"
    }
   },
   "cell_type": "code",
   "source": [
    "requirements = \"\"\"\n",
    "# Requirements\n",
    "Your prompt template must take context from the user in the form of relevant input variables surrounded by curly brackets i.e. {input_variable}. These placeholders should be labelled in the template as they will be replaced with values when the prompt is used. Your prompt should provide multiple examples of different values the input variables might take, and what the expected responses would be in these test cases.\n",
    "\"\"\""
   ],
   "id": "4accaee55c9295a",
   "outputs": [],
   "execution_count": 80
  },
  {
   "metadata": {
    "ExecuteTime": {
     "end_time": "2025-01-28T01:05:42.186239Z",
     "start_time": "2025-01-28T01:05:42.173822Z"
    }
   },
   "cell_type": "code",
   "source": "print(requirements)",
   "id": "bc17eff6eb6dd4cf",
   "outputs": [
    {
     "name": "stdout",
     "output_type": "stream",
     "text": [
      "\n",
      "# Requirements\n",
      "Your prompt template must take context from the user in the form of relevant input variables surrounded by curly brackets i.e. {input_variable}. These placeholders should be labelled in the template as they will be replaced with values when the prompt is used. Your prompt should provide multiple examples of different values the input variables might take, and what the expected responses would be in these test cases.\n",
      "\n"
     ]
    }
   ],
   "execution_count": 81
  },
  {
   "metadata": {},
   "cell_type": "code",
   "outputs": [],
   "execution_count": null,
   "source": [
    "output=client.invoke(prompt, system + requirements)\n",
    "print(output)"
   ],
   "id": "c862f4a4caefc878"
  }
 ],
 "metadata": {
  "kernelspec": {
   "display_name": "Python 3",
   "language": "python",
   "name": "python3"
  },
  "language_info": {
   "codemirror_mode": {
    "name": "ipython",
    "version": 2
   },
   "file_extension": ".py",
   "mimetype": "text/x-python",
   "name": "python",
   "nbconvert_exporter": "python",
   "pygments_lexer": "ipython2",
   "version": "2.7.6"
  }
 },
 "nbformat": 4,
 "nbformat_minor": 5
}
