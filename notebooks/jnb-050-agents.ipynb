{
 "nbformat": 4,
 "nbformat_minor": 0,
 "metadata": {
  "colab": {
   "provenance": []
  },
  "kernelspec": {
   "name": "python3",
   "display_name": "Python 3 (ipykernel)",
   "language": "python"
  },
  "language_info": {
   "name": "python"
  }
 },
 "cells": [
  {
   "cell_type": "markdown",
   "source": [
    "## **Agents**\n",
    "\n",
    "An agent-based workflow where LLMs act autonomously within a loop, interacting with their environment and receiving feedback to refine their actions and decisions.\n",
    "\n",
    "<img src=\"https://raw.githubusercontent.com/BrightPool/udemy-prompt-engineering-course/refs/heads/main/images/autonomous-agent.webp\" alt=\"Agents\" width=\"500\">\n"
   ],
   "metadata": {
    "id": "GxH3WsgZggVt"
   }
  },
  {
   "cell_type": "code",
   "source": [],
   "metadata": {
    "id": "c449VZvYM80a"
   },
   "execution_count": null,
   "outputs": []
  },
  {
   "cell_type": "markdown",
   "metadata": {
    "vscode": {
     "languageId": "plaintext"
    },
    "id": "tkKKajkIgack"
   },
   "source": [
    "## **Use Cases:**\n",
    "\n",
    "- Building a personal research assistant that autonomously searches academic papers, extracts key findings, and generates literature review summaries based on specific research questions.\n",
    "- Creating an autonomous code reviewer that analyzes pull requests, identifies potential bugs and security issues, suggests improvements, and generates detailed review comments.\n",
    "- Developing a customer support agent that handles inquiries by searching knowledge bases, generating appropriate responses, and escalating complex issues to human agents when needed.\n",
    "- Managing social media presence by analyzing trending topics, generating relevant content, scheduling posts, and engaging with followers through personalized responses.\n",
    "- Building an autonomous testing agent that generates test cases, executes tests, analyzes failures, and provides detailed bug reports with suggested fixes.\n",
    "- Creating a data monitoring agent that continuously analyzes system metrics, detects anomalies, investigates root causes, and generates incident reports with recommended actions."
   ]
  },
  {
   "cell_type": "code",
   "execution_count": null,
   "metadata": {
    "id": "4oqelKGFgacl",
    "colab": {
     "base_uri": "https://localhost:8080/"
    },
    "outputId": "2c85c3d3-bdd7-4cfc-bf0b-d586fa080037"
   },
   "outputs": [
    {
     "output_type": "stream",
     "name": "stdout",
     "text": [
      "Requirement already satisfied: openai in /usr/local/lib/python3.11/dist-packages (1.61.1)\n",
      "Collecting openai\n",
      "  Downloading openai-1.66.3-py3-none-any.whl.metadata (25 kB)\n",
      "Requirement already satisfied: pydantic in /usr/local/lib/python3.11/dist-packages (2.10.6)\n",
      "Requirement already satisfied: anyio<5,>=3.5.0 in /usr/local/lib/python3.11/dist-packages (from openai) (3.7.1)\n",
      "Requirement already satisfied: distro<2,>=1.7.0 in /usr/local/lib/python3.11/dist-packages (from openai) (1.9.0)\n",
      "Requirement already satisfied: httpx<1,>=0.23.0 in /usr/local/lib/python3.11/dist-packages (from openai) (0.28.1)\n",
      "Requirement already satisfied: jiter<1,>=0.4.0 in /usr/local/lib/python3.11/dist-packages (from openai) (0.9.0)\n",
      "Requirement already satisfied: sniffio in /usr/local/lib/python3.11/dist-packages (from openai) (1.3.1)\n",
      "Requirement already satisfied: tqdm>4 in /usr/local/lib/python3.11/dist-packages (from openai) (4.67.1)\n",
      "Requirement already satisfied: typing-extensions<5,>=4.11 in /usr/local/lib/python3.11/dist-packages (from openai) (4.12.2)\n",
      "Requirement already satisfied: annotated-types>=0.6.0 in /usr/local/lib/python3.11/dist-packages (from pydantic) (0.7.0)\n",
      "Requirement already satisfied: pydantic-core==2.27.2 in /usr/local/lib/python3.11/dist-packages (from pydantic) (2.27.2)\n",
      "Requirement already satisfied: idna>=2.8 in /usr/local/lib/python3.11/dist-packages (from anyio<5,>=3.5.0->openai) (3.10)\n",
      "Requirement already satisfied: certifi in /usr/local/lib/python3.11/dist-packages (from httpx<1,>=0.23.0->openai) (2025.1.31)\n",
      "Requirement already satisfied: httpcore==1.* in /usr/local/lib/python3.11/dist-packages (from httpx<1,>=0.23.0->openai) (1.0.7)\n",
      "Requirement already satisfied: h11<0.15,>=0.13 in /usr/local/lib/python3.11/dist-packages (from httpcore==1.*->httpx<1,>=0.23.0->openai) (0.14.0)\n",
      "Downloading openai-1.66.3-py3-none-any.whl (567 kB)\n",
      "\u001B[2K   \u001B[90m━━━━━━━━━━━━━━━━━━━━━━━━━━━━━━━━━━━━━━━━\u001B[0m \u001B[32m567.4/567.4 kB\u001B[0m \u001B[31m5.9 MB/s\u001B[0m eta \u001B[36m0:00:00\u001B[0m\n",
      "\u001B[?25hInstalling collected packages: openai\n",
      "  Attempting uninstall: openai\n",
      "    Found existing installation: openai 1.61.1\n",
      "    Uninstalling openai-1.61.1:\n",
      "      Successfully uninstalled openai-1.61.1\n",
      "Successfully installed openai-1.66.3\n"
     ]
    }
   ],
   "source": [
    "%pip install openai pydantic --upgrade"
   ]
  },
  {
   "cell_type": "code",
   "metadata": {
    "id": "D4MAmCHEgacl",
    "ExecuteTime": {
     "end_time": "2025-04-07T00:46:11.726421Z",
     "start_time": "2025-04-07T00:46:11.715761Z"
    }
   },
   "source": [
    "import json\n",
    "import os\n",
    "from dotenv import load_dotenv\n",
    "from openai import OpenAI"
   ],
   "outputs": [],
   "execution_count": 7
  },
  {
   "cell_type": "code",
   "metadata": {
    "id": "g6n2T9Flgacl",
    "ExecuteTime": {
     "end_time": "2025-04-07T00:46:17.994210Z",
     "start_time": "2025-04-07T00:46:17.931004Z"
    }
   },
   "source": [
    "load_dotenv()\n",
    "client = OpenAI(api_key=os.environ.get(\"OPENAI_API_KEY\"))\n",
    "MODEL=\"gpt-4o\""
   ],
   "outputs": [],
   "execution_count": 9
  },
  {
   "cell_type": "code",
   "metadata": {
    "id": "EZAJtyKvgacl",
    "ExecuteTime": {
     "end_time": "2025-04-07T00:48:15.687253Z",
     "start_time": "2025-04-07T00:48:14.989949Z"
    }
   },
   "source": [
    "# Here we define a sample function the agent can call.\n",
    "# In practice, you might connect to real APIs or services for your agent's tasks.\n",
    "def search_knowledge_base(query: str) -> str:\n",
    "    \"\"\"\n",
    "    Pretend to look for information about the provided query in a knowledge base.\n",
    "    Returns a brief summary as a string.\n",
    "    \"\"\"\n",
    "    # For demonstration, we'll return a placeholder string.\n",
    "    # In a real scenario, you'd perform a search and generate a proper result.\n",
    "    return f\"Summary for '{query}': This is a simulated summary from the knowledge base.\"\n",
    "\n",
    "def generate_keywords(query: str) -> str:\n",
    "    \"\"\"\n",
    "    Pretend to generate keywords for the provided query.\n",
    "    Returns a comma-separated string of keywords.\n",
    "    \"\"\"\n",
    "    return f\" The keywords for the '{query}': This has a list of 3 keywords from the knowledge base.\"\n",
    "\n",
    "# Next, we define our function schema to provide to the model.\n",
    "tools = [{\n",
    "    \"type\": \"function\",\n",
    "    \"function\": {\n",
    "        \"name\": \"search_knowledge_base\",\n",
    "        \"description\": \"Query a knowledge base to retrieve relevant info on a topic.\",\n",
    "        \"parameters\": {\n",
    "            \"type\": \"object\",\n",
    "            \"properties\": {\n",
    "                \"query\": {\n",
    "                    \"type\": \"string\",\n",
    "                    \"description\": \"The user question or search query.\"\n",
    "                },\n",
    "            },\n",
    "            \"required\": [\n",
    "                \"query\",\n",
    "            ],\n",
    "            \"additionalProperties\": False\n",
    "        },\n",
    "        \"strict\": True\n",
    "    }\n",
    "},{\n",
    "    \"type\": \"function\",\n",
    "    \"function\": {\n",
    "        \"name\": \"generate_keywords\",\n",
    "        \"description\": \"Query a knowledge base to retrieve relevant keywords about a topic.\",\n",
    "        \"parameters\": {\n",
    "            \"type\": \"object\",\n",
    "            \"properties\": {\n",
    "                \"query\": {\n",
    "                    \"type\": \"string\",\n",
    "                    \"description\": \"The user question or search query.\"\n",
    "                },\n",
    "            },\n",
    "            \"required\": [\n",
    "                \"query\",\n",
    "            ],\n",
    "            \"additionalProperties\": False\n",
    "        },\n",
    "        \"strict\": True\n",
    "    }\n",
    "  }\n",
    "]\n",
    "\n",
    "# We simulate a user asking the agent a question that might prompt the model to call the function.\n",
    "messages = [\n",
    "    {\n",
    "        \"role\": \"user\",\n",
    "        \"content\": \"Hello, I'd like to know more about quantum computing.\"\n",
    "    }\n",
    "]\n",
    "\n",
    "# Step 1: We call the model, providing the function tools. The model may decide to call the tool.\n",
    "completion_1 = client.chat.completions.create(\n",
    "    model=MODEL,\n",
    "    messages=messages,\n",
    "    tools=tools\n",
    ")"
   ],
   "outputs": [],
   "execution_count": 10
  },
  {
   "cell_type": "markdown",
   "source": [],
   "metadata": {
    "id": "qAZM4RKFuiBL"
   }
  },
  {
   "cell_type": "code",
   "metadata": {
    "id": "wMShoo57gacm",
    "outputId": "a76b844a-fe54-4734-83c1-b957638c383c",
    "colab": {
     "base_uri": "https://localhost:8080/"
    },
    "ExecuteTime": {
     "end_time": "2025-04-07T00:48:34.063942Z",
     "start_time": "2025-04-07T00:48:34.060494Z"
    }
   },
   "source": [
    "# Step 2: The model might return a tool call. We'll check for any function calls and execute them.\n",
    "tool_calls = completion_1.choices[0].message.tool_calls\n",
    "\n",
    "results = []\n",
    "if tool_calls:\n",
    "    for call in tool_calls:\n",
    "        function_name = call.function.name\n",
    "        # Parse the JSON arguments:\n",
    "        function_args = json.loads(call.function.arguments)\n",
    "\n",
    "        if function_name == \"search_knowledge_base\":\n",
    "            print('Calling function - ', function_name)\n",
    "            search_result = search_knowledge_base(**function_args)\n",
    "            # We'll store the result and associate it with this tool_call\n",
    "            results.append(\n",
    "                {\n",
    "                    \"tool_call_id\": call.id,\n",
    "                    \"content\": search_result\n",
    "                }\n",
    "            )\n",
    "        if function_name ==  \"generate_keywords\":\n",
    "            print('Calling function - ', function_name)\n",
    "            keyword_result = generate_keywords(**function_args)\n",
    "            # We'll store the result and associate it with this tool_call\n",
    "            results.append(\n",
    "                {\n",
    "                    \"tool_call_id\": call.id,\n",
    "                    \"content\": keyword_result\n",
    "                }\n",
    "            )"
   ],
   "outputs": [
    {
     "name": "stdout",
     "output_type": "stream",
     "text": [
      "Calling function -  search_knowledge_base\n"
     ]
    }
   ],
   "execution_count": 11
  },
  {
   "cell_type": "code",
   "source": [
    "completion_1.choices[0].message"
   ],
   "metadata": {
    "colab": {
     "base_uri": "https://localhost:8080/"
    },
    "id": "IBhPIplBtn-v",
    "outputId": "18c5b9f2-d054-48ce-a140-fae3f3eec269",
    "ExecuteTime": {
     "end_time": "2025-04-07T00:48:39.182016Z",
     "start_time": "2025-04-07T00:48:39.176849Z"
    }
   },
   "outputs": [
    {
     "data": {
      "text/plain": [
       "ChatCompletionMessage(content=None, refusal=None, role='assistant', annotations=[], audio=None, function_call=None, tool_calls=[ChatCompletionMessageToolCall(id='call_nO13904J22RpQBuabmtc6QX1', function=Function(arguments='{\"query\":\"quantum computing\"}', name='search_knowledge_base'), type='function')])"
      ]
     },
     "execution_count": 12,
     "metadata": {},
     "output_type": "execute_result"
    }
   ],
   "execution_count": 12
  },
  {
   "cell_type": "code",
   "metadata": {
    "id": "w-rzsmk8gacm",
    "ExecuteTime": {
     "end_time": "2025-04-07T03:28:38.708966Z",
     "start_time": "2025-04-07T03:28:38.701264Z"
    }
   },
   "source": [
    "# Step 3: We send the results back to the model so it can incorporate them into its final answer.\n",
    "# We'll add both the original function call message and the tool's reply to our conversation.\n",
    "\n",
    "if tool_calls and results:\n",
    "    # Append the tool call message from the model\n",
    "    messages.append(completion_1.choices[0].message)\n",
    "    # Append our result(s) as 'tool' role messages\n",
    "    for r in results:\n",
    "        messages.append({\n",
    "            \"role\": \"tool\",\n",
    "            \"tool_call_id\": r[\"tool_call_id\"],\n",
    "            \"content\": r[\"content\"]\n",
    "        })\n",
    "messages"
   ],
   "outputs": [
    {
     "data": {
      "text/plain": [
       "[{'role': 'user',\n",
       "  'content': \"Hello, I'd like to know more about quantum computing.\"},\n",
       " ChatCompletionMessage(content=None, refusal=None, role='assistant', annotations=[], audio=None, function_call=None, tool_calls=[ChatCompletionMessageToolCall(id='call_fifbg1ofPCEB4RGzL1Ha1VkQ', function=Function(arguments='{\"query\":\"quantum computing\"}', name='search_knowledge_base'), type='function')]),\n",
       " {'role': 'tool',\n",
       "  'tool_call_id': 'call_fifbg1ofPCEB4RGzL1Ha1VkQ',\n",
       "  'content': 'Here is a summary of the topic you asked for quantum computing : \\n'}]"
      ]
     },
     "execution_count": 19,
     "metadata": {},
     "output_type": "execute_result"
    }
   ],
   "execution_count": 19
  },
  {
   "cell_type": "code",
   "metadata": {
    "id": "6YTeXYRtgacm",
    "outputId": "d85873b4-c8d9-4d5a-8529-08fb88eda302",
    "colab": {
     "base_uri": "https://localhost:8080/"
    },
    "ExecuteTime": {
     "end_time": "2025-04-07T03:28:53.816293Z",
     "start_time": "2025-04-07T03:28:42.128149Z"
    }
   },
   "source": [
    "# Step 4: Make another call to the model, now that it has the tool's output.\n",
    "completion_2 = client.chat.completions.create(\n",
    "    model=MODEL,\n",
    "    messages=messages,\n",
    "    tools=tools\n",
    ")\n",
    "\n",
    "# Finally, we print out the model's final answer. This is how the user sees it.\n",
    "final_answer = completion_2.choices[0].message.content\n",
    "print(\"Final Answer from Agent:\")\n",
    "print(final_answer)"
   ],
   "outputs": [
    {
     "name": "stdout",
     "output_type": "stream",
     "text": [
      "Final Answer from Agent:\n",
      "Quantum computing is an advanced field of computing based on the principles of quantum mechanics, a fundamental theory in physics that describes the nature of matter and energy on an atomic and subatomic level. Unlike classical computers, which use bits as the smallest unit of data and operate on binary states (0 or 1), quantum computers utilize quantum bits, or qubits, which can exist in multiple states at once due to the phenomenon known as superposition.\n",
      "\n",
      "**Key Concepts in Quantum Computing:**\n",
      "\n",
      "1. **Superposition:** This property allows qubits to be in a combination of 0 and 1 states simultaneously. This means a quantum computer can process a vast number of possibilities at once, increasing its computational power exponentially for certain tasks.\n",
      "\n",
      "2. **Entanglement:** Qubits can be entangled, meaning the state of one qubit is directly related to the state of another, no matter the distance between them. This property enables quantum computers to solve complex problems more efficiently than classical computing.\n",
      "\n",
      "3. **Quantum Gates:** Similar to classical logic gates, quantum gates manipulate an input of qubits into a different output. Quantum gates are reversible, unlike their classical counterparts.\n",
      "\n",
      "4. **Quantum Decoherence:** This is a process in which quantum states lose their quantum properties due to interaction with the environment, posing significant challenges for maintaining qubit integrity during computation.\n",
      "\n",
      "**Potential Applications:**\n",
      "\n",
      "- **Cryptography:** Quantum computing could break conventional encryption methods, but it can also provide new, unbreakable cryptographic protocols through quantum key distribution.\n",
      "- **Optimization Problems:** Quantum computers can solve complex optimization problems more efficiently, which is valuable in fields like logistics and supply chain management.\n",
      "- **Drug Discovery and Material Science:** Quantum computing can simulate molecular structures and interactions at an atomic level, facilitating faster drug discovery and materials innovation.\n",
      "\n",
      "**Challenges:**\n",
      "\n",
      "- **Error Rates:** Quantum computations are prone to errors due to decoherence and noise, necessitating the development of sophisticated error correction algorithms.\n",
      "- **Scalability:** Building large-scale quantum computers requires precise control and isolation of qubits, which is technologically challenging.\n",
      "\n",
      "Quantum computing remains a rapidly developing field, with ongoing research focused on overcoming these challenges and developing practical quantum algorithms. Major tech companies and research institutions are investing heavily in this area to unlock its full potential.\n"
     ]
    }
   ],
   "execution_count": 20
  },
  {
   "cell_type": "markdown",
   "metadata": {
    "id": "gCK23cBTgacm"
   },
   "source": [
    "------------------------------"
   ]
  },
  {
   "cell_type": "markdown",
   "metadata": {
    "id": "S-lICUbcgacm"
   },
   "source": [
    "## An Alternative Approach\n",
    "\n",
    "If an agent has finished all of it's tool calls, then it has likely finished with the task.\n",
    "\n",
    "Therefore we could also write the above code within a while loop that checks if the agent has finished all of it's tool calls. If it has, then we can break the loop."
   ]
  },
  {
   "cell_type": "code",
   "metadata": {
    "id": "tu75lMb3gacm",
    "ExecuteTime": {
     "end_time": "2025-04-07T00:51:24.366218Z",
     "start_time": "2025-04-07T00:51:24.363151Z"
    }
   },
   "source": [
    "def search_knowledge_base(query: str) -> str:\n",
    "    \"\"\"\n",
    "    Pretend to look for information about the provided query in a knowledge base.\n",
    "    \"\"\"\n",
    "    return f\"Here is a summary of the topic you asked for {query} : \\n\"\n",
    "\n",
    "def generate_keywords(query: str) -> str:\n",
    "    \"\"\"\n",
    "    Pretend to generate keywords for the provided query.\n",
    "    Returns a comma-separated string of keywords.\n",
    "    \"\"\"\n",
    "    return f\" The keywords for the '{query}': This has a list of 3 keywords from the knowledge base.\""
   ],
   "outputs": [],
   "execution_count": 16
  },
  {
   "cell_type": "code",
   "metadata": {
    "id": "PcKUElEagacm",
    "ExecuteTime": {
     "end_time": "2025-04-07T00:51:40.377912Z",
     "start_time": "2025-04-07T00:51:34.321930Z"
    }
   },
   "source": [
    "messages = [{\"role\": \"user\", \"content\": \"Hello, I'd like to know more about quantum computing.\"}]\n",
    "\n",
    "while True:\n",
    "    completion = client.chat.completions.create(model=MODEL, messages=messages, tools=tools)\n",
    "    tool_calls = completion.choices[0].message.tool_calls\n",
    "\n",
    "    if not tool_calls:\n",
    "        break\n",
    "\n",
    "    results = [] # Store results for this iteration\n",
    "    for call in tool_calls:\n",
    "        messages.append(completion.choices[0].message)\n",
    "\n",
    "        function_name = call.function.name\n",
    "        function_args = json.loads(call.function.arguments)\n",
    "\n",
    "        if function_name == \"search_knowledge_base\":\n",
    "            result = search_knowledge_base(**function_args)\n",
    "        elif function_name == \"generate_keywords\":\n",
    "            result = generate_keywords(**function_args)\n",
    "        else:\n",
    "            result = \"Error: Unknown function\"\n",
    "\n",
    "        # Store the result with its corresponding tool_call_id\n",
    "        results.append({\"tool_call_id\": call.id, \"content\": result})\n",
    "\n",
    "    # Append the results to the messages list after processing all tool calls\n",
    "    for r in results:\n",
    "        messages.append({\"role\": \"tool\", \"tool_call_id\": r[\"tool_call_id\"], \"content\": r[\"content\"]})"
   ],
   "outputs": [],
   "execution_count": 17
  },
  {
   "cell_type": "code",
   "source": [
    "final_answer = completion.choices[0].message.content\n",
    "print(\"Final Answer from Agent:\")\n",
    "print(final_answer)"
   ],
   "metadata": {
    "colab": {
     "base_uri": "https://localhost:8080/"
    },
    "id": "Rx3tlxMBrkP5",
    "outputId": "2d6495ec-4764-4dc7-99fe-2c26035795ae",
    "ExecuteTime": {
     "end_time": "2025-04-07T00:51:45.811488Z",
     "start_time": "2025-04-07T00:51:45.809066Z"
    }
   },
   "outputs": [
    {
     "name": "stdout",
     "output_type": "stream",
     "text": [
      "Final Answer from Agent:\n",
      "Quantum computing is an advanced field of computing based on the principles of quantum mechanics, which is a fundamental theory in physics describing nature at the smallest scales, such as that of atoms and subatomic particles.\n",
      "\n",
      "### Key Aspects of Quantum Computing:\n",
      "\n",
      "1. **Quantum Bits (Qubits):** Unlike classical computers that use bits (0 or 1), quantum computers use quantum bits or qubits, which can exist in multiple states at once, thanks to superposition—a fundamental principle of quantum mechanics.\n",
      "\n",
      "2. **Superposition:** This allows qubits to perform many calculations simultaneously, vastly increasing the computational power of quantum systems for certain tasks.\n",
      "\n",
      "3. **Entanglement:** Qubits can be entangled, a peculiar quantum phenomenon where the state of one qubit directly affects the state of another, no matter the distance between them. This property is harnessed for complex problem-solving and secure communications.\n",
      "\n",
      "4. **Quantum Gates and Circuits:** Just as traditional computers use logic gates to perform operations on bits, quantum computers use quantum gates to manipulate qubits. Quantum circuits are used to execute sequences of quantum gates.\n",
      "\n",
      "5. **Quantum Algorithms:** Certain algorithms, like Shor's algorithm for integer factorization and Grover's algorithm for searching unsorted databases, are designed to take full advantage of quantum computing's capabilities, offering exponential or quadratic speed-ups over the best-known classical counterparts.\n",
      "\n",
      "6. **Applications:** While still largely in experimental phases, potential applications include cryptography, optimization problems, drug discovery, materials science, and more.\n",
      "\n",
      "7. **Challenges:** Quantum computing faces many technical challenges, such as qubit decoherence and error rates, which researchers are actively working to overcome.\n",
      "\n",
      "The development of quantum computing could revolutionize industries by solving problems that are currently intractable for classical computers, opening up new frontiers in science and technology.\n"
     ]
    }
   ],
   "execution_count": 18
  },
  {
   "cell_type": "code",
   "source": [],
   "metadata": {
    "id": "Axu7g5UBvnsu"
   },
   "execution_count": null,
   "outputs": []
  }
 ]
}
