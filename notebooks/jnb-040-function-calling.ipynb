{
 "cells": [
  {
   "metadata": {
    "ExecuteTime": {
     "end_time": "2025-04-08T22:37:42.544935Z",
     "start_time": "2025-04-08T22:37:41.970764Z"
    }
   },
   "cell_type": "code",
   "source": "%pip install google-genai",
   "id": "d6a7bcd462525f7",
   "outputs": [
    {
     "name": "stdout",
     "output_type": "stream",
     "text": [
      "Requirement already satisfied: google-genai in /Users/imadu/PycharmProjects/pyPromptEngg/.venv/lib/python3.12/site-packages (1.9.0)\r\n",
      "Requirement already satisfied: anyio<5.0.0,>=4.8.0 in /Users/imadu/PycharmProjects/pyPromptEngg/.venv/lib/python3.12/site-packages (from google-genai) (4.9.0)\r\n",
      "Requirement already satisfied: google-auth<3.0.0,>=2.14.1 in /Users/imadu/PycharmProjects/pyPromptEngg/.venv/lib/python3.12/site-packages (from google-genai) (2.34.0)\r\n",
      "Requirement already satisfied: httpx<1.0.0,>=0.28.1 in /Users/imadu/PycharmProjects/pyPromptEngg/.venv/lib/python3.12/site-packages (from google-genai) (0.28.1)\r\n",
      "Requirement already satisfied: pydantic<3.0.0,>=2.0.0 in /Users/imadu/PycharmProjects/pyPromptEngg/.venv/lib/python3.12/site-packages (from google-genai) (2.9.0)\r\n",
      "Requirement already satisfied: requests<3.0.0,>=2.28.1 in /Users/imadu/PycharmProjects/pyPromptEngg/.venv/lib/python3.12/site-packages (from google-genai) (2.32.3)\r\n",
      "Requirement already satisfied: websockets<15.1.0,>=13.0.0 in /Users/imadu/PycharmProjects/pyPromptEngg/.venv/lib/python3.12/site-packages (from google-genai) (15.0.1)\r\n",
      "Requirement already satisfied: typing-extensions<5.0.0,>=4.11.0 in /Users/imadu/PycharmProjects/pyPromptEngg/.venv/lib/python3.12/site-packages (from google-genai) (4.12.2)\r\n",
      "Requirement already satisfied: idna>=2.8 in /Users/imadu/PycharmProjects/pyPromptEngg/.venv/lib/python3.12/site-packages (from anyio<5.0.0,>=4.8.0->google-genai) (3.8)\r\n",
      "Requirement already satisfied: sniffio>=1.1 in /Users/imadu/PycharmProjects/pyPromptEngg/.venv/lib/python3.12/site-packages (from anyio<5.0.0,>=4.8.0->google-genai) (1.3.1)\r\n",
      "Requirement already satisfied: cachetools<6.0,>=2.0.0 in /Users/imadu/PycharmProjects/pyPromptEngg/.venv/lib/python3.12/site-packages (from google-auth<3.0.0,>=2.14.1->google-genai) (5.5.0)\r\n",
      "Requirement already satisfied: pyasn1-modules>=0.2.1 in /Users/imadu/PycharmProjects/pyPromptEngg/.venv/lib/python3.12/site-packages (from google-auth<3.0.0,>=2.14.1->google-genai) (0.4.0)\r\n",
      "Requirement already satisfied: rsa<5,>=3.1.4 in /Users/imadu/PycharmProjects/pyPromptEngg/.venv/lib/python3.12/site-packages (from google-auth<3.0.0,>=2.14.1->google-genai) (4.9)\r\n",
      "Requirement already satisfied: certifi in /Users/imadu/PycharmProjects/pyPromptEngg/.venv/lib/python3.12/site-packages (from httpx<1.0.0,>=0.28.1->google-genai) (2024.8.30)\r\n",
      "Requirement already satisfied: httpcore==1.* in /Users/imadu/PycharmProjects/pyPromptEngg/.venv/lib/python3.12/site-packages (from httpx<1.0.0,>=0.28.1->google-genai) (1.0.5)\r\n",
      "Requirement already satisfied: h11<0.15,>=0.13 in /Users/imadu/PycharmProjects/pyPromptEngg/.venv/lib/python3.12/site-packages (from httpcore==1.*->httpx<1.0.0,>=0.28.1->google-genai) (0.14.0)\r\n",
      "Requirement already satisfied: annotated-types>=0.4.0 in /Users/imadu/PycharmProjects/pyPromptEngg/.venv/lib/python3.12/site-packages (from pydantic<3.0.0,>=2.0.0->google-genai) (0.7.0)\r\n",
      "Requirement already satisfied: pydantic-core==2.23.2 in /Users/imadu/PycharmProjects/pyPromptEngg/.venv/lib/python3.12/site-packages (from pydantic<3.0.0,>=2.0.0->google-genai) (2.23.2)\r\n",
      "Requirement already satisfied: tzdata in /Users/imadu/PycharmProjects/pyPromptEngg/.venv/lib/python3.12/site-packages (from pydantic<3.0.0,>=2.0.0->google-genai) (2024.1)\r\n",
      "Requirement already satisfied: charset-normalizer<4,>=2 in /Users/imadu/PycharmProjects/pyPromptEngg/.venv/lib/python3.12/site-packages (from requests<3.0.0,>=2.28.1->google-genai) (3.3.2)\r\n",
      "Requirement already satisfied: urllib3<3,>=1.21.1 in /Users/imadu/PycharmProjects/pyPromptEngg/.venv/lib/python3.12/site-packages (from requests<3.0.0,>=2.28.1->google-genai) (2.2.2)\r\n",
      "Requirement already satisfied: pyasn1<0.7.0,>=0.4.6 in /Users/imadu/PycharmProjects/pyPromptEngg/.venv/lib/python3.12/site-packages (from pyasn1-modules>=0.2.1->google-auth<3.0.0,>=2.14.1->google-genai) (0.6.0)\r\n",
      "Note: you may need to restart the kernel to use updated packages.\n"
     ]
    }
   ],
   "execution_count": 1
  },
  {
   "metadata": {},
   "cell_type": "markdown",
   "source": "# Source: https://ai.google.dev/gemini-api/docs/function-calling?example=weather#automatic_function_calling_python_only",
   "id": "8a527c87036fa480"
  },
  {
   "metadata": {
    "collapsed": true,
    "ExecuteTime": {
     "end_time": "2025-04-07T02:36:18.162434Z",
     "start_time": "2025-04-07T02:36:17.774671Z"
    }
   },
   "cell_type": "code",
   "outputs": [],
   "execution_count": 1,
   "source": [
    "from google import genai\n",
    "from google.genai import types\n",
    "import os\n",
    "from dotenv import load_dotenv\n",
    "\n",
    "load_dotenv()\n",
    "\n",
    "client = genai.Client(api_key=os.getenv(\"GEMINI_API_KEY\"))\n"
   ],
   "id": "initial_id"
  },
  {
   "metadata": {
    "ExecuteTime": {
     "end_time": "2025-04-07T02:37:18.061667Z",
     "start_time": "2025-04-07T02:37:17.090126Z"
    }
   },
   "cell_type": "code",
   "source": [
    "prompt = \"What's the weather like in Philly, PA?\"\n",
    "\n",
    "response = client.models.generate_content(\n",
    "    model=\"gemini-2.0-flash\",\n",
    "    contents=prompt)\n",
    "\n",
    "print(response.text)\n"
   ],
   "id": "f0ecc1d4d7c1404d",
   "outputs": [
    {
     "name": "stdout",
     "output_type": "stream",
     "text": [
      "I don't have live, real-time access to weather information. To find out the current weather in Philadelphia, PA, I recommend checking a reliable weather source like:\n",
      "\n",
      "*   **A weather website or app:** AccuWeather, The Weather Channel, Google Weather, etc.\n",
      "*   **Your local news channel's website or app:** They usually have up-to-the-minute forecasts.\n"
     ]
    }
   ],
   "execution_count": 4
  },
  {
   "metadata": {
    "ExecuteTime": {
     "end_time": "2025-04-07T02:37:52.552918Z",
     "start_time": "2025-04-07T02:37:50.970735Z"
    }
   },
   "cell_type": "code",
   "source": [
    "def get_current_weather(location: str):\n",
    "    \"\"\"Gets the current weather conditions for a given location.\n",
    "\n",
    "    Args:\n",
    "        location: The city and state, e.g. San Francisco, CA\n",
    "\n",
    "    Returns:\n",
    "        A dictionary containing the temperature(e.g. 70), unit, feels_like (e.g. 65), condition(e.g. cloudy), humidity and wind_speed.\n",
    "    \"\"\"\n",
    "\n",
    "    return {\n",
    "        \"location\": location,\n",
    "        \"temperature\": 61.0,\n",
    "        \"unit\": \"fahrenheit\",\n",
    "        \"feels_like\": 59.0,\n",
    "        \"condition\": \"Partly cloudy\",\n",
    "        \"humidity\": 30,\n",
    "        \"wind_speed\": \"2.2 mph\"\n",
    "    }\n",
    "\n",
    "config = types.GenerateContentConfig(\n",
    "    tools=[get_current_weather]\n",
    ")  # Pass the function itself\n",
    "\n",
    "# Make the request\n",
    "response = client.models.generate_content(\n",
    "    model=\"gemini-2.0-flash\",\n",
    "    contents=prompt,\n",
    "    config=config,\n",
    ")\n",
    "\n",
    "print(response.text)"
   ],
   "id": "3e99b12a4d0eae62",
   "outputs": [
    {
     "name": "stdout",
     "output_type": "stream",
     "text": [
      "It's partly cloudy in Philly, PA. The temperature is 61 degrees Fahrenheit, but it feels like 61. The humidity is 30% and the wind speed is 2.2 mph.\n",
      "\n"
     ]
    }
   ],
   "execution_count": 6
  },
  {
   "metadata": {
    "ExecuteTime": {
     "end_time": "2025-04-07T02:41:39.110793Z",
     "start_time": "2025-04-07T02:41:39.106606Z"
    }
   },
   "cell_type": "code",
   "source": "import src.current_weather as cw",
   "id": "a736b04fa87811",
   "outputs": [],
   "execution_count": 7
  },
  {
   "metadata": {
    "ExecuteTime": {
     "end_time": "2025-04-07T02:42:09.504704Z",
     "start_time": "2025-04-07T02:42:09.136293Z"
    }
   },
   "cell_type": "code",
   "source": [
    "city = \"Philadelphia, PA\"\n",
    "weather_info = cw.get_current_weather(city)\n",
    "print(weather_info)"
   ],
   "id": "920730bf69cd1936",
   "outputs": [
    {
     "name": "stdout",
     "output_type": "stream",
     "text": [
      "{\"location\": \"Philadelphia, PA\", \"temperature\": 50.4, \"unit\": \"fahrenheit\", \"feels_like\": 48.3, \"condition\": \"Light rain\", \"humidity\": 75, \"wind_speed\": \"5.6 mph\"}\n"
     ]
    }
   ],
   "execution_count": 8
  },
  {
   "metadata": {
    "ExecuteTime": {
     "end_time": "2025-04-07T02:44:03.706316Z",
     "start_time": "2025-04-07T02:44:03.434151Z"
    }
   },
   "cell_type": "code",
   "source": [
    "def get_current_weather(location: str):\n",
    "    \"\"\"Gets the current weather conditions for a given location.\n",
    "\n",
    "    Args:\n",
    "        location: The city and state, e.g. San Francisco, CA\n",
    "\n",
    "    Returns:\n",
    "        A dictionary containing the temperature(e.g. 70), unit, feels_like (e.g. 65), condition(e.g. cloudy), humidity and wind_speed.\n",
    "    \"\"\"\n",
    "\n",
    "    return cw.get_current_weather(location)\n",
    "\n",
    "get_current_weather(city)"
   ],
   "id": "c249aebad87293fc",
   "outputs": [
    {
     "data": {
      "text/plain": [
       "'{\"location\": \"Philadelphia, PA\", \"temperature\": 50.4, \"unit\": \"fahrenheit\", \"feels_like\": 48.3, \"condition\": \"Light rain\", \"humidity\": 75, \"wind_speed\": \"5.6 mph\"}'"
      ]
     },
     "execution_count": 9,
     "metadata": {},
     "output_type": "execute_result"
    }
   ],
   "execution_count": 9
  },
  {
   "metadata": {
    "ExecuteTime": {
     "end_time": "2025-04-07T02:44:19.948999Z",
     "start_time": "2025-04-07T02:44:18.115535Z"
    }
   },
   "cell_type": "code",
   "source": [
    "config=types.GenerateContentConfig(\n",
    "    tools=[get_current_weather]\n",
    ")  # Pass the function itself\n",
    "\n",
    "# Make the request\n",
    "response=client.models.generate_content(\n",
    "    model=\"gemini-2.0-flash\",\n",
    "    contents=prompt,\n",
    "    config=config,\n",
    ")\n",
    "\n",
    "print(response.text)"
   ],
   "id": "5cca5d866d0d3168",
   "outputs": [
    {
     "name": "stdout",
     "output_type": "stream",
     "text": [
      "It's partly cloudy in Philly, PA. The temperature is 78.8 degrees Fahrenheit, but it feels like 80.8. The humidity is 74%, and the wind speed is 2.2 mph.\n",
      "\n"
     ]
    }
   ],
   "execution_count": 10
  },
  {
   "metadata": {},
   "cell_type": "code",
   "outputs": [],
   "execution_count": null,
   "source": "",
   "id": "aed95632bd56b098"
  }
 ],
 "metadata": {
  "kernelspec": {
   "display_name": "Python 3",
   "language": "python",
   "name": "python3"
  },
  "language_info": {
   "codemirror_mode": {
    "name": "ipython",
    "version": 2
   },
   "file_extension": ".py",
   "mimetype": "text/x-python",
   "name": "python",
   "nbconvert_exporter": "python",
   "pygments_lexer": "ipython2",
   "version": "2.7.6"
  }
 },
 "nbformat": 4,
 "nbformat_minor": 5
}
