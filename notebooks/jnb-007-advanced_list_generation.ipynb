{
 "cells": [
  {
   "cell_type": "code",
   "metadata": {
    "id": "jaertlAyGoEq",
    "ExecuteTime": {
     "end_time": "2025-02-05T22:36:46.053539Z",
     "start_time": "2025-02-05T22:36:45.770832Z"
    }
   },
   "source": [
    "%load_ext autoreload\n",
    "%autoreload 2\n",
    "import re\n",
    "import json\n",
    "from src.fnUtils import render_markdown\n",
    "from src.genAIClient import GenerativeAIClient\n",
    "from utils.file_ops import save_to_text\n",
    "\n",
    "client = GenerativeAIClient(show_info_log=False)"
   ],
   "outputs": [],
   "execution_count": 2
  },
  {
   "cell_type": "code",
   "metadata": {
    "colab": {
     "base_uri": "https://localhost:8080/",
     "height": 35
    },
    "id": "8LJmYsdt_dOD",
    "outputId": "9fc9979f-68e5-4ca9-becb-0c23765413de",
    "ExecuteTime": {
     "end_time": "2025-02-05T22:48:06.984812Z",
     "start_time": "2025-02-05T22:48:05.979408Z"
    }
   },
   "source": [
    "def complete(prompt):\n",
    "    output=client.invoke(prompt=prompt)\n",
    "    return output\n",
    "\n",
    "complete(\"Tell me an inspiring quote.\")"
   ],
   "outputs": [
    {
     "data": {
      "text/plain": [
       "'\"The future belongs to those who believe in the beauty of their dreams.\" - Eleanor Roosevelt'"
      ]
     },
     "execution_count": 6,
     "metadata": {},
     "output_type": "execute_result"
    }
   ],
   "execution_count": 6
  },
  {
   "cell_type": "code",
   "metadata": {
    "colab": {
     "base_uri": "https://localhost:8080/",
     "height": 142
    },
    "id": "3kqZ8by6EaQf",
    "outputId": "44cc3d80-ad08-49c0-c6ba-2e32e16c59ae",
    "ExecuteTime": {
     "end_time": "2025-02-05T23:19:03.669833Z",
     "start_time": "2025-02-05T23:19:03.651627Z"
    }
   },
   "source": [
    "# Setup the article title\n",
    "article = \"What is data engineering?\"\n",
    "# Inject the article title into the base prompt\n",
    "base_prompt = f\"\"\"\n",
    "Write a numbered, hierarchical outline for an article on \"{article}\"\n",
    "\n",
    "Here is an example, of the structure:\n",
    "\n",
    "1. Introduction\n",
    "    a. Definition of digital marketing\n",
    "2. Types of Digital Marketing\n",
    "    a. Search Engine Optimization\n",
    "    b. Social Media Marketing\n",
    "    c. Content Marketing\n",
    "    d. Pay-Per-Click Advertising\n",
    "    e. Email Marketing\n",
    "3. Benefits of Digital Marketing\n",
    "    a. Cost-Effective\n",
    "    b. Targeted Audience\n",
    "    c. Measurable Results\n",
    "    d. Increased Reach\n",
    "\"\"\"\n",
    "print(base_prompt)\n",
    "\n",
    "# Combine the two patterns so that we have a dictionary that looks like this:\n",
    "# {\n",
    "#     \"1. Introduction\": {\"a.\": \"Definition of digital marketing\"},\n",
    "#     \"2. Types of Digital Marketing\": {\n",
    "#         \"a.\": \"Cost-Effective\",\n",
    "#         \"b.\": \"Targeted Audience\",\n",
    "#         \"c.\": \"Measurable Results\",\n",
    "#     },\n",
    "# }"
   ],
   "outputs": [
    {
     "name": "stdout",
     "output_type": "stream",
     "text": [
      "\n",
      "Write a numbered, hierarchical outline for an article on \"What is data engineering?\"\n",
      "\n",
      "Here is an example, of the structure:\n",
      "\n",
      "1. Introduction\n",
      "    a. Definition of digital marketing\n",
      "2. Types of Digital Marketing\n",
      "    a. Search Engine Optimization\n",
      "    b. Social Media Marketing\n",
      "    c. Content Marketing\n",
      "    d. Pay-Per-Click Advertising\n",
      "    e. Email Marketing\n",
      "3. Benefits of Digital Marketing\n",
      "    a. Cost-Effective\n",
      "    b. Targeted Audience\n",
      "    c. Measurable Results\n",
      "    d. Increased Reach\n",
      "\n"
     ]
    }
   ],
   "execution_count": 36
  },
  {
   "cell_type": "code",
   "metadata": {
    "colab": {
     "base_uri": "https://localhost:8080/"
    },
    "id": "eKolBe7EHjGZ",
    "outputId": "c0f7397d-e7c3-4674-b621-904da46434a7",
    "ExecuteTime": {
     "end_time": "2025-02-05T23:19:07.613498Z",
     "start_time": "2025-02-05T23:19:05.134949Z"
    }
   },
   "source": [
    "result = complete(base_prompt)\n",
    "print(result)"
   ],
   "outputs": [
    {
     "name": "stdout",
     "output_type": "stream",
     "text": [
      "1. Definition of Data Engineering\n",
      "2. Key Components of Data Engineering\n",
      "    a. Data Integration\n",
      "    b. Data Warehousing\n",
      "    c. Data Analytics\n",
      "3. Data Engineering Process\n",
      "    a. Data Collection\n",
      "    b. Data Cleaning\n",
      "    c. Data Transformation\n",
      "    d. Data Analysis\n",
      "4. Benefits of Data Engineering\n",
      "    a. Improved Data-Driven Decision-Making\n",
      "    b. Enhanced Data Security\n",
      "    c. Increased Data Accessibility\n",
      "5. Data Engineering Tools and Technologies\n",
      "    a. Data Management Platforms\n",
      "    b. Data Warehousing Platforms\n",
      "    c. Data Analytics Tools\n",
      "6. Challenges in Data Engineering\n",
      "    a. Data Inconsistency\n",
      "    b. Data Complexity\n",
      "    c. Resource Constraints\n",
      "7. Conclusion\n"
     ]
    }
   ],
   "execution_count": 37
  },
  {
   "cell_type": "code",
   "metadata": {
    "id": "6e_evQ_PEgHd",
    "ExecuteTime": {
     "end_time": "2025-02-05T22:53:43.910143Z",
     "start_time": "2025-02-05T22:53:43.890720Z"
    }
   },
   "source": [
    "def extract_sections(outline_text):\n",
    "    # Extract main sections\n",
    "    main_sections = re.findall(r'\\d+\\..*?(?=^\\d+|\\Z)', outline_text, re.MULTILINE | re.DOTALL)\n",
    "\n",
    "    # Extract sub-sections\n",
    "    sections = {}\n",
    "    for section in main_sections:\n",
    "        section_title = re.search(r'\\d+\\..+', section).group(0)\n",
    "        sub_sections = re.findall(r'\\s+[a-z]\\..+', section, re.MULTILINE)\n",
    "        sections[section_title] = [heading.strip() for heading in  sub_sections]\n",
    "    return sections\n",
    "\n",
    "print(extract_sections(result))"
   ],
   "outputs": [
    {
     "name": "stdout",
     "output_type": "stream",
     "text": [
      "{'1. Definition of Data Engineering': ['a. Key concepts and principles'], '2. Core Responsibilities of Data Engineers': ['a. Data integration and transformation', 'b. Data warehousing and management', 'c. Data quality and governance'], '3. Data Engineering Process': ['a. Data collection and preparation', 'b. Data analysis and modeling', 'c. Data visualization and reporting'], '4. Tools and Technologies Used in Data Engineering': ['a. Data integration tools', 'b. Data warehousing platforms', 'c. Data analysis and visualization tools'], '5. Career Path and Skills Required for Data Engineers': ['a. Education and training requirements', 'b. Technical and analytical skills', 'c. Industry certifications'], '6. Importance of Data Engineering': ['a. Role in decision-making and business intelligence', 'b. Facilitating real-time data insights', 'c. Enabling innovation and competitive advantage']}\n"
     ]
    }
   ],
   "execution_count": 12
  },
  {
   "cell_type": "code",
   "metadata": {
    "id": "sUijI4BCEs-H",
    "ExecuteTime": {
     "end_time": "2025-02-05T23:09:14.567967Z",
     "start_time": "2025-02-05T23:09:11.180002Z"
    }
   },
   "source": [
    "prompt = f\"\"\"Produce an article outline for \"{article}\" as JSON.\n",
    "\n",
    "**Output format**:\n",
    "{{\n",
    "'top heading one': ['subheading_one', 'subheading_two', ...],\n",
    "'top heading two': ['subheading_one', 'subheading_two', ...],\n",
    "...\n",
    "'top heading n': ['subheading_one', 'subheading_two', ...],\n",
    "}}\n",
    "\n",
    "Remember that the ouput must be parsable JSON.\n",
    "\"\"\"\n",
    "\n",
    "json_string = complete(prompt)"
   ],
   "outputs": [],
   "execution_count": 23
  },
  {
   "cell_type": "code",
   "metadata": {
    "colab": {
     "base_uri": "https://localhost:8080/",
     "height": 142
    },
    "id": "ncO-eeeEIJdR",
    "outputId": "2adf44af-45ec-4ba8-9c02-f5946fe8b914",
    "ExecuteTime": {
     "end_time": "2025-02-05T23:09:14.621354Z",
     "start_time": "2025-02-05T23:09:14.611931Z"
    }
   },
   "source": "print(json_string)",
   "outputs": [
    {
     "name": "stdout",
     "output_type": "stream",
     "text": [
      "```json\n",
      "{\n",
      "  \"Introduction to Data Engineering\": [\"Definition\", \"Key Concepts\", \"Role in Data Management\"],\n",
      "  \"Data Engineering Principles\": [\"Data Integration\", \"Data Transformation\", \"Data Quality Management\"],\n",
      "  \"Data Engineering Tools and Technologies\": [\"Big Data Platforms (Hadoop, Spark, etc.)\", \"Data Warehousing Tools\", \"Data Integration Tools\"],\n",
      "  \"Data Engineering Practices\": [\"Agile Data Engineering\", \"DevOps for Data Engineering\", \"Data Governance\"],\n",
      "  \"Benefits of Data Engineering\": [\"Improved Data Quality\", \"Enhanced Data Accessibility\", \"Reduced Data Silos\"],\n",
      "  \"Challenges in Data Engineering\": [\"Data Volume and Complexity\", \"Lack of Skilled Professionals\", \"Data Security Concerns\"],\n",
      "  \"Future Trends in Data Engineering\": [\"Cloud-Based Data Engineering\", \"Machine Learning for Data Engineering\", \"Real-Time Data Engineering\"],\n",
      "  \"Conclusion\": [\"Importance of Data Engineering\", \"Career Opportunities in Data Engineering\", \"Call to Action\"]\n",
      "}\n",
      "```\n"
     ]
    }
   ],
   "execution_count": 24
  },
  {
   "cell_type": "code",
   "metadata": {
    "colab": {
     "base_uri": "https://localhost:8080/"
    },
    "id": "CGz4WhiOIMOX",
    "outputId": "d0902ac1-04c2-47e3-c3c5-3374b487af5d",
    "ExecuteTime": {
     "end_time": "2025-02-05T23:11:18.492534Z",
     "start_time": "2025-02-05T23:11:18.474516Z"
    }
   },
   "source": [
    "# Remove Markdown code block indicators\n",
    "json_string = json_string.strip(\"```json\\n\")\n",
    "\n",
    "# Load JSON string into a JSON object\n",
    "json_object = json.loads(json_string)\n",
    "\n",
    "# Print the JSON object\n",
    "print(json_object)"
   ],
   "outputs": [
    {
     "name": "stdout",
     "output_type": "stream",
     "text": [
      "{'Introduction to Data Engineering': ['Definition', 'Key Concepts', 'Role in Data Management'], 'Data Engineering Principles': ['Data Integration', 'Data Transformation', 'Data Quality Management'], 'Data Engineering Tools and Technologies': ['Big Data Platforms (Hadoop, Spark, etc.)', 'Data Warehousing Tools', 'Data Integration Tools'], 'Data Engineering Practices': ['Agile Data Engineering', 'DevOps for Data Engineering', 'Data Governance'], 'Benefits of Data Engineering': ['Improved Data Quality', 'Enhanced Data Accessibility', 'Reduced Data Silos'], 'Challenges in Data Engineering': ['Data Volume and Complexity', 'Lack of Skilled Professionals', 'Data Security Concerns'], 'Future Trends in Data Engineering': ['Cloud-Based Data Engineering', 'Machine Learning for Data Engineering', 'Real-Time Data Engineering'], 'Conclusion': ['Importance of Data Engineering', 'Career Opportunities in Data Engineering', 'Call to Action']}\n"
     ]
    }
   ],
   "execution_count": 26
  },
  {
   "cell_type": "code",
   "metadata": {
    "colab": {
     "base_uri": "https://localhost:8080/"
    },
    "id": "7lc-G2GSLHxE",
    "outputId": "a9b27164-3e1e-445d-e8ca-24e008634be8",
    "ExecuteTime": {
     "end_time": "2025-02-05T23:12:53.842986Z",
     "start_time": "2025-02-05T23:12:53.087105Z"
    }
   },
   "source": [
    "!pip install pyyaml\n",
    "\n",
    "import yaml"
   ],
   "outputs": [
    {
     "name": "stdout",
     "output_type": "stream",
     "text": [
      "Requirement already satisfied: pyyaml in /Users/imadu/PycharmProjects/pyPromptEngg/.venv/lib/python3.12/site-packages (6.0.2)\r\n"
     ]
    }
   ],
   "execution_count": 28
  },
  {
   "cell_type": "code",
   "metadata": {
    "colab": {
     "base_uri": "https://localhost:8080/",
     "height": 142
    },
    "id": "d5_t41V4MMGq",
    "outputId": "f5808db1-8a70-442c-c200-ad84f088d205",
    "ExecuteTime": {
     "end_time": "2025-02-05T23:16:51.180942Z",
     "start_time": "2025-02-05T23:16:46.704450Z"
    }
   },
   "source": [
    "prompt = f\"\"\"Produce an article outline as a .yml file for {article}.\n",
    "\n",
    "Always return valid YML.\n",
    "\n",
    "**Output format**:\n",
    "- name: Example YAML File\n",
    "  description: This is an example YAML file.\n",
    "  sections:\n",
    "    - title: Introduction\n",
    "      content: |\n",
    "        This is the introduction.\n",
    "    - title: Conclusion\n",
    "      content: |\n",
    "        This is the conclusion.\n",
    "\"\"\"\n",
    "\n",
    "text = complete(prompt)\n",
    "text"
   ],
   "outputs": [
    {
     "data": {
      "text/plain": [
       "'name: What is data engineering?\\ndescription: Data engineering is the process of building, maintaining, and optimizing data systems to meet the needs of an organization. This involves collecting, cleaning, and transforming data into a format that is usable for analysis and decision-making.\\nsections:\\n  - title: Introduction\\n    content: |\\n      Data engineering is a critical part of the modern data-driven organization. By building and maintaining efficient and reliable data systems, data engineers ensure that the organization has the data it needs to make informed decisions.\\n  - title: The role of data engineers\\n    content: |\\n      Data engineers play a variety of roles in an organization, including:\\n      - Collecting data from a variety of sources\\n      - Cleaning and transforming data to make it usable for analysis\\n      - Building and maintaining data pipelines\\n      - Monitoring data quality\\n      - Providing support to data analysts and other users of data\\n  - title: The benefits of data engineering\\n    content: |\\n      Data engineering can provide a number of benefits to an organization, including:\\n      - Improved data quality\\n      - Faster and more efficient data analysis\\n      - Reduced costs\\n      - Improved decision-making\\n  - title: Conclusion\\n    content: |\\n      Data engineering is a complex and challenging field, but it is essential for organizations that want to make the most of their data. By investing in data engineering, organizations can improve their data quality, speed up their data analysis, and reduce their costs.'"
      ]
     },
     "execution_count": 32,
     "metadata": {},
     "output_type": "execute_result"
    }
   ],
   "execution_count": 32
  },
  {
   "cell_type": "code",
   "metadata": {
    "colab": {
     "base_uri": "https://localhost:8080/"
    },
    "id": "Ywehf4LtN1HC",
    "outputId": "7f3be16b-a217-404e-d5ae-05c74c178f6f",
    "ExecuteTime": {
     "end_time": "2025-02-05T23:16:52.126756Z",
     "start_time": "2025-02-05T23:16:52.115455Z"
    }
   },
   "source": [
    "print(text)"
   ],
   "outputs": [
    {
     "name": "stdout",
     "output_type": "stream",
     "text": [
      "name: What is data engineering?\n",
      "description: Data engineering is the process of building, maintaining, and optimizing data systems to meet the needs of an organization. This involves collecting, cleaning, and transforming data into a format that is usable for analysis and decision-making.\n",
      "sections:\n",
      "  - title: Introduction\n",
      "    content: |\n",
      "      Data engineering is a critical part of the modern data-driven organization. By building and maintaining efficient and reliable data systems, data engineers ensure that the organization has the data it needs to make informed decisions.\n",
      "  - title: The role of data engineers\n",
      "    content: |\n",
      "      Data engineers play a variety of roles in an organization, including:\n",
      "      - Collecting data from a variety of sources\n",
      "      - Cleaning and transforming data to make it usable for analysis\n",
      "      - Building and maintaining data pipelines\n",
      "      - Monitoring data quality\n",
      "      - Providing support to data analysts and other users of data\n",
      "  - title: The benefits of data engineering\n",
      "    content: |\n",
      "      Data engineering can provide a number of benefits to an organization, including:\n",
      "      - Improved data quality\n",
      "      - Faster and more efficient data analysis\n",
      "      - Reduced costs\n",
      "      - Improved decision-making\n",
      "  - title: Conclusion\n",
      "    content: |\n",
      "      Data engineering is a complex and challenging field, but it is essential for organizations that want to make the most of their data. By investing in data engineering, organizations can improve their data quality, speed up their data analysis, and reduce their costs.\n"
     ]
    }
   ],
   "execution_count": 33
  },
  {
   "cell_type": "code",
   "metadata": {
    "id": "xc5RTCrDM001",
    "ExecuteTime": {
     "end_time": "2025-02-05T23:17:11.133251Z",
     "start_time": "2025-02-05T23:17:11.119741Z"
    }
   },
   "source": [
    "# Load the YAML string into a Python object\n",
    "data = yaml.load(text, Loader=yaml.FullLoader)"
   ],
   "outputs": [],
   "execution_count": 34
  },
  {
   "cell_type": "code",
   "metadata": {
    "colab": {
     "base_uri": "https://localhost:8080/"
    },
    "id": "evBZVnCoNI32",
    "outputId": "28aa4339-fd87-4466-fe65-814f85f7303b",
    "ExecuteTime": {
     "end_time": "2025-02-05T23:17:12.743066Z",
     "start_time": "2025-02-05T23:17:12.731109Z"
    }
   },
   "source": [
    "print(data)"
   ],
   "outputs": [
    {
     "name": "stdout",
     "output_type": "stream",
     "text": [
      "{'name': 'What is data engineering?', 'description': 'Data engineering is the process of building, maintaining, and optimizing data systems to meet the needs of an organization. This involves collecting, cleaning, and transforming data into a format that is usable for analysis and decision-making.', 'sections': [{'title': 'Introduction', 'content': 'Data engineering is a critical part of the modern data-driven organization. By building and maintaining efficient and reliable data systems, data engineers ensure that the organization has the data it needs to make informed decisions.\\n'}, {'title': 'The role of data engineers', 'content': 'Data engineers play a variety of roles in an organization, including:\\n- Collecting data from a variety of sources\\n- Cleaning and transforming data to make it usable for analysis\\n- Building and maintaining data pipelines\\n- Monitoring data quality\\n- Providing support to data analysts and other users of data\\n'}, {'title': 'The benefits of data engineering', 'content': 'Data engineering can provide a number of benefits to an organization, including:\\n- Improved data quality\\n- Faster and more efficient data analysis\\n- Reduced costs\\n- Improved decision-making\\n'}, {'title': 'Conclusion', 'content': 'Data engineering is a complex and challenging field, but it is essential for organizations that want to make the most of their data. By investing in data engineering, organizations can improve their data quality, speed up their data analysis, and reduce their costs.'}]}\n"
     ]
    }
   ],
   "execution_count": 35
  },
  {
   "cell_type": "code",
   "execution_count": null,
   "metadata": {
    "id": "9u2SBFW3N4SN"
   },
   "outputs": [],
   "source": []
  }
 ],
 "metadata": {
  "colab": {
   "provenance": []
  },
  "kernelspec": {
   "display_name": "Python 3 (ipykernel)",
   "name": "python3",
   "language": "python"
  },
  "language_info": {
   "codemirror_mode": {
    "name": "ipython",
    "version": 3
   },
   "file_extension": ".py",
   "mimetype": "text/x-python",
   "name": "python",
   "nbconvert_exporter": "python",
   "pygments_lexer": "ipython3",
   "version": "3.11.3"
  }
 },
 "nbformat": 4,
 "nbformat_minor": 0
}
