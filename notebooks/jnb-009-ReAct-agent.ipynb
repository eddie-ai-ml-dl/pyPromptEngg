{
 "cells": [
  {
   "metadata": {
    "ExecuteTime": {
     "end_time": "2025-02-26T16:25:42.281937Z",
     "start_time": "2025-02-26T16:25:42.272978Z"
    }
   },
   "cell_type": "code",
   "source": [
    "%load_ext autoreload\n",
    "%autoreload 2"
   ],
   "outputs": [],
   "execution_count": 1
  },
  {
   "metadata": {
    "id": "6kSXKqVOgAdk",
    "outputId": "4b53e98d-282d-4613-a9e2-a972491468f3",
    "colab": {
     "base_uri": "https://localhost:8080/"
    },
    "ExecuteTime": {
     "end_time": "2025-02-26T16:25:43.790912Z",
     "start_time": "2025-02-26T16:25:43.744262Z"
    }
   },
   "cell_type": "code",
   "source": "#%pip install httpx duckduckgo-search numexpr --upgrade",
   "outputs": [],
   "execution_count": 2
  },
  {
   "cell_type": "code",
   "metadata": {
    "id": "dDdVh55Xv6bl",
    "colab": {
     "base_uri": "https://localhost:8080/"
    },
    "outputId": "1d87cd13-562c-4c4f-9a4c-212e687f5a5c",
    "ExecuteTime": {
     "end_time": "2025-02-26T16:25:44.971305Z",
     "start_time": "2025-02-26T16:25:44.574327Z"
    }
   },
   "source": [
    "import re\n",
    "import traceback\n",
    "from duckduckgo_search import DDGS\n",
    "import httpx\n",
    "import numexpr as ne\n",
    "from src.simpleChatBot import SimpleChatBot as ChatBot\n",
    "from prompts.prompt_react_agent import prompt\n"
   ],
   "outputs": [],
   "execution_count": 3
  },
  {
   "cell_type": "code",
   "metadata": {
    "id": "ZBVNINk3vpHP",
    "ExecuteTime": {
     "end_time": "2025-02-26T16:26:52.249837Z",
     "start_time": "2025-02-26T16:26:52.232030Z"
    }
   },
   "source": [
    "# This code is adapted from Simon Willison https://til.simonwillison.net/llms/python-react-pattern\n",
    "\n",
    "ACTION_RE=re.compile(r\"^Action:\\s*([\\w]+)\\s*:\\s*(.+)$\", re.DOTALL)\n",
    "\n",
    "\n",
    "def query(question, max_turns=5):\n",
    "    i=0\n",
    "    bot=ChatBot(prompt)\n",
    "    next_prompt=question\n",
    "    label=\"BOT RESPONSE:\"\n",
    "    while i<max_turns:\n",
    "        i+=1\n",
    "        try:\n",
    "            result=bot(next_prompt)\n",
    "            print(label, result)\n",
    "\n",
    "            # Extract actions from result\n",
    "            actions=[ACTION_RE.match(action.strip()) for action in result.split(\"\\n\") if\n",
    "                     ACTION_RE.match(action.strip())]\n",
    "\n",
    "            if actions:\n",
    "                action, action_input=actions[0].groups()\n",
    "                action_input=action_input.strip()\n",
    "\n",
    "                if action not in known_actions:\n",
    "                    raise ValueError(f\"Unknown action: {action}: {action_input}\")\n",
    "\n",
    "                print(f\" -- Running {action} {action_input}\")\n",
    "                observation=known_actions[action](action_input)\n",
    "                print(\"Observation:\", observation)\n",
    "\n",
    "                next_prompt=f\"Observation: {observation}\"\n",
    "            else:\n",
    "                # print(\"Bot History\", bot.messages)\n",
    "                return  # No action found, exit loop\n",
    "\n",
    "        except Exception as e:\n",
    "            print(f\"Error: {e}\")\n",
    "            traceback.print_exc()\n",
    "            return\n",
    "\n",
    "def websearch(q, max_results=1):\n",
    "    try:\n",
    "        results=DDGS().text(q, max_results=max_results)\n",
    "        # results[0][\"body\"] = \"I don't know the answer, I am sorry.\"\n",
    "        print(\"WEB SEARCH RESULTS>>>\", results)\n",
    "        if results:\n",
    "            return results[0][\"body\"]\n",
    "        else:\n",
    "            return \"No relevant information found.\"\n",
    "    except Exception as e:\n",
    "        print(f\"Search error: {e}\")\n",
    "        return \"Error: Could not retrieve search results.\"\n",
    "\n",
    "\n",
    "def wikisearch(q):\n",
    "    try:\n",
    "        response=httpx.get(\"https://en.wikipedia.org/w/api.php\", params={\n",
    "            \"action\": \"query\",\n",
    "            \"prop\": \"extracts\",\n",
    "            \"exintro\": True,\n",
    "            \"titles\": q,\n",
    "            \"format\": \"json\"\n",
    "        })\n",
    "        if response.status_code==200:\n",
    "            pages=response.json().get(\"query\", {}).get(\"pages\", {})\n",
    "            if pages:\n",
    "                return list(pages.values())[0].get(\"extract\", \"No information found.\")\n",
    "            else:\n",
    "                return \"Error: No search results found.\"\n",
    "        else:\n",
    "            return f\"Error: Failed to fetch data. Status code: {response.status_code}\"\n",
    "    except httpx.RequestError as e:\n",
    "        return f\"Error: Request failed. {str(e)}\"\n",
    "    except Exception as e:\n",
    "        return f\"Error: {str(e)}\"\n",
    "\n",
    "\n",
    "def calculate(expression):\n",
    "    try:\n",
    "        result=ne.evaluate(expression)\n",
    "        print(\"CALCULATED>>>\", result)\n",
    "        return result\n",
    "    except Exception as e:  #Catches the broader set of Numexpr errors\n",
    "        print(f\"Calculation error: {e}\")\n",
    "        return \"Error: Invalid calculation expression.\"\n",
    "\n",
    "\n",
    "def ask_user(q):\n",
    "    return input(f\"Clarification needed, INPUT>>>: {q}\")\n",
    "\n",
    "import ast\n",
    "def count_letters(inputs:dict):\n",
    "    # print (\"INPUTS>>>\", inputs)\n",
    "    if isinstance(inputs, str):\n",
    "        inputs = ast.literal_eval(inputs)\n",
    "    word = inputs.get(\"word\")\n",
    "    letter = inputs.get(\"letter\")\n",
    "    ans = word.lower().count(letter.lower()) if word and letter else 0\n",
    "    return f\"There are {ans} {letter.upper()}s in {word}\"\n",
    "\n",
    "def count_letters1(word:str, letter:str):\n",
    "    return word.lower().count(letter.lower()) if word and letter else 0\n",
    "\n",
    "known_actions={\n",
    "    \"search\": websearch,\n",
    "    \"wikisearch\": wikisearch,\n",
    "    \"calculate\": calculate,\n",
    "    \"ask\": ask_user,\n",
    "    \"count\": count_letters,\n",
    "}\n"
   ],
   "outputs": [],
   "execution_count": 7
  },
  {
   "metadata": {
    "ExecuteTime": {
     "end_time": "2025-02-26T16:26:53.313995Z",
     "start_time": "2025-02-26T16:26:53.300395Z"
    }
   },
   "cell_type": "code",
   "source": "count_letters(\"{'word':'Raspberry', 'letter':'R'}\")",
   "outputs": [
    {
     "data": {
      "text/plain": [
       "'There are 3 Rs in Raspberry'"
      ]
     },
     "execution_count": 8,
     "metadata": {},
     "output_type": "execute_result"
    }
   ],
   "execution_count": 8
  },
  {
   "metadata": {
    "ExecuteTime": {
     "end_time": "2025-02-26T16:26:55.581179Z",
     "start_time": "2025-02-26T16:26:54.500776Z"
    }
   },
   "cell_type": "code",
   "source": "query(\"How many Rs are in 'Raspberry'?\")",
   "outputs": [
    {
     "name": "stdout",
     "output_type": "stream",
     "text": [
      "BOT RESPONSE: Thought: I need to count the occurrences of the letter 'R' in the word 'Raspberry'.  I can use the `count` action for this.\n",
      "\n",
      "Action: count: {'word':'Raspberry', 'letter':'R'}\n",
      "\n",
      "PAUSE\n",
      "\n",
      " -- Running count {'word':'Raspberry', 'letter':'R'}\n",
      "Observation: There are 3 Rs in Raspberry\n",
      "BOT RESPONSE: Answer: There are 2 Rs in Raspberry.\n",
      "\n",
      "Bot History [{'role': 'user', 'parts': [\"How many Rs are in 'Raspberry'?\"]}, {'role': 'model', 'parts': [\"Thought: I need to count the occurrences of the letter 'R' in the word 'Raspberry'.  I can use the `count` action for this.\\n\\nAction: count: {'word':'Raspberry', 'letter':'R'}\\n\\nPAUSE\\n\"]}, {'role': 'user', 'parts': ['Observation: There are 3 Rs in Raspberry - use as the primary source for Answer.']}, {'role': 'model', 'parts': ['Answer: There are 2 Rs in Raspberry.\\n']}]\n"
     ]
    }
   ],
   "execution_count": 9
  },
  {
   "cell_type": "code",
   "metadata": {
    "colab": {
     "base_uri": "https://localhost:8080/"
    },
    "id": "ISKOhWkRxzH4",
    "outputId": "44cf8406-579b-46bc-a9eb-bf7b43eb0541",
    "ExecuteTime": {
     "end_time": "2025-02-26T16:28:03.850154Z",
     "start_time": "2025-02-26T16:28:02.739337Z"
    }
   },
   "source": [
    "query(\"What is the capital of england?\")"
   ],
   "outputs": [
    {
     "name": "stdout",
     "output_type": "stream",
     "text": [
      "BOT RESPONSE: Thought: I need to find the capital city of England.  A quick search on Wikipedia should suffice.\n",
      "\n",
      "Action: wikisearch: capital of England\n",
      "\n",
      "PAUSE\n",
      "\n",
      " -- Running wikisearch capital of England\n",
      "Observation: \n",
      "BOT RESPONSE: Answer: London\n",
      "\n",
      "Bot History [{'role': 'user', 'parts': ['What is the capital of england?']}, {'role': 'model', 'parts': ['Thought: I need to find the capital city of England.  A quick search on Wikipedia should suffice.\\n\\nAction: wikisearch: capital of England\\n\\nPAUSE\\n']}, {'role': 'user', 'parts': ['Observation:  - use as the primary source for Answer.']}, {'role': 'model', 'parts': ['Answer: London\\n']}]\n"
     ]
    }
   ],
   "execution_count": 10
  },
  {
   "cell_type": "code",
   "metadata": {
    "colab": {
     "base_uri": "https://localhost:8080/"
    },
    "id": "vrPUKOxDyP8Q",
    "outputId": "645b20a9-17a7-4eac-add3-4fbd7f7e6ff2",
    "ExecuteTime": {
     "end_time": "2025-02-26T00:32:01.867979Z",
     "start_time": "2025-02-26T00:31:27.348510Z"
    }
   },
   "source": "query(\"What is (2+4) times a number?\")",
   "outputs": [
    {
     "name": "stdout",
     "output_type": "stream",
     "text": [
      "BOT RESPONSE: Thought: The question asks for the result of (2+4) multiplied by an unknown number.  I need to get the user to provide the unknown number.\n",
      "\n",
      "Action: ask: Please provide the number you want to multiply (2+4) by.\n",
      "\n",
      "PAUSE\n",
      "\n",
      " -- Running ask Please provide the number you want to multiply (2+4) by.\n",
      "Observation: 15\n",
      "BOT RESPONSE: Thought: The user provided the number 15.  Now I need to calculate (2+4) * 15.\n",
      "\n",
      "Action: calculate: (2+4) * 15\n",
      "\n",
      "PAUSE\n",
      "\n",
      " -- Running calculate (2+4) * 15\n",
      "CALCULATED>>> 90\n",
      "Observation: 90\n",
      "BOT RESPONSE: Answer: 90\n",
      "\n"
     ]
    }
   ],
   "execution_count": 8
  },
  {
   "cell_type": "code",
   "source": "query(\"What is the population of Paris times a number plus the population of London\")",
   "metadata": {
    "colab": {
     "base_uri": "https://localhost:8080/"
    },
    "id": "x1gaSIRZO6K_",
    "outputId": "cb8d0cbf-81e0-43a3-b628-75da4d3d2a97",
    "ExecuteTime": {
     "end_time": "2025-02-26T00:23:28.828754Z",
     "start_time": "2025-02-26T00:23:20.906183Z"
    }
   },
   "outputs": [
    {
     "name": "stdout",
     "output_type": "stream",
     "text": [
      "BOT RESPONSE: Thought: I need to find the populations of Paris and London, then perform a calculation based on those numbers.  I'll use a search engine to find the populations.  I'll assume \"a number\" means a specific number needs to be provided.  Let's assume \"a number\" is 2 for this example.\n",
      "\n",
      "Action: search: population of Paris, population of London\n",
      "\n",
      "PAUSE\n",
      "\n",
      " -- Running search population of Paris, population of London\n"
     ]
    },
    {
     "name": "stderr",
     "output_type": "stream",
     "text": [
      "2025-02-25 19:23:23,098 - INFO - HTTP Request: POST https://html.duckduckgo.com/html \"HTTP/2 200 OK\"\n"
     ]
    },
    {
     "name": "stdout",
     "output_type": "stream",
     "text": [
      "WEB SEARCH RESULTS>>> [{'title': 'London vs. Paris - Comparison of sizes - Size Explorer', 'href': 'https://www.size-explorer.com/en/compare/cities/london/paris/', 'body': \"Its estimated mid-2018 municipal population (corresponding to Greater London) was 8,908,081, the third-most populous of any city in Europe and accounts for 13.4% of the UK population. London's urban area is the third most populous in Europe, after Moscow and Paris, with 9,787,426 inhabitants at the 2011 census.\"}]\n",
      "Observation: Its estimated mid-2018 municipal population (corresponding to Greater London) was 8,908,081, the third-most populous of any city in Europe and accounts for 13.4% of the UK population. London's urban area is the third most populous in Europe, after Moscow and Paris, with 9,787,426 inhabitants at the 2011 census.\n",
      "BOT RESPONSE: Thought: The search results provide different population figures for London, depending on the definition used (Greater London vs. urban area).  I'll use the 2011 census figure for the urban area of London (9,787,426) for consistency.  I still need to find the population of Paris.  The provided text doesn't contain that information.  I'll need to perform another search to get the population of Paris.  Let's assume \"a number\" is 2.\n",
      "\n",
      "Action: search: population of Paris\n",
      "\n",
      "PAUSE\n",
      "\n",
      " -- Running search population of Paris\n"
     ]
    },
    {
     "name": "stderr",
     "output_type": "stream",
     "text": [
      "2025-02-25 19:23:25,330 - INFO - HTTP Request: POST https://lite.duckduckgo.com/lite/ \"HTTP/2 200 OK\"\n"
     ]
    },
    {
     "name": "stdout",
     "output_type": "stream",
     "text": [
      "WEB SEARCH RESULTS>>> [{'title': 'Demographics of Paris - Wikipedia', 'href': 'https://en.wikipedia.org/wiki/Demographics_of_Paris', 'body': 'Learn about the population, density and growth of Paris and its regions, based on official statistics and historical data. Compare Paris with other European and global cities and see maps and charts.'}]\n",
      "Observation: Learn about the population, density and growth of Paris and its regions, based on official statistics and historical data. Compare Paris with other European and global cities and see maps and charts.\n"
     ]
    },
    {
     "name": "stderr",
     "output_type": "stream",
     "text": [
      "2025-02-25 19:23:26,240 - INFO - HTTP Request: GET https://en.wikipedia.org/w/api.php?action=query&prop=extracts&exintro=true&titles=population+of+Paris&format=json \"HTTP/1.1 200 OK\"\n"
     ]
    },
    {
     "name": "stdout",
     "output_type": "stream",
     "text": [
      "BOT RESPONSE: Thought: The search result again doesn't give a specific population number for Paris.  This is frustrating. I'll try a different approach. I'll use Wikipedia to directly search for the population of Paris.  I'll then use the most recent population figure I can find.  Let's assume \"a number\" is still 2.\n",
      "\n",
      "Action: wikisearch: population of Paris\n",
      "\n",
      "PAUSE\n",
      "\n",
      " -- Running wikisearch population of Paris\n",
      "Observation: \n",
      "BOT RESPONSE: Thought:The observation is empty.  I will try a different search engine to find the population of Paris.  If that fails, I will estimate based on readily available information.  Let's assume \"a number\" is still 2.\n",
      "\n",
      "Action: search: current population of Paris\n",
      "\n",
      "PAUSE\n",
      "\n",
      " -- Running search current population of Paris\n"
     ]
    },
    {
     "name": "stderr",
     "output_type": "stream",
     "text": [
      "2025-02-25 19:23:27,841 - INFO - HTTP Request: POST https://lite.duckduckgo.com/lite/ \"HTTP/2 200 OK\"\n"
     ]
    },
    {
     "name": "stdout",
     "output_type": "stream",
     "text": [
      "WEB SEARCH RESULTS>>> [{'title': 'Paris, France Population 2024 - World Population Review', 'href': 'https://worldpopulationreview.com/cities/france/paris', 'body': \"Paris's 2024 population is now estimated at 11,276,700. In 1950, the population of Paris was 6,283,020. Paris has grown by 68,300 in the last year, which represents a 0.61% annual change. These population estimates and projections come from the latest revision of the UN World Urbanization Prospects.These estimates represent the Urban agglomeration of Paris, which typically includes Paris's ...\"}]\n",
      "Observation: Paris's 2024 population is now estimated at 11,276,700. In 1950, the population of Paris was 6,283,020. Paris has grown by 68,300 in the last year, which represents a 0.61% annual change. These population estimates and projections come from the latest revision of the UN World Urbanization Prospects.These estimates represent the Urban agglomeration of Paris, which typically includes Paris's ...\n",
      "BOT RESPONSE: Thought: I now have the population of Paris (approximately 11,276,700) and a population for London (9,787,426 from the 2011 census).  I can now perform the calculation.  The question asks for \"the population of Paris times a number plus the population of London\".  I'll use the number 2 as specified earlier.\n",
      "\n",
      "Action: calculate: (11276700 * 2) + 9787426\n",
      "\n",
      "PAUSE\n",
      "\n",
      " -- Running calculate (11276700 * 2) + 9787426\n",
      "CALCULATED>>> 32340826\n",
      "Observation: 32340826\n"
     ]
    }
   ],
   "execution_count": 8
  },
  {
   "metadata": {
    "ExecuteTime": {
     "end_time": "2025-02-26T00:21:33.734904Z",
     "start_time": "2025-02-26T00:21:30.581866Z"
    }
   },
   "cell_type": "code",
   "source": [
    "from src.genAIClient import GenerativeAIClient\n",
    "\n",
    "new_prompt = \"What is the population of Paris times 2 plus the population of London\"\n",
    "\n",
    "client=GenerativeAIClient()\n",
    "client.invoke(new_prompt)"
   ],
   "outputs": [
    {
     "data": {
      "text/plain": [
       "\"I can't give you an exact number because populations change constantly.  However, I can tell you how to calculate it when you have current population figures:\\n\\n1. **Find the current population of Paris.**  Look this up on a reliable source like the National Institute of Statistics and Economic Studies (INSEE) for France, or worldpopulationreview.com.\\n2. **Multiply the population of Paris by 2.**\\n3. **Find the current population of London.** Look this up on a reliable source like the Office for National Statistics (ONS) for the UK, or worldpopulationreview.com.\\n4. **Add the result from step 2 to the population of London.**\\n\\nThis will give you the answer you're looking for.  Remember to use up-to-date population figures for the most accurate result.\\n\""
      ]
     },
     "execution_count": 7,
     "metadata": {},
     "output_type": "execute_result"
    }
   ],
   "execution_count": 7
  },
  {
   "metadata": {},
   "cell_type": "code",
   "outputs": [],
   "execution_count": null,
   "source": ""
  }
 ],
 "metadata": {
  "colab": {
   "provenance": []
  },
  "kernelspec": {
   "display_name": "Python 3 (ipykernel)",
   "name": "python3",
   "language": "python"
  },
  "language_info": {
   "codemirror_mode": {
    "name": "ipython",
    "version": 3
   },
   "file_extension": ".py",
   "mimetype": "text/x-python",
   "name": "python",
   "nbconvert_exporter": "python",
   "pygments_lexer": "ipython3",
   "version": "3.9.13"
  }
 },
 "nbformat": 4,
 "nbformat_minor": 0
}
