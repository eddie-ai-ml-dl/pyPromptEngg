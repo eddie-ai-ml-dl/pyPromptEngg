{
 "cells": [
  {
   "cell_type": "code",
   "execution_count": null,
   "metadata": {
    "id": "gFcyqS2MgHi9",
    "outputId": "e6d0dfe9-0406-42b8-8ffd-ac93f83ba8d8"
   },
   "outputs": [
    {
     "name": "stdout",
     "output_type": "stream",
     "text": [
      "Requirement already satisfied: openai in /Users/jamesaphoenix/opt/anaconda3/lib/python3.9/site-packages (1.7.2)\n",
      "Requirement already satisfied: pandas in /Users/jamesaphoenix/opt/anaconda3/lib/python3.9/site-packages (2.1.4)\n",
      "Requirement already satisfied: sniffio in /Users/jamesaphoenix/opt/anaconda3/lib/python3.9/site-packages (from openai) (1.2.0)\n",
      "Requirement already satisfied: typing-extensions<5,>=4.7 in /Users/jamesaphoenix/opt/anaconda3/lib/python3.9/site-packages (from openai) (4.7.1)\n",
      "Requirement already satisfied: tqdm>4 in /Users/jamesaphoenix/opt/anaconda3/lib/python3.9/site-packages (from openai) (4.65.0)\n",
      "Requirement already satisfied: httpx<1,>=0.23.0 in /Users/jamesaphoenix/opt/anaconda3/lib/python3.9/site-packages (from openai) (0.25.2)\n",
      "Requirement already satisfied: anyio<5,>=3.5.0 in /Users/jamesaphoenix/opt/anaconda3/lib/python3.9/site-packages (from openai) (3.5.0)\n",
      "Requirement already satisfied: pydantic<3,>=1.9.0 in /Users/jamesaphoenix/opt/anaconda3/lib/python3.9/site-packages (from openai) (2.5.3)\n",
      "Requirement already satisfied: distro<2,>=1.7.0 in /Users/jamesaphoenix/opt/anaconda3/lib/python3.9/site-packages (from openai) (1.8.0)\n",
      "Requirement already satisfied: numpy<2,>=1.22.4 in /Users/jamesaphoenix/opt/anaconda3/lib/python3.9/site-packages (from pandas) (1.24.4)\n",
      "Requirement already satisfied: pytz>=2020.1 in /Users/jamesaphoenix/opt/anaconda3/lib/python3.9/site-packages (from pandas) (2022.1)\n",
      "Requirement already satisfied: tzdata>=2022.1 in /Users/jamesaphoenix/opt/anaconda3/lib/python3.9/site-packages (from pandas) (2023.3)\n",
      "Requirement already satisfied: python-dateutil>=2.8.2 in /Users/jamesaphoenix/opt/anaconda3/lib/python3.9/site-packages (from pandas) (2.8.2)\n",
      "Requirement already satisfied: idna>=2.8 in /Users/jamesaphoenix/opt/anaconda3/lib/python3.9/site-packages (from anyio<5,>=3.5.0->openai) (3.3)\n",
      "Requirement already satisfied: certifi in /Users/jamesaphoenix/opt/anaconda3/lib/python3.9/site-packages (from httpx<1,>=0.23.0->openai) (2022.9.24)\n",
      "Requirement already satisfied: httpcore==1.* in /Users/jamesaphoenix/opt/anaconda3/lib/python3.9/site-packages (from httpx<1,>=0.23.0->openai) (1.0.2)\n",
      "Requirement already satisfied: h11<0.15,>=0.13 in /Users/jamesaphoenix/opt/anaconda3/lib/python3.9/site-packages (from httpcore==1.*->httpx<1,>=0.23.0->openai) (0.14.0)\n",
      "Requirement already satisfied: annotated-types>=0.4.0 in /Users/jamesaphoenix/opt/anaconda3/lib/python3.9/site-packages (from pydantic<3,>=1.9.0->openai) (0.5.0)\n",
      "Requirement already satisfied: pydantic-core==2.14.6 in /Users/jamesaphoenix/opt/anaconda3/lib/python3.9/site-packages (from pydantic<3,>=1.9.0->openai) (2.14.6)\n",
      "Requirement already satisfied: six>=1.5 in /Users/jamesaphoenix/opt/anaconda3/lib/python3.9/site-packages (from python-dateutil>=2.8.2->pandas) (1.16.0)\n"
     ]
    }
   ],
   "source": [
    "%pip install openai pandas --upgrade"
   ]
  },
  {
   "cell_type": "code",
   "metadata": {
    "id": "xl0wmV_RgHi_",
    "ExecuteTime": {
     "end_time": "2025-02-11T23:07:48.027745Z",
     "start_time": "2025-02-11T23:07:48.020470Z"
    }
   },
   "source": [
    "import ipywidgets as widgets\n",
    "from IPython.display import display\n",
    "import pandas as pd\n",
    "from src.genAIClient import GenerativeAIClient\n",
    "import time\n",
    "import random"
   ],
   "outputs": [],
   "execution_count": 4
  },
  {
   "cell_type": "code",
   "metadata": {
    "id": "h84qcT-tAQZk",
    "ExecuteTime": {
     "end_time": "2025-02-11T23:03:43.896993Z",
     "start_time": "2025-02-11T23:03:43.894178Z"
    }
   },
   "source": "client = GenerativeAIClient(show_info_log=False)",
   "outputs": [],
   "execution_count": 2
  },
  {
   "metadata": {
    "ExecuteTime": {
     "end_time": "2025-02-11T23:23:34.718606Z",
     "start_time": "2025-02-11T23:23:34.713166Z"
    }
   },
   "cell_type": "code",
   "source": [
    "# Define two variants of the prompt\n",
    "prompt_A = \"\"\"Product description: A pair of shoes that can fit any foot size.\n",
    "Seed words: adaptable, fit, omni-fit.\n",
    "Product names:\"\"\"\n",
    "\n",
    "prompt_B = \"\"\"Product description: A home milkshake maker.\n",
    "Seed words: fast, healthy, compact.\n",
    "Product names: HomeShaker, Fit Shaker, QuickShake, Shake Maker\n",
    "\n",
    "Product description: A watch that can tell accurate time in space.\n",
    "Seed words: astronaut, space-hardened, eliptical orbit\n",
    "Product names: AstroTime, SpaceGuard, Orbit-Accurate, EliptoTime.\n",
    "\n",
    "Product description: A pair of shoes that can fit any foot size.\n",
    "Seed words: adaptable, fit, omni-fit.\n",
    "Product names:\"\"\"\n",
    "\n",
    "test_prompts = [prompt_A, prompt_B]\n",
    "\n",
    "def get_response(prompt, system=\"You are a helpful assistant.\"):\n",
    "    return client.invoke(prompt, system)\n",
    "\n",
    "def delay(ll_delay=3, ul_delay=5):\n",
    "    return random.randint(ll_delay, ul_delay)"
   ],
   "outputs": [],
   "execution_count": 17
  },
  {
   "metadata": {
    "ExecuteTime": {
     "end_time": "2025-02-11T23:12:52.766445Z",
     "start_time": "2025-02-11T23:12:51.715472Z"
    }
   },
   "cell_type": "code",
   "source": "print(get_response(prompt_A))",
   "outputs": [
    {
     "name": "stdout",
     "output_type": "stream",
     "text": [
      "* Omni-Fit Footwear\n",
      "* Adaptive Adjusters\n",
      "* Flexi-Form Shoe\n",
      "* AdaptiStep\n",
      "* Fit-All Footwear\n"
     ]
    }
   ],
   "execution_count": 10
  },
  {
   "cell_type": "code",
   "metadata": {
    "colab": {
     "base_uri": "https://localhost:8080/"
    },
    "id": "74upFHOR_01p",
    "outputId": "25564202-bac3-4beb-d8d9-211e6285844d"
   },
   "source": [
    "# Iterate through the prompts and get responses\n",
    "test_prompts = [prompt_A, prompt_B]\n",
    "responses = []\n",
    "num_tests = 5\n",
    "\n",
    "for idx, prompt in enumerate(test_prompts):\n",
    "    # prompt number as a letter\n",
    "    var_name = chr(ord('A') + idx)\n",
    "\n",
    "    for i in range(num_tests):\n",
    "        # Get a response from the model\n",
    "        response = get_response(prompt)\n",
    "        data = {\n",
    "            \"variant\": var_name,\n",
    "            \"prompt\": prompt,\n",
    "            \"response\": response\n",
    "            }\n",
    "        responses.append(data)\n",
    "        seconds = delay()\n",
    "        print(f\"{var_name}: {i}: delaying for {seconds} seconds...\")\n",
    "        time.sleep(seconds)\n",
    "    time.sleep(delay())\n",
    "# Convert responses into a DataFrame\n",
    "df = pd.DataFrame(responses)\n",
    "\n",
    "# Save the DataFrame as a CSV file\n",
    "df.to_csv(\"../data/responses.csv\", index=False)"
   ],
   "outputs": [],
   "execution_count": null
  },
  {
   "metadata": {
    "ExecuteTime": {
     "end_time": "2025-02-11T23:11:29.558994Z",
     "start_time": "2025-02-11T23:11:29.548037Z"
    }
   },
   "cell_type": "code",
   "source": "df",
   "outputs": [
    {
     "data": {
      "text/plain": [
       "  variant                                             prompt  \\\n",
       "0       A  Product description: A pair of shoes that can ...   \n",
       "1       A  Product description: A pair of shoes that can ...   \n",
       "2       A  Product description: A pair of shoes that can ...   \n",
       "3       A  Product description: A pair of shoes that can ...   \n",
       "4       A  Product description: A pair of shoes that can ...   \n",
       "5       B  Product description: A home milkshake maker.\\n...   \n",
       "6       B  Product description: A home milkshake maker.\\n...   \n",
       "7       B  Product description: A home milkshake maker.\\n...   \n",
       "8       B  Product description: A home milkshake maker.\\n...   \n",
       "9       B  Product description: A home milkshake maker.\\n...   \n",
       "\n",
       "                                       response  \n",
       "0                                          None  \n",
       "1                                          None  \n",
       "2                                          None  \n",
       "3                                          None  \n",
       "4                                          None  \n",
       "5                                          None  \n",
       "6                                          None  \n",
       "7      Adapt-a-Fit, Omni-Fit, All-Fit, FlexiFit  \n",
       "8                 FitFeet, Flex-Tred, OmniSoles  \n",
       "9  AdaptaFit, Omni-Shoes, Fit-All, UniversalFit  "
      ],
      "text/html": [
       "<div>\n",
       "<style scoped>\n",
       "    .dataframe tbody tr th:only-of-type {\n",
       "        vertical-align: middle;\n",
       "    }\n",
       "\n",
       "    .dataframe tbody tr th {\n",
       "        vertical-align: top;\n",
       "    }\n",
       "\n",
       "    .dataframe thead th {\n",
       "        text-align: right;\n",
       "    }\n",
       "</style>\n",
       "<table border=\"1\" class=\"dataframe\">\n",
       "  <thead>\n",
       "    <tr style=\"text-align: right;\">\n",
       "      <th></th>\n",
       "      <th>variant</th>\n",
       "      <th>prompt</th>\n",
       "      <th>response</th>\n",
       "    </tr>\n",
       "  </thead>\n",
       "  <tbody>\n",
       "    <tr>\n",
       "      <th>0</th>\n",
       "      <td>A</td>\n",
       "      <td>Product description: A pair of shoes that can ...</td>\n",
       "      <td>None</td>\n",
       "    </tr>\n",
       "    <tr>\n",
       "      <th>1</th>\n",
       "      <td>A</td>\n",
       "      <td>Product description: A pair of shoes that can ...</td>\n",
       "      <td>None</td>\n",
       "    </tr>\n",
       "    <tr>\n",
       "      <th>2</th>\n",
       "      <td>A</td>\n",
       "      <td>Product description: A pair of shoes that can ...</td>\n",
       "      <td>None</td>\n",
       "    </tr>\n",
       "    <tr>\n",
       "      <th>3</th>\n",
       "      <td>A</td>\n",
       "      <td>Product description: A pair of shoes that can ...</td>\n",
       "      <td>None</td>\n",
       "    </tr>\n",
       "    <tr>\n",
       "      <th>4</th>\n",
       "      <td>A</td>\n",
       "      <td>Product description: A pair of shoes that can ...</td>\n",
       "      <td>None</td>\n",
       "    </tr>\n",
       "    <tr>\n",
       "      <th>5</th>\n",
       "      <td>B</td>\n",
       "      <td>Product description: A home milkshake maker.\\n...</td>\n",
       "      <td>None</td>\n",
       "    </tr>\n",
       "    <tr>\n",
       "      <th>6</th>\n",
       "      <td>B</td>\n",
       "      <td>Product description: A home milkshake maker.\\n...</td>\n",
       "      <td>None</td>\n",
       "    </tr>\n",
       "    <tr>\n",
       "      <th>7</th>\n",
       "      <td>B</td>\n",
       "      <td>Product description: A home milkshake maker.\\n...</td>\n",
       "      <td>Adapt-a-Fit, Omni-Fit, All-Fit, FlexiFit</td>\n",
       "    </tr>\n",
       "    <tr>\n",
       "      <th>8</th>\n",
       "      <td>B</td>\n",
       "      <td>Product description: A home milkshake maker.\\n...</td>\n",
       "      <td>FitFeet, Flex-Tred, OmniSoles</td>\n",
       "    </tr>\n",
       "    <tr>\n",
       "      <th>9</th>\n",
       "      <td>B</td>\n",
       "      <td>Product description: A home milkshake maker.\\n...</td>\n",
       "      <td>AdaptaFit, Omni-Shoes, Fit-All, UniversalFit</td>\n",
       "    </tr>\n",
       "  </tbody>\n",
       "</table>\n",
       "</div>"
      ]
     },
     "execution_count": 7,
     "metadata": {},
     "output_type": "execute_result"
    }
   ],
   "execution_count": 7
  },
  {
   "cell_type": "markdown",
   "metadata": {
    "id": "WHVh_eFngHjA"
   },
   "source": [
    "------------------------------------------------------"
   ]
  },
  {
   "cell_type": "code",
   "execution_count": null,
   "metadata": {
    "id": "kNi_zZ28_9hv"
   },
   "outputs": [],
   "source": [
    "# Load the responses.csv file:\n",
    "df = pd.read_csv(\"responses.csv\")\n",
    "\n",
    "# Shuffle the DataFrame\n",
    "df = df.sample(frac=1).reset_index(drop=True)\n",
    "\n",
    "# Assuming df is your DataFrame and 'response' is the column with the text you want to test\n",
    "response_index = 0\n",
    "df[\"feedback\"] = pd.Series(dtype=\"str\")  # add a new column to store feedback\n",
    "\n",
    "response = widgets.HTML()\n",
    "count_label = widgets.Label()\n",
    "\n",
    "def update_response():\n",
    "    new_response = df.iloc[response_index][\"response\"]\n",
    "    new_response = (\n",
    "        \"<p>\" + new_response + \"</p>\"\n",
    "        if pd.notna(new_response)\n",
    "        else \"<p>No response</p>\"\n",
    "    )\n",
    "    response.value = new_response\n",
    "    count_label.value = f\"Response: {response_index + 1} / {len(df)}\"\n",
    "\n",
    "\n",
    "def on_button_clicked(b):\n",
    "    global response_index\n",
    "    #  convert thumbs up / down to 1 / 0\n",
    "    user_feedback = 1 if b.description == \"👍\" else 0\n",
    "\n",
    "    # update the feedback column\n",
    "    df.at[response_index, \"feedback\"] = user_feedback\n",
    "\n",
    "    response_index += 1\n",
    "    if response_index < len(df):\n",
    "        update_response()\n",
    "    else:\n",
    "        # save the feedback to a CSV file\n",
    "        df.to_csv(\"results.csv\", index=False)\n",
    "\n",
    "        print(\"A/B testing completed. Here's the results:\")\n",
    "        # Calculate score for each variant and count the number of rows per variant\n",
    "        summary_df = (\n",
    "            df.groupby(\"variant\")\n",
    "            .agg(count=(\"feedback\", \"count\"), score=(\"feedback\", \"mean\"))\n",
    "            .reset_index()\n",
    "        )\n",
    "        print(summary_df)"
   ]
  },
  {
   "cell_type": "code",
   "execution_count": null,
   "metadata": {
    "id": "QU3m7NJ8gHjH",
    "outputId": "c23aff47-0080-4f24-8225-03fd77c38d13",
    "colab": {
     "referenced_widgets": [
      "989fe620f46247e9a323aac1d0e67ff2",
      "c40ed3770c2b4d17b4f262999dd47a85",
      "e7c3de050e1144a58aba8ebea8bcd8f0"
     ]
    }
   },
   "outputs": [
    {
     "data": {
      "application/vnd.jupyter.widget-view+json": {
       "model_id": "989fe620f46247e9a323aac1d0e67ff2",
       "version_major": 2,
       "version_minor": 0
      },
      "text/plain": [
       "HTML(value='<p>1. AdaptiFit\\n2. OmniFit Shoes\\n3. FlexiFit\\n4. DynamicFit\\n5. UniFit\\n6. AllFit\\n7. UniversalF…"
      ]
     },
     "metadata": {},
     "output_type": "display_data"
    },
    {
     "data": {
      "application/vnd.jupyter.widget-view+json": {
       "model_id": "c40ed3770c2b4d17b4f262999dd47a85",
       "version_major": 2,
       "version_minor": 0
      },
      "text/plain": [
       "HBox(children=(Button(description='👍', style=ButtonStyle()), Button(description='👎', style=ButtonStyle())))"
      ]
     },
     "metadata": {},
     "output_type": "display_data"
    },
    {
     "data": {
      "application/vnd.jupyter.widget-view+json": {
       "model_id": "e7c3de050e1144a58aba8ebea8bcd8f0",
       "version_major": 2,
       "version_minor": 0
      },
      "text/plain": [
       "Label(value='Response: 1 / 10')"
      ]
     },
     "metadata": {},
     "output_type": "display_data"
    },
    {
     "name": "stdout",
     "output_type": "stream",
     "text": [
      "A/B testing completed. Here's the results:\n",
      "  variant  count score\n",
      "0       A      5   0.6\n",
      "1       B      5   1.0\n"
     ]
    }
   ],
   "source": [
    "update_response()\n",
    "\n",
    "thumbs_down_button = widgets.Button(description=\"👎\")\n",
    "thumbs_down_button.on_click(on_button_clicked)\n",
    "\n",
    "thumbs_up_button = widgets.Button(description=\"👍\")\n",
    "thumbs_up_button.on_click(on_button_clicked)\n",
    "\n",
    "\n",
    "button_box = widgets.HBox(\n",
    "    [\n",
    "        thumbs_up_button,\n",
    "        thumbs_down_button,\n",
    "    ]\n",
    ")\n",
    "\n",
    "# After clicking it 10 times, then click it once more to display\n",
    "display(response, button_box, count_label)"
   ]
  }
 ],
 "metadata": {
  "colab": {
   "provenance": []
  },
  "kernelspec": {
   "display_name": "Python 3 (ipykernel)",
   "name": "python3",
   "language": "python"
  },
  "language_info": {
   "codemirror_mode": {
    "name": "ipython",
    "version": 3
   },
   "file_extension": ".py",
   "mimetype": "text/x-python",
   "name": "python",
   "nbconvert_exporter": "python",
   "pygments_lexer": "ipython3",
   "version": "3.9.13"
  }
 },
 "nbformat": 4,
 "nbformat_minor": 0
}
