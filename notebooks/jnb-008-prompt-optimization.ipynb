{
 "cells": [
  {
   "cell_type": "code",
   "execution_count": null,
   "metadata": {
    "id": "gFcyqS2MgHi9",
    "outputId": "e6d0dfe9-0406-42b8-8ffd-ac93f83ba8d8"
   },
   "outputs": [
    {
     "name": "stdout",
     "output_type": "stream",
     "text": [
      "Requirement already satisfied: openai in /Users/jamesaphoenix/opt/anaconda3/lib/python3.9/site-packages (1.7.2)\n",
      "Requirement already satisfied: pandas in /Users/jamesaphoenix/opt/anaconda3/lib/python3.9/site-packages (2.1.4)\n",
      "Requirement already satisfied: sniffio in /Users/jamesaphoenix/opt/anaconda3/lib/python3.9/site-packages (from openai) (1.2.0)\n",
      "Requirement already satisfied: typing-extensions<5,>=4.7 in /Users/jamesaphoenix/opt/anaconda3/lib/python3.9/site-packages (from openai) (4.7.1)\n",
      "Requirement already satisfied: tqdm>4 in /Users/jamesaphoenix/opt/anaconda3/lib/python3.9/site-packages (from openai) (4.65.0)\n",
      "Requirement already satisfied: httpx<1,>=0.23.0 in /Users/jamesaphoenix/opt/anaconda3/lib/python3.9/site-packages (from openai) (0.25.2)\n",
      "Requirement already satisfied: anyio<5,>=3.5.0 in /Users/jamesaphoenix/opt/anaconda3/lib/python3.9/site-packages (from openai) (3.5.0)\n",
      "Requirement already satisfied: pydantic<3,>=1.9.0 in /Users/jamesaphoenix/opt/anaconda3/lib/python3.9/site-packages (from openai) (2.5.3)\n",
      "Requirement already satisfied: distro<2,>=1.7.0 in /Users/jamesaphoenix/opt/anaconda3/lib/python3.9/site-packages (from openai) (1.8.0)\n",
      "Requirement already satisfied: numpy<2,>=1.22.4 in /Users/jamesaphoenix/opt/anaconda3/lib/python3.9/site-packages (from pandas) (1.24.4)\n",
      "Requirement already satisfied: pytz>=2020.1 in /Users/jamesaphoenix/opt/anaconda3/lib/python3.9/site-packages (from pandas) (2022.1)\n",
      "Requirement already satisfied: tzdata>=2022.1 in /Users/jamesaphoenix/opt/anaconda3/lib/python3.9/site-packages (from pandas) (2023.3)\n",
      "Requirement already satisfied: python-dateutil>=2.8.2 in /Users/jamesaphoenix/opt/anaconda3/lib/python3.9/site-packages (from pandas) (2.8.2)\n",
      "Requirement already satisfied: idna>=2.8 in /Users/jamesaphoenix/opt/anaconda3/lib/python3.9/site-packages (from anyio<5,>=3.5.0->openai) (3.3)\n",
      "Requirement already satisfied: certifi in /Users/jamesaphoenix/opt/anaconda3/lib/python3.9/site-packages (from httpx<1,>=0.23.0->openai) (2022.9.24)\n",
      "Requirement already satisfied: httpcore==1.* in /Users/jamesaphoenix/opt/anaconda3/lib/python3.9/site-packages (from httpx<1,>=0.23.0->openai) (1.0.2)\n",
      "Requirement already satisfied: h11<0.15,>=0.13 in /Users/jamesaphoenix/opt/anaconda3/lib/python3.9/site-packages (from httpcore==1.*->httpx<1,>=0.23.0->openai) (0.14.0)\n",
      "Requirement already satisfied: annotated-types>=0.4.0 in /Users/jamesaphoenix/opt/anaconda3/lib/python3.9/site-packages (from pydantic<3,>=1.9.0->openai) (0.5.0)\n",
      "Requirement already satisfied: pydantic-core==2.14.6 in /Users/jamesaphoenix/opt/anaconda3/lib/python3.9/site-packages (from pydantic<3,>=1.9.0->openai) (2.14.6)\n",
      "Requirement already satisfied: six>=1.5 in /Users/jamesaphoenix/opt/anaconda3/lib/python3.9/site-packages (from python-dateutil>=2.8.2->pandas) (1.16.0)\n"
     ]
    }
   ],
   "source": "%pip install pandas --upgrade"
  },
  {
   "cell_type": "code",
   "metadata": {
    "id": "xl0wmV_RgHi_",
    "ExecuteTime": {
     "end_time": "2025-02-19T01:21:12.433774Z",
     "start_time": "2025-02-19T01:21:11.956476Z"
    }
   },
   "source": [
    "import ipywidgets as widgets\n",
    "from IPython.display import display\n",
    "import pandas as pd\n",
    "from src.genAIClient import GenerativeAIClient\n",
    "import time\n",
    "import random"
   ],
   "outputs": [],
   "execution_count": 1
  },
  {
   "cell_type": "code",
   "metadata": {
    "id": "h84qcT-tAQZk",
    "ExecuteTime": {
     "end_time": "2025-02-19T01:21:12.441015Z",
     "start_time": "2025-02-19T01:21:12.439510Z"
    }
   },
   "source": "client = GenerativeAIClient(show_info_log=False)",
   "outputs": [],
   "execution_count": 2
  },
  {
   "metadata": {
    "ExecuteTime": {
     "end_time": "2025-02-19T01:21:12.445369Z",
     "start_time": "2025-02-19T01:21:12.443751Z"
    }
   },
   "cell_type": "code",
   "source": [
    "# Define two variants of the prompt\n",
    "prompt_A = \"\"\"Product description: A pair of shoes that can fit any foot size.\n",
    "Themes: adaptable, fit, omni-fit.\n",
    "Product names:\n",
    "\n",
    "# output format:\n",
    "comma separated list.\"\"\"\n",
    "\n",
    "prompt_B = \"\"\"Product description: A home milkshake maker.\n",
    "Themes: fast, healthy, compact, flexible.\n",
    "Product names: HomeShaker, Fit Shaker, QuickShake, Shake Maker\n",
    "\n",
    "Product description: A watch that can tell accurate time in space.\n",
    "Themes: astronaut, space-hardened, eliptical orbit, outer space.\n",
    "Product names: AstroTime, SpaceGuard, Orbit-Accurate, EliptoTime.\n",
    "\n",
    "Product description: A pair of shoes that can fit any foot size.\n",
    "Themes: adaptable, fit, omni-fit.\n",
    "Product names:\n",
    "\n",
    "# output format:\n",
    "comma separated list.\"\"\"\n",
    "\n",
    "def delay(ll_delay=1, ul_delay=2):\n",
    "    return round(random.uniform(ll_delay, ul_delay), 2)"
   ],
   "outputs": [],
   "execution_count": 3
  },
  {
   "metadata": {
    "ExecuteTime": {
     "end_time": "2025-02-19T01:21:13.215529Z",
     "start_time": "2025-02-19T01:21:12.451231Z"
    }
   },
   "cell_type": "code",
   "source": [
    "output = client.invoke(prompt_A)\n",
    "print(output)"
   ],
   "outputs": [
    {
     "name": "stdout",
     "output_type": "stream",
     "text": [
      "AdaptaFoot, OmniFit, FitForAll\n"
     ]
    }
   ],
   "execution_count": 4
  },
  {
   "cell_type": "code",
   "metadata": {
    "colab": {
     "base_uri": "https://localhost:8080/"
    },
    "id": "74upFHOR_01p",
    "outputId": "25564202-bac3-4beb-d8d9-211e6285844d",
    "ExecuteTime": {
     "end_time": "2025-02-19T01:21:22.873334Z",
     "start_time": "2025-02-19T01:21:13.303531Z"
    }
   },
   "source": [
    "# Iterate through the prompts and get responses\n",
    "test_prompts = [prompt_A, prompt_B]\n",
    "responses = []\n",
    "num_tests_per_prompt = 6\n",
    "max_retries = 3\n",
    "\n",
    "for idx, prompt in enumerate(test_prompts):\n",
    "    # prompt number as a letter\n",
    "    var_name = chr(ord('A') + idx)\n",
    "\n",
    "    for i in range(num_tests_per_prompt):\n",
    "        # Get a response from the model\n",
    "        response = None\n",
    "        retries = 0\n",
    "        while response is None and retries < max_retries:\n",
    "            response = client.invoke(prompt)\n",
    "            # print(response)\n",
    "            if response is None:\n",
    "                seconds = delay()\n",
    "                print(f\"{var_name}: {i}: delaying for {seconds} seconds...\")\n",
    "                time.sleep(seconds)\n",
    "                retries += 1\n",
    "                continue\n",
    "            data = {\n",
    "                \"variant\": var_name,\n",
    "                \"prompt\": prompt,\n",
    "                \"response\": response\n",
    "                }\n",
    "            responses.append(data)\n",
    "            # print(data)\n",
    "\n",
    "\n",
    "# Convert responses into a DataFrame\n",
    "df = pd.DataFrame(responses)\n"
   ],
   "outputs": [],
   "execution_count": 5
  },
  {
   "metadata": {
    "ExecuteTime": {
     "end_time": "2025-02-19T01:21:22.887454Z",
     "start_time": "2025-02-19T01:21:22.881622Z"
    }
   },
   "cell_type": "code",
   "source": "df",
   "outputs": [
    {
     "data": {
      "text/plain": [
       "   variant                                             prompt  \\\n",
       "0        A  Product description: A pair of shoes that can ...   \n",
       "1        A  Product description: A pair of shoes that can ...   \n",
       "2        A  Product description: A pair of shoes that can ...   \n",
       "3        A  Product description: A pair of shoes that can ...   \n",
       "4        A  Product description: A pair of shoes that can ...   \n",
       "5        A  Product description: A pair of shoes that can ...   \n",
       "6        B  Product description: A home milkshake maker.\\n...   \n",
       "7        B  Product description: A home milkshake maker.\\n...   \n",
       "8        B  Product description: A home milkshake maker.\\n...   \n",
       "9        B  Product description: A home milkshake maker.\\n...   \n",
       "10       B  Product description: A home milkshake maker.\\n...   \n",
       "11       B  Product description: A home milkshake maker.\\n...   \n",
       "\n",
       "                                             response  \n",
       "0   Omni-Fit Shoes, Omni-Fit Footwear, Adaptable F...  \n",
       "1   Omni-Fit, All-Fit, Adapt-A-Foot, Size-Less, Un...  \n",
       "2                       AdaptaFit, OmniFit, FitForAll  \n",
       "3   Omni-Fit Shoes, Adapt-A-Footwear, Fit-All Foot...  \n",
       "4   Omni-Fit Shoes, Adaptable Footwear, One-Size-F...  \n",
       "5                     Omni-Fit, Fit-All, Adapta-Steps  \n",
       "6                  Fit-On-Demand, Adaptashoe, OmniFit  \n",
       "7                        OmniFit, FitStep, AdaptaSole  \n",
       "8                         FitFit, OmniFit, AdaptaShoe  \n",
       "9                        OmniFit, AdaptaStep, FlexFit  \n",
       "10                    AdaptaFoot, FitAlls, Omni-Soles  \n",
       "11        Adapt-A-Shoe, Ever-Fit, Fit-Flex, Omni-Shoe  "
      ],
      "text/html": [
       "<div>\n",
       "<style scoped>\n",
       "    .dataframe tbody tr th:only-of-type {\n",
       "        vertical-align: middle;\n",
       "    }\n",
       "\n",
       "    .dataframe tbody tr th {\n",
       "        vertical-align: top;\n",
       "    }\n",
       "\n",
       "    .dataframe thead th {\n",
       "        text-align: right;\n",
       "    }\n",
       "</style>\n",
       "<table border=\"1\" class=\"dataframe\">\n",
       "  <thead>\n",
       "    <tr style=\"text-align: right;\">\n",
       "      <th></th>\n",
       "      <th>variant</th>\n",
       "      <th>prompt</th>\n",
       "      <th>response</th>\n",
       "    </tr>\n",
       "  </thead>\n",
       "  <tbody>\n",
       "    <tr>\n",
       "      <th>0</th>\n",
       "      <td>A</td>\n",
       "      <td>Product description: A pair of shoes that can ...</td>\n",
       "      <td>Omni-Fit Shoes, Omni-Fit Footwear, Adaptable F...</td>\n",
       "    </tr>\n",
       "    <tr>\n",
       "      <th>1</th>\n",
       "      <td>A</td>\n",
       "      <td>Product description: A pair of shoes that can ...</td>\n",
       "      <td>Omni-Fit, All-Fit, Adapt-A-Foot, Size-Less, Un...</td>\n",
       "    </tr>\n",
       "    <tr>\n",
       "      <th>2</th>\n",
       "      <td>A</td>\n",
       "      <td>Product description: A pair of shoes that can ...</td>\n",
       "      <td>AdaptaFit, OmniFit, FitForAll</td>\n",
       "    </tr>\n",
       "    <tr>\n",
       "      <th>3</th>\n",
       "      <td>A</td>\n",
       "      <td>Product description: A pair of shoes that can ...</td>\n",
       "      <td>Omni-Fit Shoes, Adapt-A-Footwear, Fit-All Foot...</td>\n",
       "    </tr>\n",
       "    <tr>\n",
       "      <th>4</th>\n",
       "      <td>A</td>\n",
       "      <td>Product description: A pair of shoes that can ...</td>\n",
       "      <td>Omni-Fit Shoes, Adaptable Footwear, One-Size-F...</td>\n",
       "    </tr>\n",
       "    <tr>\n",
       "      <th>5</th>\n",
       "      <td>A</td>\n",
       "      <td>Product description: A pair of shoes that can ...</td>\n",
       "      <td>Omni-Fit, Fit-All, Adapta-Steps</td>\n",
       "    </tr>\n",
       "    <tr>\n",
       "      <th>6</th>\n",
       "      <td>B</td>\n",
       "      <td>Product description: A home milkshake maker.\\n...</td>\n",
       "      <td>Fit-On-Demand, Adaptashoe, OmniFit</td>\n",
       "    </tr>\n",
       "    <tr>\n",
       "      <th>7</th>\n",
       "      <td>B</td>\n",
       "      <td>Product description: A home milkshake maker.\\n...</td>\n",
       "      <td>OmniFit, FitStep, AdaptaSole</td>\n",
       "    </tr>\n",
       "    <tr>\n",
       "      <th>8</th>\n",
       "      <td>B</td>\n",
       "      <td>Product description: A home milkshake maker.\\n...</td>\n",
       "      <td>FitFit, OmniFit, AdaptaShoe</td>\n",
       "    </tr>\n",
       "    <tr>\n",
       "      <th>9</th>\n",
       "      <td>B</td>\n",
       "      <td>Product description: A home milkshake maker.\\n...</td>\n",
       "      <td>OmniFit, AdaptaStep, FlexFit</td>\n",
       "    </tr>\n",
       "    <tr>\n",
       "      <th>10</th>\n",
       "      <td>B</td>\n",
       "      <td>Product description: A home milkshake maker.\\n...</td>\n",
       "      <td>AdaptaFoot, FitAlls, Omni-Soles</td>\n",
       "    </tr>\n",
       "    <tr>\n",
       "      <th>11</th>\n",
       "      <td>B</td>\n",
       "      <td>Product description: A home milkshake maker.\\n...</td>\n",
       "      <td>Adapt-A-Shoe, Ever-Fit, Fit-Flex, Omni-Shoe</td>\n",
       "    </tr>\n",
       "  </tbody>\n",
       "</table>\n",
       "</div>"
      ]
     },
     "execution_count": 6,
     "metadata": {},
     "output_type": "execute_result"
    }
   ],
   "execution_count": 6
  },
  {
   "cell_type": "markdown",
   "metadata": {
    "id": "WHVh_eFngHjA"
   },
   "source": [
    "------------------------------------------------------"
   ]
  },
  {
   "metadata": {
    "ExecuteTime": {
     "end_time": "2025-02-19T01:21:22.920531Z",
     "start_time": "2025-02-19T01:21:22.915665Z"
    }
   },
   "cell_type": "code",
   "source": [
    "# Shuffle the DataFrame\n",
    "df = df.sample(frac=1).reset_index(drop=True)\n",
    "\n",
    "# Initialize variables\n",
    "response_index = 0\n",
    "df[\"feedback\"] = pd.Series(dtype=\"str\")  # Add a feedback column\n",
    "\n",
    "response = widgets.HTML()\n",
    "count_label = widgets.Label()\n",
    "\n",
    "def update_response():\n",
    "    \"\"\"Update the displayed response and counter.\"\"\"\n",
    "    if response_index < len(df):\n",
    "        new_response = df.iloc[response_index][\"response\"]\n",
    "        new_response = f\"<p>{new_response}</p>\" if pd.notna(new_response) else \"<p>No response</p>\"\n",
    "        response.value = new_response\n",
    "        count_label.value = f\"Response: {response_index + 1} / {len(df)}\"\n",
    "    else:\n",
    "        response.value = \"<p>All responses reviewed.</p>\"\n",
    "        count_label.value = f\"Response: {response_index} / {len(df)}\"\n",
    "\n",
    "def on_button_clicked(b):\n",
    "    global response_index\n",
    "\n",
    "    if response_index < len(df):\n",
    "        user_feedback = 1 if b.description == \"👍\" else 0\n",
    "        df.at[response_index, \"feedback\"] = user_feedback\n",
    "        response_index += 1\n",
    "        print(f\"Clicked! response_index is now {response_index}\")\n",
    "\n",
    "        if response_index < len(df):\n",
    "            update_response()\n"
   ],
   "outputs": [],
   "execution_count": 7
  },
  {
   "metadata": {
    "ExecuteTime": {
     "end_time": "2025-02-19T01:21:22.940918Z",
     "start_time": "2025-02-19T01:21:22.936033Z"
    }
   },
   "cell_type": "code",
   "source": [
    "update_response()\n",
    "\n",
    "# Create buttons\n",
    "thumbs_down_button = widgets.Button(description=\"👎\")\n",
    "thumbs_down_button.on_click(on_button_clicked)\n",
    "\n",
    "thumbs_up_button = widgets.Button(description=\"👍\")\n",
    "thumbs_up_button.on_click(on_button_clicked)\n",
    "\n",
    "# Arrange buttons\n",
    "button_box = widgets.HBox([thumbs_up_button, thumbs_down_button])\n",
    "\n",
    "# Display UI elements\n",
    "display(response, button_box, count_label)"
   ],
   "outputs": [
    {
     "data": {
      "text/plain": [
       "HTML(value='<p>Fit-On-Demand, Adaptashoe, OmniFit</p>')"
      ],
      "application/vnd.jupyter.widget-view+json": {
       "version_major": 2,
       "version_minor": 0,
       "model_id": "4147dfb0df0e40fb8ffafcd9d383b594"
      }
     },
     "metadata": {},
     "output_type": "display_data"
    },
    {
     "data": {
      "text/plain": [
       "HBox(children=(Button(description='👍', style=ButtonStyle()), Button(description='👎', style=ButtonStyle())))"
      ],
      "application/vnd.jupyter.widget-view+json": {
       "version_major": 2,
       "version_minor": 0,
       "model_id": "b0ebc5146a584099840705693f55ea43"
      }
     },
     "metadata": {},
     "output_type": "display_data"
    },
    {
     "data": {
      "text/plain": [
       "Label(value='Response: 1 / 12')"
      ],
      "application/vnd.jupyter.widget-view+json": {
       "version_major": 2,
       "version_minor": 0,
       "model_id": "f788acbed2ec49daa786efe8f7af0cff"
      }
     },
     "metadata": {},
     "output_type": "display_data"
    }
   ],
   "execution_count": 8
  },
  {
   "metadata": {
    "ExecuteTime": {
     "end_time": "2025-02-19T00:36:44.251139Z",
     "start_time": "2025-02-19T00:36:44.245739Z"
    }
   },
   "cell_type": "code",
   "source": "df",
   "outputs": [
    {
     "data": {
      "text/plain": [
       "   variant                                             prompt  \\\n",
       "0        B  Product description: A home milkshake maker.\\n...   \n",
       "1        A  Product description: A pair of shoes that can ...   \n",
       "2        B  Product description: A home milkshake maker.\\n...   \n",
       "3        B  Product description: A home milkshake maker.\\n...   \n",
       "4        A  Product description: A pair of shoes that can ...   \n",
       "5        A  Product description: A pair of shoes that can ...   \n",
       "6        A  Product description: A pair of shoes that can ...   \n",
       "7        B  Product description: A home milkshake maker.\\n...   \n",
       "8        B  Product description: A home milkshake maker.\\n...   \n",
       "9        B  Product description: A home milkshake maker.\\n...   \n",
       "10       A  Product description: A pair of shoes that can ...   \n",
       "11       A  Product description: A pair of shoes that can ...   \n",
       "\n",
       "                                            response feedback  \n",
       "0                     FitSteps, OmniShoez, AdaptaFit        0  \n",
       "1                                     Omni-Fit Shoes        1  \n",
       "2                        OneFit, OmniShoe, FitForAll        0  \n",
       "3                    FitFlex, OmniFoot, AdaptiveSole        1  \n",
       "4                Omni-Fit Shoes, Adapta-Fit Sneakers        1  \n",
       "5   Omni-Fit, Adapt-A-Foot, Size-Less, Universal Fit        0  \n",
       "6                                  Omni-Fit, Fit-All        0  \n",
       "7                         OmniFit, FitAny, FitForAll        1  \n",
       "8                     OmniFit, FitForAll, AdaptaShoe        0  \n",
       "9                         FitShoe, OmniFit, AdaptFit        1  \n",
       "10  OmniFit, AdaptaFit, OmniFlex, AllFit, PerfectFit        0  \n",
       "11           Omni-Fit Shoes, Adapta-fit, Fit-for-All        1  "
      ],
      "text/html": [
       "<div>\n",
       "<style scoped>\n",
       "    .dataframe tbody tr th:only-of-type {\n",
       "        vertical-align: middle;\n",
       "    }\n",
       "\n",
       "    .dataframe tbody tr th {\n",
       "        vertical-align: top;\n",
       "    }\n",
       "\n",
       "    .dataframe thead th {\n",
       "        text-align: right;\n",
       "    }\n",
       "</style>\n",
       "<table border=\"1\" class=\"dataframe\">\n",
       "  <thead>\n",
       "    <tr style=\"text-align: right;\">\n",
       "      <th></th>\n",
       "      <th>variant</th>\n",
       "      <th>prompt</th>\n",
       "      <th>response</th>\n",
       "      <th>feedback</th>\n",
       "    </tr>\n",
       "  </thead>\n",
       "  <tbody>\n",
       "    <tr>\n",
       "      <th>0</th>\n",
       "      <td>B</td>\n",
       "      <td>Product description: A home milkshake maker.\\n...</td>\n",
       "      <td>FitSteps, OmniShoez, AdaptaFit</td>\n",
       "      <td>0</td>\n",
       "    </tr>\n",
       "    <tr>\n",
       "      <th>1</th>\n",
       "      <td>A</td>\n",
       "      <td>Product description: A pair of shoes that can ...</td>\n",
       "      <td>Omni-Fit Shoes</td>\n",
       "      <td>1</td>\n",
       "    </tr>\n",
       "    <tr>\n",
       "      <th>2</th>\n",
       "      <td>B</td>\n",
       "      <td>Product description: A home milkshake maker.\\n...</td>\n",
       "      <td>OneFit, OmniShoe, FitForAll</td>\n",
       "      <td>0</td>\n",
       "    </tr>\n",
       "    <tr>\n",
       "      <th>3</th>\n",
       "      <td>B</td>\n",
       "      <td>Product description: A home milkshake maker.\\n...</td>\n",
       "      <td>FitFlex, OmniFoot, AdaptiveSole</td>\n",
       "      <td>1</td>\n",
       "    </tr>\n",
       "    <tr>\n",
       "      <th>4</th>\n",
       "      <td>A</td>\n",
       "      <td>Product description: A pair of shoes that can ...</td>\n",
       "      <td>Omni-Fit Shoes, Adapta-Fit Sneakers</td>\n",
       "      <td>1</td>\n",
       "    </tr>\n",
       "    <tr>\n",
       "      <th>5</th>\n",
       "      <td>A</td>\n",
       "      <td>Product description: A pair of shoes that can ...</td>\n",
       "      <td>Omni-Fit, Adapt-A-Foot, Size-Less, Universal Fit</td>\n",
       "      <td>0</td>\n",
       "    </tr>\n",
       "    <tr>\n",
       "      <th>6</th>\n",
       "      <td>A</td>\n",
       "      <td>Product description: A pair of shoes that can ...</td>\n",
       "      <td>Omni-Fit, Fit-All</td>\n",
       "      <td>0</td>\n",
       "    </tr>\n",
       "    <tr>\n",
       "      <th>7</th>\n",
       "      <td>B</td>\n",
       "      <td>Product description: A home milkshake maker.\\n...</td>\n",
       "      <td>OmniFit, FitAny, FitForAll</td>\n",
       "      <td>1</td>\n",
       "    </tr>\n",
       "    <tr>\n",
       "      <th>8</th>\n",
       "      <td>B</td>\n",
       "      <td>Product description: A home milkshake maker.\\n...</td>\n",
       "      <td>OmniFit, FitForAll, AdaptaShoe</td>\n",
       "      <td>0</td>\n",
       "    </tr>\n",
       "    <tr>\n",
       "      <th>9</th>\n",
       "      <td>B</td>\n",
       "      <td>Product description: A home milkshake maker.\\n...</td>\n",
       "      <td>FitShoe, OmniFit, AdaptFit</td>\n",
       "      <td>1</td>\n",
       "    </tr>\n",
       "    <tr>\n",
       "      <th>10</th>\n",
       "      <td>A</td>\n",
       "      <td>Product description: A pair of shoes that can ...</td>\n",
       "      <td>OmniFit, AdaptaFit, OmniFlex, AllFit, PerfectFit</td>\n",
       "      <td>0</td>\n",
       "    </tr>\n",
       "    <tr>\n",
       "      <th>11</th>\n",
       "      <td>A</td>\n",
       "      <td>Product description: A pair of shoes that can ...</td>\n",
       "      <td>Omni-Fit Shoes, Adapta-fit, Fit-for-All</td>\n",
       "      <td>1</td>\n",
       "    </tr>\n",
       "  </tbody>\n",
       "</table>\n",
       "</div>"
      ]
     },
     "execution_count": 13,
     "metadata": {},
     "output_type": "execute_result"
    }
   ],
   "execution_count": 13
  },
  {
   "metadata": {
    "ExecuteTime": {
     "end_time": "2025-02-16T02:45:51.476218Z",
     "start_time": "2025-02-16T02:45:51.470425Z"
    }
   },
   "cell_type": "code",
   "source": [
    "# Save the DataFrame as a CSV file\n",
    "csv_file = \"../data/responses.csv\"\n",
    "df.to_csv(csv_file, index=False)"
   ],
   "outputs": [],
   "execution_count": 80
  },
  {
   "metadata": {
    "ExecuteTime": {
     "end_time": "2025-02-19T00:37:28.699075Z",
     "start_time": "2025-02-19T00:37:28.687740Z"
    }
   },
   "cell_type": "code",
   "source": [
    "print(\"A/B testing completed. Here are the results:\")\n",
    "\n",
    "if \"variant\" in df.columns:\n",
    "    summary_df = df.groupby(\"variant\").agg(\n",
    "        count=(\"feedback\", \"count\"),\n",
    "        score=(\"feedback\", \"mean\")\n",
    "    ).reset_index()\n",
    "\n",
    "    display(summary_df)\n",
    "    print(\"Summary displayed!\")  # DEBUG\n",
    "else:\n",
    "    print(\"No 'variant' column found. Summary cannot be generated.\")"
   ],
   "outputs": [
    {
     "name": "stdout",
     "output_type": "stream",
     "text": [
      "A/B testing completed. Here are the results:\n"
     ]
    },
    {
     "data": {
      "text/plain": [
       "  variant  count score\n",
       "0       A      6   0.5\n",
       "1       B      6   0.5"
      ],
      "text/html": [
       "<div>\n",
       "<style scoped>\n",
       "    .dataframe tbody tr th:only-of-type {\n",
       "        vertical-align: middle;\n",
       "    }\n",
       "\n",
       "    .dataframe tbody tr th {\n",
       "        vertical-align: top;\n",
       "    }\n",
       "\n",
       "    .dataframe thead th {\n",
       "        text-align: right;\n",
       "    }\n",
       "</style>\n",
       "<table border=\"1\" class=\"dataframe\">\n",
       "  <thead>\n",
       "    <tr style=\"text-align: right;\">\n",
       "      <th></th>\n",
       "      <th>variant</th>\n",
       "      <th>count</th>\n",
       "      <th>score</th>\n",
       "    </tr>\n",
       "  </thead>\n",
       "  <tbody>\n",
       "    <tr>\n",
       "      <th>0</th>\n",
       "      <td>A</td>\n",
       "      <td>6</td>\n",
       "      <td>0.5</td>\n",
       "    </tr>\n",
       "    <tr>\n",
       "      <th>1</th>\n",
       "      <td>B</td>\n",
       "      <td>6</td>\n",
       "      <td>0.5</td>\n",
       "    </tr>\n",
       "  </tbody>\n",
       "</table>\n",
       "</div>"
      ]
     },
     "metadata": {},
     "output_type": "display_data"
    },
    {
     "name": "stdout",
     "output_type": "stream",
     "text": [
      "Summary displayed!\n"
     ]
    }
   ],
   "execution_count": 14
  },
  {
   "metadata": {},
   "cell_type": "code",
   "outputs": [],
   "execution_count": null,
   "source": ""
  }
 ],
 "metadata": {
  "colab": {
   "provenance": []
  },
  "kernelspec": {
   "display_name": "Python 3 (ipykernel)",
   "name": "python3",
   "language": "python"
  },
  "language_info": {
   "codemirror_mode": {
    "name": "ipython",
    "version": 3
   },
   "file_extension": ".py",
   "mimetype": "text/x-python",
   "name": "python",
   "nbconvert_exporter": "python",
   "pygments_lexer": "ipython3",
   "version": "3.9.13"
  }
 },
 "nbformat": 4,
 "nbformat_minor": 0
}
