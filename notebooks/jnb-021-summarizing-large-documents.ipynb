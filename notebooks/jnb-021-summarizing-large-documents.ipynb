{
 "cells": [
  {
   "cell_type": "code",
   "execution_count": null,
   "metadata": {
    "colab": {
     "base_uri": "https://localhost:8080/"
    },
    "id": "H4hRkzhIPcrQ",
    "outputId": "8f32bf3d-23a9-4a46-e693-840afe5dafbe"
   },
   "outputs": [
    {
     "name": "stdout",
     "output_type": "stream",
     "text": [
      "Note: you may need to restart the kernel to use updated packages.\n"
     ]
    }
   ],
   "source": [
    "%pip install langchain langchain_openai pypdf langchain-community --quiet --upgrade"
   ]
  },
  {
   "cell_type": "code",
   "metadata": {
    "id": "Ns63W0fmPcrS",
    "ExecuteTime": {
     "end_time": "2025-04-01T22:18:02.325418Z",
     "start_time": "2025-04-01T22:18:02.320274Z"
    }
   },
   "source": [
    "from langchain_google_genai import ChatGoogleGenerativeAI as genai_chat\n",
    "from langchain_community.document_loaders import PyPDFLoader\n",
    "from langchain.text_splitter import RecursiveCharacterTextSplitter\n",
    "import requests\n",
    "from dotenv import load_dotenv"
   ],
   "outputs": [],
   "execution_count": 26
  },
  {
   "cell_type": "code",
   "metadata": {
    "id": "YAzwnbtiPcrS",
    "ExecuteTime": {
     "end_time": "2025-04-01T22:09:31.624957Z",
     "start_time": "2025-04-01T22:09:30.442278Z"
    }
   },
   "source": [
    "# Download the PDF from blob storage:\n",
    "url = (\n",
    "    \"https://storage.googleapis.com/strapi_cms_assets/principles_of_marketing_book.pdf\"\n",
    ")\n",
    "response = requests.get(url)\n",
    "with open(\"../data/principles_of_marketing_book.pdf\", \"wb\") as f:\n",
    "    f.write(response.content)"
   ],
   "outputs": [],
   "execution_count": 21
  },
  {
   "cell_type": "code",
   "metadata": {
    "id": "7upsNpLkPcrS",
    "ExecuteTime": {
     "end_time": "2025-04-01T22:09:55.902448Z",
     "start_time": "2025-04-01T22:09:54.103129Z"
    }
   },
   "source": [
    "# Create a text splitter, load the PDF and split it:\n",
    "text_splitter = RecursiveCharacterTextSplitter(chunk_size=200)\n",
    "loader = PyPDFLoader(\"../data/principles_of_marketing_book.pdf\")\n",
    "pages = loader.load_and_split()"
   ],
   "outputs": [],
   "execution_count": 22
  },
  {
   "metadata": {
    "ExecuteTime": {
     "end_time": "2025-04-01T22:09:58.175340Z",
     "start_time": "2025-04-01T22:09:58.173066Z"
    }
   },
   "cell_type": "code",
   "source": "print(len(pages))",
   "outputs": [
    {
     "name": "stdout",
     "output_type": "stream",
     "text": [
      "499\n"
     ]
    }
   ],
   "execution_count": 23
  },
  {
   "cell_type": "code",
   "metadata": {
    "id": "Ya9z1BEhPcrT",
    "ExecuteTime": {
     "end_time": "2025-04-01T22:10:04.031357Z",
     "start_time": "2025-04-01T22:10:04.024301Z"
    }
   },
   "source": [
    "# Setup a chat_model in LangChain:\n",
    "load_dotenv()\n",
    "model_name = \"models/gemini-2.0-flash-exp\"\n",
    "\n",
    "llm = genai_chat(model=model_name)"
   ],
   "outputs": [],
   "execution_count": 24
  },
  {
   "metadata": {
    "ExecuteTime": {
     "end_time": "2025-04-01T22:10:21.157089Z",
     "start_time": "2025-04-01T22:10:15.744855Z"
    }
   },
   "cell_type": "code",
   "source": [
    "from langchain.chains.combine_documents import create_stuff_documents_chain\n",
    "from langchain_core.prompts import ChatPromptTemplate\n",
    "\n",
    "# Define prompt\n",
    "prompt = ChatPromptTemplate.from_template(\"Write a concise summary of the following:\\\\n\\\\n{context}\")\n",
    "\n",
    "# Instantiate chain\n",
    "chain = create_stuff_documents_chain(llm, prompt)\n",
    "\n",
    "# Invoke chain\n",
    "result = chain.invoke({\"context\": pages})\n",
    "print(result)"
   ],
   "outputs": [
    {
     "name": "stdout",
     "output_type": "stream",
     "text": [
      "Here's a concise summary of the \"Principles of Marketing\" textbook:\n",
      "\n",
      "This textbook provides a comprehensive overview of marketing principles, covering both traditional and contemporary approaches. It emphasizes the importance of creating, communicating, delivering, and exchanging value to customers. The book explores strategic planning, consumer and business buying behavior, market segmentation, targeting, and positioning. It also delves into the creation and management of offerings, marketing channels, supply chains, marketing research, integrated marketing communications (including advertising, public relations, social media, and sales), customer satisfaction, pricing strategies, and the development of a marketing plan. The text also discusses ethical considerations and the changing global environment in which businesses operate. Overall, the book aims to equip students with a solid understanding of marketing principles and their practical application in a variety of contexts.\n"
     ]
    }
   ],
   "execution_count": 25
  },
  {
   "metadata": {
    "ExecuteTime": {
     "end_time": "2025-03-30T14:11:30.499436Z",
     "start_time": "2025-03-30T14:11:30.496589Z"
    }
   },
   "cell_type": "code",
   "source": [
    "from langchain_core.output_parsers import StrOutputParser\n",
    "\n",
    "map_prompt = prompt\n",
    "\n",
    "map_chain = map_prompt | llm | StrOutputParser()"
   ],
   "outputs": [],
   "execution_count": 11
  },
  {
   "metadata": {
    "ExecuteTime": {
     "end_time": "2025-03-30T14:12:26.417325Z",
     "start_time": "2025-03-30T14:12:23.210704Z"
    }
   },
   "cell_type": "code",
   "source": [
    "# Invoke chain\n",
    "result = map_chain.invoke({\"context\": pages})\n",
    "\n",
    "print(result)"
   ],
   "outputs": [
    {
     "name": "stdout",
     "output_type": "stream",
     "text": [
      "This document is a textbook called \"Principles of Marketing\" by the University of Minnesota Libraries Publishing edition in 2015. It's licensed under a Creative Commons Attribution-NonCommercial-ShareAlike 4.0 International License. The book covers topics like defining marketing, strategic planning, consumer behavior, business buying behavior, market segmentation, creating and managing offerings, marketing channels, supply chains, marketing research, integrated marketing communications, public relations, social media, professional selling, customer satisfaction and loyalty, pricing, and the marketing plan. It also includes discussion questions and activities for each chapter. The book is adapted from a work produced and distributed under a Creative Commons license in 2010 by a publisher who requested that they and the original author not receive attribution.\n"
     ]
    }
   ],
   "execution_count": 13
  },
  {
   "cell_type": "code",
   "metadata": {
    "id": "0GGUH4OVPcrU",
    "ExecuteTime": {
     "end_time": "2025-03-31T01:57:58.673868Z",
     "start_time": "2025-03-31T01:57:57.501999Z"
    }
   },
   "source": [
    "# Doing a smaller summarization using the same chain:\n",
    "smaller_amount_of_pages = pages[:10]\n",
    "second_result = map_chain.invoke(smaller_amount_of_pages)"
   ],
   "outputs": [],
   "execution_count": 17
  },
  {
   "cell_type": "code",
   "metadata": {
    "id": "CHIFqbu1PcrU",
    "outputId": "fa6cf5f6-001a-478c-e028-71b1418aa203",
    "ExecuteTime": {
     "end_time": "2025-03-31T01:57:59.609565Z",
     "start_time": "2025-03-31T01:57:59.603752Z"
    }
   },
   "source": [
    "second_result"
   ],
   "outputs": [
    {
     "data": {
      "text/plain": [
       "'\"Principles of Marketing\" is a textbook adapted from a 2010 work under a Creative Commons license by the University of Minnesota Libraries Publishing. It covers core marketing concepts, including defining marketing, strategic planning, consumer and business buying behavior, market segmentation, creating and managing offerings, marketing channels and supply chains, marketing research, integrated marketing communications, public relations, professional selling, customer satisfaction, pricing, and the marketing plan. The book emphasizes the activities involved in marketing and focuses on the role of marketing professionals.'"
      ]
     },
     "execution_count": 18,
     "metadata": {},
     "output_type": "execute_result"
    }
   ],
   "execution_count": 18
  },
  {
   "cell_type": "markdown",
   "metadata": {
    "id": "EIe7M43CPcrU"
   },
   "source": [
    "# Doing a custom `MapReduceChain` to generate a summary in Spanish:\n"
   ]
  },
  {
   "cell_type": "code",
   "metadata": {
    "id": "S81xHRjUPcrU",
    "ExecuteTime": {
     "end_time": "2025-03-31T13:08:35.692164Z",
     "start_time": "2025-03-31T13:08:35.674549Z"
    }
   },
   "source": [
    "from langchain.chains.combine_documents.map_reduce import MapReduceDocumentsChain\n",
    "from langchain.chains.combine_documents.stuff import StuffDocumentsChain\n",
    "from langchain.chains import LLMChain\n",
    "from langchain_core.prompts import PromptTemplate\n",
    "from langchain.chains.mapreduce import MapReduceChain\n",
    "from langchain.text_splitter import CharacterTextSplitter\n",
    "\n",
    "\n",
    "map_template_string = \"\"\"Give the following pages of a marketing book. Generate a summary in Spanish:\n",
    "Pages:\n",
    "{pages}\n",
    "\n",
    "Summary:\n",
    "\"\"\"\n",
    "\n",
    "reduce_template_string = \"\"\"Given the following Spanish summaries of pages of a marketing book, generate a high level description of the book in Spanish:\n",
    "Summaries:\n",
    "{summaries}\n",
    "\"\"\"\n",
    "\n",
    "# Prompt to use in map and reduce stages\n",
    "MAP_PROMPT = PromptTemplate(input_variables=[\"pages\"], template=map_template_string)\n",
    "REDUCE_PROMPT = PromptTemplate(\n",
    "    input_variables=[\"summaries\"], template=reduce_template_string\n",
    ")\n",
    "\n",
    "# LLM to use in map and reduce stages\n",
    "map_llm_chain = LLMChain(llm=llm, prompt=MAP_PROMPT)\n",
    "reduce_llm_chain = LLMChain(llm=llm, prompt=REDUCE_PROMPT)\n",
    "\n",
    "# Takes a list of documents and combines them into a single string\n",
    "combine_documents_chain = StuffDocumentsChain(\n",
    "    llm_chain=reduce_llm_chain,\n",
    "    document_variable_name=\"summaries\",\n",
    ")\n",
    "\n",
    "# Combining documents by mapping a chain over them, then combining results with reduce chain\n",
    "combine_documents = MapReduceDocumentsChain(\n",
    "    # Map chain\n",
    "    llm_chain=map_llm_chain,\n",
    "    # Reduce chain\n",
    "    # The variable name in the llm_chain to put the documents in:\n",
    "    document_variable_name=\"pages\",\n",
    "    combine_document_chain=combine_documents_chain,\n",
    ")\n",
    "\n",
    "map_reduce = MapReduceChain(\n",
    "    combine_documents_chain=combine_documents,\n",
    "    text_splitter=CharacterTextSplitter(\n",
    "        separator=\"\\n##\\n\", chunk_size=100, chunk_overlap=0\n",
    "    ),\n",
    ")"
   ],
   "outputs": [
    {
     "name": "stderr",
     "output_type": "stream",
     "text": [
      "/var/folders/27/zvxcxdl907ld71255c3l38th0000gn/T/ipykernel_41706/214336653.py:28: LangChainDeprecationWarning: The class `LLMChain` was deprecated in LangChain 0.1.17 and will be removed in 1.0. Use :meth:`~RunnableSequence, e.g., `prompt | llm`` instead.\n",
      "  map_llm_chain = LLMChain(llm=llm, prompt=MAP_PROMPT)\n",
      "/var/folders/27/zvxcxdl907ld71255c3l38th0000gn/T/ipykernel_41706/214336653.py:32: LangChainDeprecationWarning: This class is deprecated. Use the `create_stuff_documents_chain` constructor instead. See migration guide here: https://python.langchain.com/docs/versions/migrating_chains/stuff_docs_chain/\n",
      "  combine_documents_chain = StuffDocumentsChain(\n",
      "/var/folders/27/zvxcxdl907ld71255c3l38th0000gn/T/ipykernel_41706/214336653.py:38: LangChainDeprecationWarning: This class is deprecated. Please see the migration guide here for a recommended replacement: https://python.langchain.com/docs/versions/migrating_chains/map_reduce_chain/\n",
      "  combine_documents = MapReduceDocumentsChain(\n",
      "/var/folders/27/zvxcxdl907ld71255c3l38th0000gn/T/ipykernel_41706/214336653.py:47: LangChainDeprecationWarning: Refer to migration guide here for a recommended implementation using LangGraph: https://python.langchain.com/docs/versions/migrating_chains/map_reduce_chain/. See also LangGraph guides for map-reduce: https://langchain-ai.github.io/langgraph/how-tos/map-reduce/.\n",
      "  map_reduce = MapReduceChain(\n"
     ]
    }
   ],
   "execution_count": 19
  },
  {
   "cell_type": "code",
   "execution_count": null,
   "metadata": {
    "id": "Y0Ng6aEnPcrU",
    "outputId": "73c94bba-10e4-464d-be40-5e8e128000f9"
   },
   "outputs": [
    {
     "data": {
      "text/plain": [
       "{'output_text': 'El libro de marketing proporciona una introducción a los principios fundamentales del marketing y su aplicación en el mundo empresarial. El autor destaca la importancia de conocer al cliente, segmentar el mercado y dirigirse a diferentes segmentos de clientes de manera efectiva. También explora conceptos como el posicionamiento y la diferenciación, así como el papel del marketing en la creación de valor y la construcción de relaciones sólidas con los clientes. En resumen, el libro establece las bases para comprender y aplicar con éxito las estrategias de marketing en el mundo empresarial actual.'}"
      ]
     },
     "execution_count": 33,
     "metadata": {},
     "output_type": "execute_result"
    }
   ],
   "source": [
    "map_reduce_result = map_reduce(\n",
    "    {\"input_text\": \"\\n\".join([doc.page_content for doc in pages])[0:100]}\n",
    ")"
   ]
  }
 ],
 "metadata": {
  "colab": {
   "provenance": []
  },
  "kernelspec": {
   "display_name": "base",
   "language": "python",
   "name": "python3"
  },
  "language_info": {
   "codemirror_mode": {
    "name": "ipython",
    "version": 3
   },
   "file_extension": ".py",
   "mimetype": "text/x-python",
   "name": "python",
   "nbconvert_exporter": "python",
   "pygments_lexer": "ipython3",
   "version": "3.9.13"
  },
  "orig_nbformat": 4
 },
 "nbformat": 4,
 "nbformat_minor": 0
}
