{
 "cells": [
  {
   "metadata": {},
   "cell_type": "markdown",
   "source": "# I. Initialization Code",
   "id": "a93dd5014c4f0efc"
  },
  {
   "metadata": {
    "ExecuteTime": {
     "end_time": "2025-01-16T18:09:56.942608Z",
     "start_time": "2025-01-16T18:09:56.930850Z"
    }
   },
   "cell_type": "code",
   "source": [
    "%load_ext autoreload\n",
    "%autoreload 2"
   ],
   "id": "481c67eb4ed41555",
   "outputs": [
    {
     "name": "stdout",
     "output_type": "stream",
     "text": [
      "The autoreload extension is already loaded. To reload it, use:\n",
      "  %reload_ext autoreload\n"
     ]
    }
   ],
   "execution_count": 17
  },
  {
   "metadata": {
    "ExecuteTime": {
     "end_time": "2025-01-16T18:10:05.244467Z",
     "start_time": "2025-01-16T18:10:05.231943Z"
    }
   },
   "cell_type": "code",
   "source": [
    "from src.gemini import get_model\n",
    "from src.fnPrompts import (simple_prompt,\n",
    "                           product_prompt_template,\n",
    "                           rate_products_prompt)\n",
    "from src.fnUtils import render_markdown"
   ],
   "id": "d2b30958328e89d1",
   "outputs": [],
   "execution_count": 18
  },
  {
   "metadata": {
    "ExecuteTime": {
     "end_time": "2025-01-16T18:10:06.683550Z",
     "start_time": "2025-01-16T18:10:06.671115Z"
    }
   },
   "cell_type": "code",
   "source": [
    "print(simple_prompt())\n",
    "# print(product_prompt_template('Vacuum cleaner'))"
   ],
   "id": "ee8e2f797ef94270",
   "outputs": [
    {
     "name": "stdout",
     "output_type": "stream",
     "text": [
      "Generate a list of 10 product names for vacuum cleaner.\n"
     ]
    }
   ],
   "execution_count": 19
  },
  {
   "metadata": {
    "ExecuteTime": {
     "end_time": "2025-01-16T18:10:07.935409Z",
     "start_time": "2025-01-16T18:10:07.922680Z"
    }
   },
   "cell_type": "code",
   "source": [
    "model = get_model()\n",
    "model.model_name"
   ],
   "id": "4173883f72560a77",
   "outputs": [
    {
     "data": {
      "text/plain": [
       "'models/gemini-2.0-flash-exp'"
      ]
     },
     "execution_count": 20,
     "metadata": {},
     "output_type": "execute_result"
    }
   ],
   "execution_count": 20
  },
  {
   "metadata": {},
   "cell_type": "markdown",
   "source": "# II. Prompting",
   "id": "bba467b7e2795fc2"
  },
  {
   "metadata": {
    "ExecuteTime": {
     "end_time": "2025-01-16T18:17:23.052830Z",
     "start_time": "2025-01-16T18:17:21.156676Z"
    }
   },
   "cell_type": "code",
   "source": [
    "response = model.generate_content(simple_prompt())\n",
    "render_markdown(response.text)"
   ],
   "id": "d399835e51696d3a",
   "outputs": [
    {
     "data": {
      "text/plain": [
       "<IPython.core.display.Markdown object>"
      ],
      "text/markdown": "> Okay, here are 10 product names for a vacuum cleaner, playing with different styles and focuses:\n> \n> 1. **AeroClean Pro:** (Focuses on power and professional quality)\n> 2. **WhispVac:** (Highlights quiet operation)\n> 3. **DustBuster Max:** (Emphasizes strong suction and dust removal)\n> 4. **Glide & Shine:** (Suggests smooth movement and floor cleaning)\n> 5. **PureFlow Vacuum:** (Implies clean air filtration)\n> 6. **TerraClean:** (Suggests environmentally friendly cleaning and connection to earth/home)\n> 7. **SwiftSweep:** (Conveys speed and efficiency)\n> 8. **Zenith Vac:** (Positions it as a top-of-the-line or ultimate choice)\n> 9. **PowerBeam Cleaner:** (Focuses on powerful cleaning and a concentrated beam of suction)\n> 10. **Spotless Sentinel:** (Evokes a sense of protection against dirt and constant vigilance)\n"
     },
     "metadata": {},
     "output_type": "display_data"
    }
   ],
   "execution_count": 27
  },
  {
   "metadata": {},
   "cell_type": "markdown",
   "source": "# III. Five Principles of Prompting",
   "id": "d18240799c6cd067"
  },
  {
   "metadata": {},
   "cell_type": "markdown",
   "source": [
    "## 1. Give Direction\n",
    "### Describe the desired style in detail, or reference a relevant persona.\n",
    "## 2. Provide Examples\n",
    "### Insert a diverse set of test cases where the task was done correctly"
   ],
   "id": "fa23df25e50a8e65"
  },
  {
   "metadata": {
    "ExecuteTime": {
     "end_time": "2025-01-16T17:31:25.678548Z",
     "start_time": "2025-01-16T17:31:25.675687Z"
    }
   },
   "cell_type": "code",
   "outputs": [
    {
     "name": "stdout",
     "output_type": "stream",
     "text": [
      "\n",
      "    Brainstorm a list of 3 product names for a flexible garden hose, in the style of Walt Disney.\n",
      "    Use the provided examples for guidance.\n",
      "    \n",
      "    ## Output format\n",
      "    Return the results as a comma separated list, in this format:\n",
      "    Product description: flexible garden hose\n",
      "    Product names: [list of 3 product names]\n",
      "    \n",
      "    ## Examples\n",
      "    \n",
      "    Product description: a refrigerator that dispenses soda\n",
      "    Product names:iCoolFridge, iRefreshingSoda, iSeekSoda\n",
      "    \n",
      "    Product description: a watch that tells daily horoscopes\n",
      "    Product names: iLuckWatch, iPredictWatch, iStars\n",
      "    \n",
      "    Product description: a car mug warmer\n",
      "    Product names: iKeepWarm, iMakeHot, iCarMug\n",
      "\n",
      "    \n"
     ]
    }
   ],
   "execution_count": 3,
   "source": [
    "prompt = product_prompt_template(product_description='flexible garden hose')\n",
    "print(prompt)"
   ],
   "id": "4accaee55c9295a"
  },
  {
   "metadata": {
    "ExecuteTime": {
     "end_time": "2025-01-16T17:31:35.668395Z",
     "start_time": "2025-01-16T17:31:34.598098Z"
    }
   },
   "cell_type": "code",
   "outputs": [],
   "execution_count": 4,
   "source": "response = model.generate_content(prompt)",
   "id": "8f197cf4613e66ff"
  },
  {
   "metadata": {
    "ExecuteTime": {
     "end_time": "2025-01-16T17:31:49.282896Z",
     "start_time": "2025-01-16T17:31:49.279574Z"
    }
   },
   "cell_type": "code",
   "outputs": [
    {
     "name": "stdout",
     "output_type": "stream",
     "text": [
      "Product description: flexible garden hose\n",
      "Product names: iFlowHose, iBendyBuddy, iWaterWand\n",
      "\n"
     ]
    }
   ],
   "execution_count": 6,
   "source": [
    "product_data = response.text\n",
    "print(product_data)"
   ],
   "id": "134d82e519ed8fb9"
  },
  {
   "metadata": {},
   "cell_type": "markdown",
   "source": [
    "## 3. Specify Format\n",
    "### Define what rules to follow, and the required structure of the response"
   ],
   "id": "1bf83111b40e8034"
  },
  {
   "metadata": {
    "ExecuteTime": {
     "end_time": "2025-01-16T16:01:42.843229Z",
     "start_time": "2025-01-16T16:01:41.931062Z"
    }
   },
   "cell_type": "code",
   "outputs": [],
   "execution_count": 55,
   "source": [
    "prompt = rate_products_prompt(product_data)\n",
    "response = model.generate_content(prompt)"
   ],
   "id": "70542837909625f9"
  },
  {
   "metadata": {
    "ExecuteTime": {
     "end_time": "2025-01-16T16:00:22.035975Z",
     "start_time": "2025-01-16T16:00:22.031744Z"
    }
   },
   "cell_type": "code",
   "outputs": [
    {
     "data": {
      "text/plain": [
       "<IPython.core.display.Markdown object>"
      ],
      "text/markdown": "> | Product Name        | Catchiness | Uniqueness | Simplicity |\n> |---------------------|------------|------------|------------|\n> | Flow-Pal           | 4          | 3          | 4          |\n> | Stretchin' Sprout  | 4          | 4          | 3          |\n> | The Happy Hose     | 3          | 2          | 5          |\n"
     },
     "metadata": {},
     "output_type": "display_data"
    }
   ],
   "execution_count": 52,
   "source": "render_markdown(response.text)",
   "id": "fadb4497703464d3"
  },
  {
   "metadata": {
    "ExecuteTime": {
     "end_time": "2025-01-16T16:01:43.769337Z",
     "start_time": "2025-01-16T16:01:43.766870Z"
    }
   },
   "cell_type": "code",
   "outputs": [
    {
     "name": "stdout",
     "output_type": "stream",
     "text": [
      "\n",
      "# Given the product info\n",
      "Product description: flexible garden hose\n",
      "Product names: [Flow-Pal, Stretchin' Sprout, The Happy Hose]\n",
      "\n",
      "## Instructions\n",
      "Rate the product names based on their catchiness, uniqueness, and simplicity. Rate them on a scale from 1-5, with 5 being the highest score.\n",
      "## Output format\n",
      "Respond only with a markdown table containing the results.\n",
      "\n"
     ]
    }
   ],
   "execution_count": 56,
   "source": "",
   "id": "b0a6e6110f991671"
  },
  {
   "metadata": {},
   "cell_type": "code",
   "outputs": [],
   "execution_count": null,
   "source": "",
   "id": "b50dc003fe8c280e"
  },
  {
   "metadata": {},
   "cell_type": "code",
   "outputs": [],
   "execution_count": null,
   "source": "",
   "id": "560b288ac6358252"
  },
  {
   "metadata": {},
   "cell_type": "markdown",
   "source": [
    "## 4. Evaluate Quality\n",
    "### Identify errors and rate responses, testing what drives performance"
   ],
   "id": "c932d8edc91bc1b8"
  },
  {
   "metadata": {},
   "cell_type": "markdown",
   "source": [
    "## 5. Divide Labor\n",
    "### Split tasks into multiple steps, chained together for complex goals"
   ],
   "id": "d33cae721f5b8241"
  },
  {
   "metadata": {},
   "cell_type": "code",
   "outputs": [],
   "execution_count": null,
   "source": "",
   "id": "665e76eff2e8d913"
  }
 ],
 "metadata": {
  "kernelspec": {
   "display_name": "Python 3",
   "language": "python",
   "name": "python3"
  },
  "language_info": {
   "codemirror_mode": {
    "name": "ipython",
    "version": 2
   },
   "file_extension": ".py",
   "mimetype": "text/x-python",
   "name": "python",
   "nbconvert_exporter": "python",
   "pygments_lexer": "ipython2",
   "version": "2.7.6"
  }
 },
 "nbformat": 4,
 "nbformat_minor": 5
}
