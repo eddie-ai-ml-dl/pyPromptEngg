{
 "cells": [
  {
   "metadata": {},
   "cell_type": "markdown",
   "source": "# I. Initialization Code",
   "id": "a93dd5014c4f0efc"
  },
  {
   "metadata": {
    "ExecuteTime": {
     "end_time": "2025-01-22T01:53:25.342495Z",
     "start_time": "2025-01-22T01:53:25.333091Z"
    }
   },
   "cell_type": "code",
   "source": [
    "%load_ext autoreload\n",
    "%autoreload 2"
   ],
   "id": "481c67eb4ed41555",
   "outputs": [],
   "execution_count": 2
  },
  {
   "metadata": {
    "ExecuteTime": {
     "end_time": "2025-01-22T01:53:26.369183Z",
     "start_time": "2025-01-22T01:53:26.114418Z"
    }
   },
   "cell_type": "code",
   "source": [
    "from src.gemini import get_model\n",
    "from src.fnPrompts import (simple_prompt,\n",
    "                           product_prompt_template,\n",
    "                           rate_products_prompt)\n",
    "from src.fnUtils import render_markdown"
   ],
   "id": "d2b30958328e89d1",
   "outputs": [],
   "execution_count": 3
  },
  {
   "metadata": {
    "ExecuteTime": {
     "end_time": "2025-01-22T01:53:27.276550Z",
     "start_time": "2025-01-22T01:53:27.265304Z"
    }
   },
   "cell_type": "code",
   "source": [
    "print(simple_prompt())\n",
    "# print(product_prompt_template('Vacuum cleaner'))"
   ],
   "id": "ee8e2f797ef94270",
   "outputs": [
    {
     "name": "stdout",
     "output_type": "stream",
     "text": [
      "Generate a list of 10 product names for vacuum cleaner.\n"
     ]
    }
   ],
   "execution_count": 4
  },
  {
   "metadata": {
    "ExecuteTime": {
     "end_time": "2025-01-22T01:53:28.073565Z",
     "start_time": "2025-01-22T01:53:28.061867Z"
    }
   },
   "cell_type": "code",
   "source": [
    "model = get_model()\n",
    "model.model_name"
   ],
   "id": "4173883f72560a77",
   "outputs": [
    {
     "data": {
      "text/plain": [
       "'models/gemini-2.0-flash-exp'"
      ]
     },
     "execution_count": 5,
     "metadata": {},
     "output_type": "execute_result"
    }
   ],
   "execution_count": 5
  },
  {
   "metadata": {},
   "cell_type": "markdown",
   "source": "# II. Prompting",
   "id": "bba467b7e2795fc2"
  },
  {
   "metadata": {
    "ExecuteTime": {
     "end_time": "2025-01-22T01:53:32.021014Z",
     "start_time": "2025-01-22T01:53:30.131741Z"
    }
   },
   "cell_type": "code",
   "source": [
    "response = model.generate_content(simple_prompt())\n",
    "render_markdown(response.text)"
   ],
   "id": "d399835e51696d3a",
   "outputs": [
    {
     "data": {
      "text/plain": [
       "<IPython.core.display.Markdown object>"
      ],
      "text/markdown": "> Okay, here are 10 product names for a vacuum cleaner, trying to capture different vibes:\n> \n> 1. **Apex Clean:** (Sounds powerful and suggests top performance)\n> 2. **SwiftSweep:** (Implies speed and efficiency)\n> 3. **PureFlow Vac:** (Highlights clean air and smooth operation)\n> 4. **DustBuster Pro:** (Classic, suggests a heavy-duty dust buster)\n> 5. **The Aura Cleaner:** (More sophisticated, emphasizes creating a clean atmosphere)\n> 6. **Zenith Vacuum:** (Elevated, implies the highest level of cleaning)\n> 7. **Whirlwind X:** (Dynamic, suggests strong suction and power)\n> 8. **GleamTech:** (Modern, implies technological innovation for shine)\n> 9. **EverClean Home:** (Focuses on the benefit of a perpetually clean home)\n> 10. **Silent Sentinel:** (Implies quiet operation and constant, reliable cleaning)\n"
     },
     "metadata": {},
     "output_type": "display_data"
    }
   ],
   "execution_count": 6
  },
  {
   "metadata": {},
   "cell_type": "markdown",
   "source": "# III. Five Principles of Prompting",
   "id": "d18240799c6cd067"
  },
  {
   "metadata": {},
   "cell_type": "markdown",
   "source": [
    "## 1. Give Direction\n",
    "### Describe the desired style in detail, or reference a relevant persona.\n",
    "## 2. Provide Examples\n",
    "### Insert a diverse set of test cases where the task was done correctly"
   ],
   "id": "fa23df25e50a8e65"
  },
  {
   "metadata": {
    "ExecuteTime": {
     "end_time": "2025-01-22T01:53:35.188700Z",
     "start_time": "2025-01-22T01:53:35.177980Z"
    }
   },
   "cell_type": "code",
   "source": [
    "prompt = product_prompt_template(product_description='flexible garden hose', num=2)\n",
    "print(prompt)"
   ],
   "id": "4accaee55c9295a",
   "outputs": [
    {
     "name": "stdout",
     "output_type": "stream",
     "text": [
      "\n",
      "    Brainstorm a list of 2 product names for a flexible garden hose, in the style of Walt Disney.\n",
      "    Use the provided examples for guidance.\n",
      "    \n",
      "    ## Output format\n",
      "    Return the results as a comma separated list, in this format:\n",
      "    Product description: flexible garden hose\n",
      "    Product names: [list of 2 product names]\n",
      "    \n",
      "    ## Examples\n",
      "    \n",
      "    Product description: a refrigerator that dispenses soda\n",
      "    Product names:iCoolFridge, iRefreshingSoda, iSeekSoda\n",
      "    \n",
      "    Product description: a watch that tells daily horoscopes\n",
      "    Product names: iLuckWatch, iPredictWatch, iStars\n",
      "    \n",
      "    Product description: a car mug warmer\n",
      "    Product names: iKeepWarm, iMakeHot, iCarMug\n",
      "    ---\n",
      "\n",
      "    \n"
     ]
    }
   ],
   "execution_count": 7
  },
  {
   "metadata": {
    "ExecuteTime": {
     "end_time": "2025-01-22T01:54:06.972934Z",
     "start_time": "2025-01-22T01:54:06.375476Z"
    }
   },
   "cell_type": "code",
   "source": "response = model.generate_content(prompt)",
   "id": "8f197cf4613e66ff",
   "outputs": [],
   "execution_count": 8
  },
  {
   "metadata": {
    "ExecuteTime": {
     "end_time": "2025-01-22T01:54:09.934291Z",
     "start_time": "2025-01-22T01:54:09.923745Z"
    }
   },
   "cell_type": "code",
   "source": [
    "product_data = response.text\n",
    "print(product_data)"
   ],
   "id": "134d82e519ed8fb9",
   "outputs": [
    {
     "name": "stdout",
     "output_type": "stream",
     "text": [
      "Product description: flexible garden hose\n",
      "Product names: PixiePlumber, BloomBuddy\n",
      "\n"
     ]
    }
   ],
   "execution_count": 9
  },
  {
   "metadata": {},
   "cell_type": "markdown",
   "source": [
    "## 3. Specify Format\n",
    "### Define what rules to follow, and the required structure of the response"
   ],
   "id": "1bf83111b40e8034"
  },
  {
   "metadata": {
    "ExecuteTime": {
     "end_time": "2025-01-22T01:56:17.493044Z",
     "start_time": "2025-01-22T01:56:16.744579Z"
    }
   },
   "cell_type": "code",
   "source": [
    "prompt = rate_products_prompt(product_data)\n",
    "response = model.generate_content(prompt)"
   ],
   "id": "70542837909625f9",
   "outputs": [],
   "execution_count": 10
  },
  {
   "metadata": {
    "ExecuteTime": {
     "end_time": "2025-01-22T01:56:53.128968Z",
     "start_time": "2025-01-22T01:56:53.118875Z"
    }
   },
   "cell_type": "code",
   "source": "print(response.text)",
   "id": "413842ce07b8f8d7",
   "outputs": [
    {
     "name": "stdout",
     "output_type": "stream",
     "text": [
      "| Product Name | Catchiness | Uniqueness | Simplicity |\n",
      "|---|---|---|---|\n",
      "| PixiePlumber | 3 | 4 | 3 |\n",
      "| BloomBuddy | 4 | 3 | 4 |\n",
      "\n"
     ]
    }
   ],
   "execution_count": 11
  },
  {
   "metadata": {
    "ExecuteTime": {
     "end_time": "2025-01-16T16:00:22.035975Z",
     "start_time": "2025-01-16T16:00:22.031744Z"
    }
   },
   "cell_type": "code",
   "outputs": [
    {
     "data": {
      "text/plain": [
       "<IPython.core.display.Markdown object>"
      ],
      "text/markdown": "> | Product Name        | Catchiness | Uniqueness | Simplicity |\n> |---------------------|------------|------------|------------|\n> | Flow-Pal           | 4          | 3          | 4          |\n> | Stretchin' Sprout  | 4          | 4          | 3          |\n> | The Happy Hose     | 3          | 2          | 5          |\n"
     },
     "metadata": {},
     "output_type": "display_data"
    }
   ],
   "execution_count": 52,
   "source": "render_markdown(response.text)",
   "id": "fadb4497703464d3"
  },
  {
   "metadata": {
    "ExecuteTime": {
     "end_time": "2025-01-16T16:01:43.769337Z",
     "start_time": "2025-01-16T16:01:43.766870Z"
    }
   },
   "cell_type": "code",
   "outputs": [
    {
     "name": "stdout",
     "output_type": "stream",
     "text": [
      "\n",
      "# Given the product info\n",
      "Product description: flexible garden hose\n",
      "Product names: [Flow-Pal, Stretchin' Sprout, The Happy Hose]\n",
      "\n",
      "## Instructions\n",
      "Rate the product names based on their catchiness, uniqueness, and simplicity. Rate them on a scale from 1-5, with 5 being the highest score.\n",
      "## Output format\n",
      "Respond only with a markdown table containing the results.\n",
      "\n"
     ]
    }
   ],
   "execution_count": 56,
   "source": "",
   "id": "b0a6e6110f991671"
  },
  {
   "metadata": {},
   "cell_type": "code",
   "outputs": [],
   "execution_count": null,
   "source": "",
   "id": "b50dc003fe8c280e"
  },
  {
   "metadata": {},
   "cell_type": "code",
   "outputs": [],
   "execution_count": null,
   "source": "",
   "id": "560b288ac6358252"
  },
  {
   "metadata": {},
   "cell_type": "markdown",
   "source": [
    "## 4. Evaluate Quality\n",
    "### Identify errors and rate responses, testing what drives performance"
   ],
   "id": "c932d8edc91bc1b8"
  },
  {
   "metadata": {},
   "cell_type": "markdown",
   "source": [
    "## 5. Divide Labor\n",
    "### Split tasks into multiple steps, chained together for complex goals"
   ],
   "id": "d33cae721f5b8241"
  },
  {
   "metadata": {},
   "cell_type": "code",
   "outputs": [],
   "execution_count": null,
   "source": "",
   "id": "665e76eff2e8d913"
  }
 ],
 "metadata": {
  "kernelspec": {
   "display_name": "Python 3",
   "language": "python",
   "name": "python3"
  },
  "language_info": {
   "codemirror_mode": {
    "name": "ipython",
    "version": 2
   },
   "file_extension": ".py",
   "mimetype": "text/x-python",
   "name": "python",
   "nbconvert_exporter": "python",
   "pygments_lexer": "ipython2",
   "version": "2.7.6"
  }
 },
 "nbformat": 4,
 "nbformat_minor": 5
}
