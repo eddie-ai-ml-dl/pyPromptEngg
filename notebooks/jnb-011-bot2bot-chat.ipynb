{
 "cells": [
  {
   "cell_type": "code",
   "id": "initial_id",
   "metadata": {
    "collapsed": true,
    "ExecuteTime": {
     "end_time": "2025-03-05T02:23:48.583621Z",
     "start_time": "2025-03-05T02:23:48.578490Z"
    }
   },
   "source": [
    "from src.b2b_chat import bot_to_bot_chat\n",
    "from src.genAIClient import GenerativeAIClient"
   ],
   "outputs": [],
   "execution_count": 17
  },
  {
   "metadata": {
    "ExecuteTime": {
     "end_time": "2025-03-05T02:22:36.636227Z",
     "start_time": "2025-03-05T02:22:36.633182Z"
    }
   },
   "cell_type": "code",
   "source": [
    "prompt1=\"\"\"\n",
    "You are an expert SAT math tutor. Randomly select one SAT math problem(s) for me to solve.\n",
    "I will respond with an answer, if my answer is wrong, continue to respond with one clue at a time to help me solve the problem.\n",
    "If I finally solve the problem, simply say \"Bye\".\n",
    "\"\"\""
   ],
   "id": "52454f0f96198d1e",
   "outputs": [],
   "execution_count": 13
  },
  {
   "metadata": {
    "ExecuteTime": {
     "end_time": "2025-03-05T02:22:37.208230Z",
     "start_time": "2025-03-05T02:22:37.205989Z"
    }
   },
   "cell_type": "code",
   "source": [
    "prompt2 = \"\"\"You are a high school student. I will give you an SAT math problem to solve. Solve the problem and give me the final answer. Don't include steps for how the problem was solved.\n",
    "For example, if I say solve for x: 2x = 4. You simply answer 2.\n",
    "\n",
    "I will tell you if you have the correct answer, otherwise I will give you clues to help you solve.\n",
    "\"\"\""
   ],
   "id": "ec5ecd4c3137616b",
   "outputs": [],
   "execution_count": 14
  },
  {
   "metadata": {
    "ExecuteTime": {
     "end_time": "2025-03-05T02:22:50.773773Z",
     "start_time": "2025-03-05T02:22:38.148242Z"
    }
   },
   "cell_type": "code",
   "source": "bot_to_bot_chat(prompt1, prompt2)",
   "id": "1234cac5be18be7b",
   "outputs": [
    {
     "name": "stdout",
     "output_type": "stream",
     "text": [
      "Gemini Chatbot Initialized. Ready for conversation.\n",
      "Gemini Chatbot Initialized. Ready for conversation.\n",
      "######################### START: B2B CONVERSATION #########################\n",
      "TUTOR (models/gemini-2.0-flash-exp) /???> Okay, here's your problem:\n",
      "\n",
      "**Problem:**\n",
      "\n",
      "A circular garden has a radius of 5 feet. A gardener wants to create a square border around the garden. What is the area, in square feet, of the smallest square that can contain the circular garden?\n",
      "\n",
      "STUDENT (models/gemini-1.5-flash) /~~~> 25\n",
      "\n",
      "TUTOR (models/gemini-2.0-flash-exp) /???> Not quite! Think about how the circle fits inside the square.\n",
      "\n",
      "Clue 1: Visualize the square and the circle. How does the diameter of the circle relate to the side length of the square?\n",
      "\n",
      "STUDENT (models/gemini-1.5-flash) /~~~> 100\n",
      "\n",
      "TUTOR (models/gemini-2.0-flash-exp) /???> Not quite!\n",
      "\n",
      "Clue 2: Remember that area is calculated in square units. Double-check what measurement you used to calculate the area.\n",
      "\n",
      "STUDENT (models/gemini-1.5-flash) /~~~> 100\n",
      "\n",
      "TUTOR (models/gemini-2.0-flash-exp) /???> You're still on the wrong track. Let's try a different hint.\n",
      "\n",
      "Clue 3: The side length of the square is equal to the diameter of the circle. What is the diameter of the circle?\n",
      "\n",
      "STUDENT (models/gemini-1.5-flash) /~~~> 100\n",
      "\n",
      "TUTOR (models/gemini-2.0-flash-exp) /???> You are still incorrect.\n",
      "\n",
      "Clue 4: The area of a square is side * side.\n",
      "\n",
      "STUDENT (models/gemini-1.5-flash) /~~~> 100\n",
      "\n",
      "Error sending message: 429 Resource has been exhausted (e.g. check quota).\n",
      "Delaying for 1.3 seconds...\n",
      "TUTOR (models/gemini-2.0-flash-exp) /???> You are still incorrect.\n",
      "\n",
      "Clue 5: The diameter of the circle is twice the radius.\n",
      "\n",
      "STUDENT (models/gemini-1.5-flash) /~~~> 100\n",
      "\n",
      "Error sending message: 429 Resource has been exhausted (e.g. check quota).\n",
      "Delaying for 1.34 seconds...\n",
      "TUTOR (models/gemini-2.0-flash-exp) /???> You are still incorrect.\n",
      "\n",
      "Clue 6: The radius is 5 feet, so the diameter is 2 * 5 = 10 feet.\n",
      "\n",
      "STUDENT (models/gemini-1.5-flash) /~~~> 100\n",
      "\n",
      "TUTOR (models/gemini-2.0-flash-exp) /???> You are still incorrect.\n",
      "\n",
      "Clue 7: The side of the square is 10 feet.\n",
      "\n",
      "STUDENT (models/gemini-1.5-flash) /~~~> 100\n",
      "\n",
      "TUTOR (models/gemini-2.0-flash-exp) /???> You are still incorrect.\n",
      "\n",
      "Clue 8: Area of the square = side * side = 10 * 10 = ?\n",
      "\n",
      "STUDENT (models/gemini-1.5-flash) /~~~> 100\n",
      "\n",
      "TUTOR (models/gemini-2.0-flash-exp) /???> Yes! You got it. The area is 100 square feet.\n",
      "\n",
      "Bye.\n",
      "\n",
      "STUDENT (models/gemini-1.5-flash) /~~~> Bye!\n",
      "\n",
      "######################### END: B2B CONVERSATION #########################\n"
     ]
    }
   ],
   "execution_count": 15
  },
  {
   "metadata": {
    "ExecuteTime": {
     "end_time": "2025-03-05T02:23:52.582131Z",
     "start_time": "2025-03-05T02:23:52.398153Z"
    }
   },
   "cell_type": "code",
   "source": [
    "client = GenerativeAIClient()\n",
    "client.list_models()"
   ],
   "id": "34aa877891152af1",
   "outputs": [
    {
     "name": "stdout",
     "output_type": "stream",
     "text": [
      "models/gemini-1.0-pro-vision-latest\n",
      "models/gemini-pro-vision\n",
      "models/gemini-1.5-pro-latest\n",
      "models/gemini-1.5-pro-001\n",
      "models/gemini-1.5-pro-002\n",
      "models/gemini-1.5-pro\n",
      "models/gemini-1.5-flash-latest\n",
      "models/gemini-1.5-flash-001\n",
      "models/gemini-1.5-flash-001-tuning\n",
      "models/gemini-1.5-flash\n",
      "models/gemini-1.5-flash-002\n",
      "models/gemini-1.5-flash-8b\n",
      "models/gemini-1.5-flash-8b-001\n",
      "models/gemini-1.5-flash-8b-latest\n",
      "models/gemini-1.5-flash-8b-exp-0827\n",
      "models/gemini-1.5-flash-8b-exp-0924\n",
      "models/gemini-2.0-flash-exp\n",
      "models/gemini-2.0-flash\n",
      "models/gemini-2.0-flash-001\n",
      "models/gemini-2.0-flash-lite-001\n",
      "models/gemini-2.0-flash-lite\n",
      "models/gemini-2.0-flash-lite-preview-02-05\n",
      "models/gemini-2.0-flash-lite-preview\n",
      "models/gemini-2.0-pro-exp\n",
      "models/gemini-2.0-pro-exp-02-05\n",
      "models/gemini-exp-1206\n",
      "models/gemini-2.0-flash-thinking-exp-01-21\n",
      "models/gemini-2.0-flash-thinking-exp\n",
      "models/gemini-2.0-flash-thinking-exp-1219\n",
      "models/learnlm-1.5-pro-experimental\n"
     ]
    }
   ],
   "execution_count": 18
  },
  {
   "metadata": {},
   "cell_type": "code",
   "outputs": [],
   "execution_count": null,
   "source": "",
   "id": "45d6cf2301faabef"
  }
 ],
 "metadata": {
  "kernelspec": {
   "display_name": "Python 3",
   "language": "python",
   "name": "python3"
  },
  "language_info": {
   "codemirror_mode": {
    "name": "ipython",
    "version": 2
   },
   "file_extension": ".py",
   "mimetype": "text/x-python",
   "name": "python",
   "nbconvert_exporter": "python",
   "pygments_lexer": "ipython2",
   "version": "2.7.6"
  }
 },
 "nbformat": 4,
 "nbformat_minor": 5
}
