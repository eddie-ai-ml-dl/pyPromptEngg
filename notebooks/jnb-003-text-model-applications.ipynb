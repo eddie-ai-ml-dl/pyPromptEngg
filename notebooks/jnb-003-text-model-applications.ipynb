{
 "cells": [
  {
   "metadata": {},
   "cell_type": "markdown",
   "source": "## Initialization Code",
   "id": "a93dd5014c4f0efc"
  },
  {
   "metadata": {
    "ExecuteTime": {
     "end_time": "2025-01-23T22:38:45.662090Z",
     "start_time": "2025-01-23T22:38:45.637008Z"
    }
   },
   "cell_type": "code",
   "source": [
    "%load_ext autoreload\n",
    "%autoreload 2"
   ],
   "id": "481c67eb4ed41555",
   "outputs": [
    {
     "name": "stdout",
     "output_type": "stream",
     "text": [
      "The autoreload extension is already loaded. To reload it, use:\n",
      "  %reload_ext autoreload\n"
     ]
    }
   ],
   "execution_count": 17
  },
  {
   "metadata": {
    "ExecuteTime": {
     "end_time": "2025-01-23T22:38:46.324760Z",
     "start_time": "2025-01-23T22:38:46.311534Z"
    }
   },
   "cell_type": "code",
   "source": [
    "from src.genAIClient import GenerativeAIClient\n",
    "from prompts.prompts_text_usecases import fetch_prompt\n",
    "from src.fnUtils import render_markdown"
   ],
   "id": "d2b30958328e89d1",
   "outputs": [],
   "execution_count": 18
  },
  {
   "metadata": {
    "ExecuteTime": {
     "end_time": "2025-01-23T22:39:29.273287Z",
     "start_time": "2025-01-23T22:39:29.259876Z"
    }
   },
   "cell_type": "code",
   "source": "client = GenerativeAIClient()",
   "id": "57c544649e9b41af",
   "outputs": [
    {
     "name": "stderr",
     "output_type": "stream",
     "text": [
      "2025-01-23 17:39:29,271 - INFO - Google Generative AI API configured successfully.\n"
     ]
    }
   ],
   "execution_count": 21
  },
  {
   "metadata": {
    "ExecuteTime": {
     "end_time": "2025-01-23T22:38:47.501811Z",
     "start_time": "2025-01-23T22:38:47.490688Z"
    }
   },
   "cell_type": "code",
   "source": [
    "print(fetch_prompt())\n",
    "# print(product_prompt_template('Vacuum cleaner'))"
   ],
   "id": "ee8e2f797ef94270",
   "outputs": [
    {
     "name": "stdout",
     "output_type": "stream",
     "text": [
      "Remind me to select the proper text analysis task!\n"
     ]
    }
   ],
   "execution_count": 19
  },
  {
   "metadata": {},
   "cell_type": "markdown",
   "source": "## I. List Generation",
   "id": "d101b9d27b031d00"
  },
  {
   "metadata": {
    "ExecuteTime": {
     "end_time": "2025-01-23T22:38:53.820823Z",
     "start_time": "2025-01-23T22:38:53.810022Z"
    }
   },
   "cell_type": "code",
   "source": [
    "prompt = fetch_prompt(\"list_gen\")\n",
    "print(prompt)"
   ],
   "id": "c53851ff63cd6d72",
   "outputs": [
    {
     "name": "stdout",
     "output_type": "stream",
     "text": [
      "Instructions\n",
      "    ---\n",
      "    Create a list of 10 article headlines for the topic: digital marketing.\n",
      "    \n",
      "    Example output\n",
      "    ---\n",
      "    - 10 Digital Marketing Strategies\n",
      "    - That Will Boost Your Business Growth\n",
      "    - 5 Dos and 10 Don'ts\n",
      "    - How to Use Influencer Marketing to Reach Your Target Audience\n",
      "    \n",
      "    Rules\n",
      "    ---\n",
      "    Don't talk about SEO in the article titles\n",
      "    Also avoid including any references to blogging, or email marketing with the generated headlines:\n",
      "    ---\n"
     ]
    }
   ],
   "execution_count": 20
  },
  {
   "metadata": {
    "ExecuteTime": {
     "end_time": "2025-01-23T22:40:03.596413Z",
     "start_time": "2025-01-23T22:40:00.885423Z"
    }
   },
   "cell_type": "code",
   "source": [
    "output = client.invoke(prompt)\n",
    "print(output)"
   ],
   "id": "1d86a17a096a9761",
   "outputs": [
    {
     "name": "stderr",
     "output_type": "stream",
     "text": [
      "2025-01-23 17:40:00,894 - INFO - Initialized model: gemini-pro\n"
     ]
    },
    {
     "name": "stdout",
     "output_type": "stream",
     "text": [
      "1. Unlocking the Power of Digital Marketing: 10 Strategies for Success\n",
      "2. The Future of Digital Marketing: Trends and Innovations to Watch\n",
      "3. Digital Marketing Analytics: Measuring and Maximizing Campaign Impact\n",
      "4. Optimizing Your Digital Presence for Lead Generation and Conversions\n",
      "5. The Evolution of Social Media Marketing: Strategies for Engagement and Growth\n",
      "6. Content Marketing Masterclass: Creating Irresistible Content that Drives Results\n",
      "7. Data-Driven Digital Marketing: Leveraging Insights for Informed Decisions\n",
      "8. Mobile Marketing Mastery: Capturing the Attention of Today's Consumers\n",
      "9. The ROI of Digital Marketing: Measuring the Return on Investment\n",
      "10. The Challenges and Opportunities of Digital Marketing in the Modern Era\n"
     ]
    }
   ],
   "execution_count": 22
  },
  {
   "metadata": {},
   "cell_type": "markdown",
   "source": "## II. Sentiment Analysis",
   "id": "bba467b7e2795fc2"
  },
  {
   "metadata": {},
   "cell_type": "markdown",
   "source": "### Prompt key = \"sentiment_analysis\"",
   "id": "72b30426fa3a5d42"
  },
  {
   "metadata": {
    "ExecuteTime": {
     "end_time": "2025-01-23T22:40:28.386373Z",
     "start_time": "2025-01-23T22:40:28.374828Z"
    }
   },
   "cell_type": "code",
   "source": [
    "prompt = fetch_prompt(\"sentiment_analysis\")\n",
    "print(prompt)"
   ],
   "id": "24f5cb0a37f89bde",
   "outputs": [
    {
     "name": "stdout",
     "output_type": "stream",
     "text": [
      "You are working as a data analyst for a company that wants to improve customer satisfaction. Your task is to perform sentiment analysis on customer reviews of their product.\n",
      "\n",
      "    The label must be neutral, negative or positive\n",
      "    ---\n",
      "    product review text: This marketing product was a complete waste of time and money. It didn't do anything it promised and the customer service was terrible. I'm very unhappy with the purchase and would not recommend it to anyone.\n",
      "    sentiment: negative\n",
      "    product review text: I recently purchased a marketing product from this company and I am so glad I did. The product was exactly what I was looking for, and the customer service was outstanding. The staff was very helpful and knowledgeable and they made sure I got exactly what I needed. I highly recommend this company and their products.\n",
      "    sentiment: positive\n",
      "    product review text: \n",
      "    This product is an effective marketing tool that is easy to use. It has a lot of features that can help with creating a successful marketing campaign. However, it does have some drawbacks that should be taken into consideration when deciding if it is the right solution for your needs. Overall, the product is worth considering.\n",
      "    sentiment: neutral\n",
      "    ---\n",
      "    product review text:  I recently purchased a marketing product from this company and I am so pleased with the results. The product is easy to use and the customer service team was incredibly helpful. They provided me with clear instructions and answered all my questions. The product has already improved my marketing efforts, and I look forward to seeing even better results in the future.\n",
      "    sentiment:\n",
      "    \n"
     ]
    }
   ],
   "execution_count": 23
  },
  {
   "metadata": {},
   "cell_type": "markdown",
   "source": "### Invoke moodel / Sentiment Analysis",
   "id": "411786f5fb5ba8c6"
  },
  {
   "metadata": {
    "ExecuteTime": {
     "end_time": "2025-01-23T22:40:38.707622Z",
     "start_time": "2025-01-23T22:40:37.746817Z"
    }
   },
   "cell_type": "code",
   "source": [
    "output = client.invoke(prompt)\n",
    "print(output)"
   ],
   "id": "6e9afcf1395bdf56",
   "outputs": [
    {
     "name": "stdout",
     "output_type": "stream",
     "text": [
      "positive\n"
     ]
    }
   ],
   "execution_count": 24
  },
  {
   "metadata": {},
   "cell_type": "markdown",
   "source": "## III. Explain like I am five!",
   "id": "d18240799c6cd067"
  },
  {
   "metadata": {},
   "cell_type": "markdown",
   "source": "### Prompt Key = \"explain_liam5\"",
   "id": "cf42a36d8c7e2a18"
  },
  {
   "metadata": {
    "ExecuteTime": {
     "end_time": "2025-01-23T22:40:44.072331Z",
     "start_time": "2025-01-23T22:40:44.060512Z"
    }
   },
   "cell_type": "code",
   "source": [
    "prompt = fetch_prompt(\"explain_liam5\")\n",
    "print(prompt)"
   ],
   "id": "6d81493fca2244e5",
   "outputs": [
    {
     "name": "stdout",
     "output_type": "stream",
     "text": [
      "Explain the text below like I’m five:\n",
      "    Impossibility theorem, in political science, the thesis that it is generally impossible to assess the common good. It was first formulated in Social Choice and Individual Values (1951) by Kenneth J. Arrow, who was awarded (with Sir John R. Hicks) the Nobel Prize for Economics in 1972 partially in recognition of his work on the theorem. As a central element of rational choice theory, which attempts to explain political behavior as the rational pursuit of individual self-interest, the impossibility theorem posed a major challenge to 20th-century welfare economics and to a reevaluation of how democratic decision procedures arrive at representative expressions of individuals’ preferences. It has also been used to challenge the concept of “the public” as a meaningful social entity.\n",
      "    The impossibility theorem assumes that agents have complete and well-ordered preferences over all the outcomes under consideration in a collective choice situation. This requires that agents know whether they prefer one in any pair of possible outcomes, and it requires that agents’ preferences obey the logical relationship of transitivity, which requires that if Adams is preferred to Madison and Madison is preferred to Washington, then Washington cannot be preferred to Adams. The impossibility theorem considers cases in which three or more agents make a collective choice from three or more alternatives in situations as diverse as democratic voting, establishing public policies that reflect social welfare, and the marketplace. The theorem is constructed to resolve the question of whether there is any mathematical procedure for amalgamating individual preferences that results in a collectively rational preference ordering of all the possible outcomes.\n",
      "    In addition to assuming that individuals’ preferences are rational, the theorem stipulates that four minimal conditions must apply to the decision procedure for its result to be valid. The theorem requires that individuals be permitted to have any rational preference ordering over alternatives, that there not be a single dictator whose preference over a single pair of alternatives holds for the group decision, that the collective ranking over outcomes remains unchanged if one of the alternatives ceases to be considered, and that a unanimous preference over a pair of outcomes implies a collective preference over that pair. These requirements are generally regarded as beyond controversy.\n",
      "    The theorem proves that, given these minimal assumptions, it is impossible to construct any procedure that results in a collectively rational expression of individual desires. Though highly technical in its statement, the theorem has important implications for philosophies of democracy and political economy. The theorem rejects the notion of a collective democratic will, whether derived through civic deliberation or construed by experts who paternalistically apply knowledge of what is best for a population. The theorem also denies that there could be objective basic needs or universal criteria that any procedure for collective decision making should recognize, such as minimal nutrition standards or human rights.\n",
      "    \n"
     ]
    }
   ],
   "execution_count": 25
  },
  {
   "metadata": {},
   "cell_type": "markdown",
   "source": "### Invoke model | Explain like I am fine!\n",
   "id": "23f53fcc03e75f36"
  },
  {
   "metadata": {
    "ExecuteTime": {
     "end_time": "2025-01-23T22:40:57.955872Z",
     "start_time": "2025-01-23T22:40:52.375012Z"
    }
   },
   "cell_type": "code",
   "source": [
    "output = client.invoke(prompt)\n",
    "render_markdown(output)"
   ],
   "id": "6933f4d844a925e9",
   "outputs": [
    {
     "data": {
      "text/plain": [
       "<IPython.core.display.Markdown object>"
      ],
      "text/markdown": "> Imagine you and your friends are going to choose what movie to watch. Each of you has a favorite movie and you want to pick the one that everyone likes the best.\n> \n> Mr. Arrow said that it's impossible to always pick the movie that everyone likes the best, even if you all follow some rules:\n> \n> 1. Everyone can pick their favorite movie.\n> 2. You can't just let one person decide for everyone.\n> 3. If you don't like one of the movies anymore, you can still decide between the rest.\n> 4. If you all agree on which movie is better, that should be the one you pick.\n> \n> Even with these rules, Mr. Arrow proved that there will be times when you can't find a movie that everyone likes the best. So, sometimes you have to compromise and pick a movie that not everyone loves, but that most people are okay with.\n> \n> This idea also applies to big decisions that grown-ups make, like how to run a country. It's hard to make everyone happy all the time, but we do our best to find the best choices for everyone."
     },
     "metadata": {},
     "output_type": "display_data"
    }
   ],
   "execution_count": 26
  },
  {
   "metadata": {},
   "cell_type": "markdown",
   "source": "## IV. Least to most",
   "id": "9144fd0fa0a45141"
  },
  {
   "metadata": {},
   "cell_type": "markdown",
   "source": "### Prompt Key = \"least_to_most\"",
   "id": "137bb3ac8ed6b720"
  },
  {
   "metadata": {
    "ExecuteTime": {
     "end_time": "2025-01-23T22:41:30.232527Z",
     "start_time": "2025-01-23T22:41:30.220595Z"
    }
   },
   "cell_type": "code",
   "source": [
    "prompt = fetch_prompt(\"least_to_most\")\n",
    "print(prompt)"
   ],
   "id": "9b9cbe3845a8c439",
   "outputs": [
    {
     "name": "stdout",
     "output_type": "stream",
     "text": [
      "# Create a list of 3 Disney characters.\n",
      "    ## For each character, generate a short biography to tell me more about the character.\n",
      "    \n"
     ]
    }
   ],
   "execution_count": 28
  },
  {
   "metadata": {},
   "cell_type": "markdown",
   "source": "### Invoke mode | Least to most",
   "id": "9e833f764fb079dd"
  },
  {
   "metadata": {
    "ExecuteTime": {
     "end_time": "2025-01-23T22:41:47.179608Z",
     "start_time": "2025-01-23T22:41:43.449205Z"
    }
   },
   "cell_type": "code",
   "source": [
    "output = client.invoke(prompt)\n",
    "render_markdown(output)"
   ],
   "id": "a9df84d8aaef0b42",
   "outputs": [
    {
     "data": {
      "text/plain": [
       "<IPython.core.display.Markdown object>"
      ],
      "text/markdown": "> 1. **Mickey Mouse:** The iconic mascot of The Walt Disney Company, Mickey is a cheerful and optimistic mouse who loves to have fun. He is known for his distinctive red shorts, white gloves, and yellow shoes. Mickey was created by Walt Disney and Ub Iwerks in 1928 and has since become one of the most recognizable characters in the world.\n> \n> 2. **Minnie Mouse:** Mickey's sweetheart, Minnie is a charming and caring mouse who is always there to support her friends. She is known for her big bow, red dress, and white bloomers. Minnie was created by Walt Disney and Ub Iwerks in 1928 and is one of the most beloved female characters in animation.\n> \n> 3. **Donald Duck:** A feisty and quick-tempered duck, Donald is known for his short fuse and his love for his nephews. He is often seen wearing a sailor suit and cap. Donald was created by Walt Disney and Dick Lundy in 1934 and has since become one of the most popular characters in the Disney universe."
     },
     "metadata": {},
     "output_type": "display_data"
    }
   ],
   "execution_count": 29
  },
  {
   "metadata": {},
   "cell_type": "markdown",
   "source": "## V. Clear Instuctions with Delimiters",
   "id": "e3e339b8fb6c75cd"
  },
  {
   "metadata": {
    "ExecuteTime": {
     "end_time": "2025-01-23T22:42:29.295416Z",
     "start_time": "2025-01-23T22:42:29.283686Z"
    }
   },
   "cell_type": "code",
   "source": [
    "prompt = fetch_prompt(\"delimited_instruct\")\n",
    "print(prompt)"
   ],
   "id": "2948c9a62ba1a689",
   "outputs": [
    {
     "name": "stdout",
     "output_type": "stream",
     "text": [
      "\"Summarize the text delimited by triple tildas.\n",
      "    ~~~Insert text here~~~\n",
      "    \n"
     ]
    }
   ],
   "execution_count": 30
  },
  {
   "metadata": {
    "ExecuteTime": {
     "end_time": "2025-01-23T00:03:43.231024Z",
     "start_time": "2025-01-23T00:03:43.220173Z"
    }
   },
   "cell_type": "code",
   "source": [
    "# 1. Make this prompt work\n",
    "# 2. Invoke the model\n",
    "# 3. Add limit on length of output\n",
    "# 4. create a summary of the summary (progressive summary)"
   ],
   "id": "88dddc00feef225f",
   "outputs": [],
   "execution_count": 12
  },
  {
   "metadata": {},
   "cell_type": "markdown",
   "source": "## VI. Step by Step",
   "id": "2caddb880388ec2f"
  },
  {
   "metadata": {},
   "cell_type": "markdown",
   "source": "### Prompt Key = \"step_by_step\"",
   "id": "6052f9127ec05b41"
  },
  {
   "metadata": {
    "ExecuteTime": {
     "end_time": "2025-01-23T22:42:37.759143Z",
     "start_time": "2025-01-23T22:42:37.746604Z"
    }
   },
   "cell_type": "code",
   "source": [
    "to_language = 'Spanish'\n",
    "text='Good morning sunshine! You make the stars dance and the moon smile at the sight of your face!'\n",
    "prompt = fetch_prompt(\"step_by_step\", [to_language, text])\n",
    "print(prompt)"
   ],
   "id": "814418e4b63508e",
   "outputs": [
    {
     "name": "stdout",
     "output_type": "stream",
     "text": [
      "# Follow these steps:\n",
      "    ## Step 1: \n",
      "    Condense the text enclosed in triple quotes into a single sentence.\n",
      "    \n",
      "    ## Step 2: \n",
      "    Translate the summarized text into Spanish.\n",
      "    \n",
      "    # Output format\n",
      "    Summary: <output from Step 1>.\n",
      "    Spanish Translation: <output from Step 2>\n",
      "    \n",
      "    '''Good morning sunshine! You make the stars dance and the moon smile at the sight of your face!'''\n",
      "    \n"
     ]
    }
   ],
   "execution_count": 31
  },
  {
   "metadata": {},
   "cell_type": "markdown",
   "source": "### Invoke model | Step by Step",
   "id": "2f63996b8dc32f"
  },
  {
   "metadata": {
    "ExecuteTime": {
     "end_time": "2025-01-23T22:43:18.751057Z",
     "start_time": "2025-01-23T22:43:17.498186Z"
    }
   },
   "cell_type": "code",
   "source": [
    "output = client.invoke(prompt)\n",
    "print(output)"
   ],
   "id": "f788cd9a77b06d91",
   "outputs": [
    {
     "name": "stdout",
     "output_type": "stream",
     "text": [
      "Summary: The presence of the sun brings joy and vibrancy to the celestial bodies.\n",
      "Spanish Translation: ¡Buenos días, sol! ¡Haces que las estrellas bailen y la luna sonría al ver tu cara!\n"
     ]
    }
   ],
   "execution_count": 33
  },
  {
   "metadata": {},
   "cell_type": "markdown",
   "source": [
    "## VII. Prompt Ideas\n",
    "1. Asking the machine learning model context on a prompt's output:\n",
    "\n",
    "\\<output>\n",
    "\n",
    "Given the above output, generate a prompt that could result in this output.\n",
    "\n",
    "2. Agent model - Make a decision or ask for more context:\n",
    "\n",
    "Goals: I'm looking to improve my fitness, health and wealth.\n",
    "Provide a very detailed, numerical, hierarchical outline for the above goals.\n",
    "\n",
    "2.1 Provide more context about ways so that you can help me with the above goals?\n",
    "I want to provide you with more context about my goals, please provide me with a list of questions that you would like to ask me about my goals:\n"
   ],
   "id": "cf84861f9b4b5a5c"
  },
  {
   "metadata": {},
   "cell_type": "code",
   "outputs": [],
   "execution_count": null,
   "source": "",
   "id": "360d6e44d1231cbd"
  }
 ],
 "metadata": {
  "kernelspec": {
   "display_name": "Python 3",
   "language": "python",
   "name": "python3"
  },
  "language_info": {
   "codemirror_mode": {
    "name": "ipython",
    "version": 2
   },
   "file_extension": ".py",
   "mimetype": "text/x-python",
   "name": "python",
   "nbconvert_exporter": "python",
   "pygments_lexer": "ipython2",
   "version": "2.7.6"
  }
 },
 "nbformat": 4,
 "nbformat_minor": 5
}
