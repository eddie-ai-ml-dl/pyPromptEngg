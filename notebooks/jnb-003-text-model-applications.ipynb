{
 "cells": [
  {
   "metadata": {},
   "cell_type": "markdown",
   "source": "## Initialization Code",
   "id": "a93dd5014c4f0efc"
  },
  {
   "metadata": {
    "ExecuteTime": {
     "end_time": "2025-01-29T20:15:22.466243Z",
     "start_time": "2025-01-29T20:15:22.458794Z"
    }
   },
   "cell_type": "code",
   "source": [
    "%load_ext autoreload\n",
    "%autoreload 2"
   ],
   "id": "481c67eb4ed41555",
   "outputs": [],
   "execution_count": 1
  },
  {
   "metadata": {
    "ExecuteTime": {
     "end_time": "2025-01-29T20:15:23.608776Z",
     "start_time": "2025-01-29T20:15:22.468617Z"
    }
   },
   "cell_type": "code",
   "source": [
    "from src.genAIClient import GenerativeAIClient\n",
    "from prompts.prompts_text_usecases import fetch_prompt\n",
    "from utils.file_ops import save_to_text\n",
    "from src.fnUtils import render_markdown"
   ],
   "id": "d2b30958328e89d1",
   "outputs": [],
   "execution_count": 2
  },
  {
   "metadata": {
    "ExecuteTime": {
     "end_time": "2025-01-29T00:46:17.488384Z",
     "start_time": "2025-01-29T00:46:17.477690Z"
    }
   },
   "cell_type": "code",
   "source": "client = GenerativeAIClient()",
   "id": "57c544649e9b41af",
   "outputs": [
    {
     "name": "stderr",
     "output_type": "stream",
     "text": [
      "2025-01-28 19:46:17,486 - INFO - Google Generative AI API configured successfully.\n"
     ]
    }
   ],
   "execution_count": 6
  },
  {
   "metadata": {
    "ExecuteTime": {
     "end_time": "2025-01-29T20:15:27.036088Z",
     "start_time": "2025-01-29T20:15:26.938863Z"
    }
   },
   "cell_type": "code",
   "source": [
    "print(fetch_prompt())\n",
    "# print(product_prompt_template('Vacuum cleaner'))"
   ],
   "id": "ee8e2f797ef94270",
   "outputs": [
    {
     "name": "stdout",
     "output_type": "stream",
     "text": [
      "Remind me to select the proper text analysis task!\n"
     ]
    }
   ],
   "execution_count": 3
  },
  {
   "metadata": {},
   "cell_type": "code",
   "outputs": [],
   "execution_count": null,
   "source": "",
   "id": "9f0530effad7a1d0"
  },
  {
   "metadata": {},
   "cell_type": "markdown",
   "source": "## I. List Generation",
   "id": "d101b9d27b031d00"
  },
  {
   "metadata": {
    "ExecuteTime": {
     "end_time": "2025-01-29T20:15:34.464261Z",
     "start_time": "2025-01-29T20:15:34.452004Z"
    }
   },
   "cell_type": "code",
   "source": [
    "prompt = fetch_prompt(\"list_gen\")\n",
    "print(prompt)"
   ],
   "id": "c53851ff63cd6d72",
   "outputs": [
    {
     "name": "stdout",
     "output_type": "stream",
     "text": [
      "Instructions\n",
      "    ---\n",
      "    Create a list of 10 article headlines for the topic: digital marketing.\n",
      "    \n",
      "    Example output\n",
      "    ---\n",
      "    - 10 Digital Marketing Strategies\n",
      "    - That Will Boost Your Business Growth\n",
      "    - 5 Dos and 10 Don'ts\n",
      "    - How to Use Influencer Marketing to Reach Your Target Audience\n",
      "    \n",
      "    Rules\n",
      "    ---\n",
      "    Don't talk about SEO in the article titles\n",
      "    Also avoid including any references to blogging, or email marketing with the generated headlines:\n",
      "    ---\n"
     ]
    }
   ],
   "execution_count": 4
  },
  {
   "metadata": {
    "ExecuteTime": {
     "end_time": "2025-01-29T01:08:28.663441Z",
     "start_time": "2025-01-29T01:08:26.164681Z"
    }
   },
   "cell_type": "code",
   "source": [
    "output = client.invoke(prompt)\n",
    "print(output)"
   ],
   "id": "1d86a17a096a9761",
   "outputs": [
    {
     "name": "stderr",
     "output_type": "stream",
     "text": [
      "2025-01-28 20:08:26,179 - INFO - Initialized model: gemini-pro\n",
      "2025-01-28 20:08:26,317 - INFO - Prompt Tokens: \n",
      "total_tokens: 117\n",
      "\n",
      "2025-01-28 20:08:28,657 - INFO - Token Stats: \n",
      "prompt_token_count: 118\n",
      "candidates_token_count: 139\n",
      "total_token_count: 257\n",
      "\n"
     ]
    },
    {
     "name": "stdout",
     "output_type": "stream",
     "text": [
      "1. Amplify Your Brand's Reach with Dynamic Digital Marketing\n",
      "2. Unveiling the Secrets of Effective Digital Marketing Campaigns\n",
      "3. Harness the Power of Social Media for Unmatched Brand Visibility\n",
      "4. Data-Driven Strategies: Maximizing ROI in Digital Marketing\n",
      "5. The Art of Content Creation: Captivating Audiences in the Digital Age\n",
      "6. Influencer Marketing: The Key to Authenticity and Audience Engagement\n",
      "7. The Future of Digital Marketing: Cutting-Edge Technologies and Strategies\n",
      "8. Personalization and Customer Journey: Enhancing Digital Marketing Effectiveness\n",
      "9. Digital Marketing Analytics: Measuring Success and Optimizing Campaigns\n",
      "10. Ethical and Responsible Digital Marketing: Building Trust and Reputation\n"
     ]
    }
   ],
   "execution_count": 10
  },
  {
   "metadata": {},
   "cell_type": "code",
   "outputs": [],
   "execution_count": null,
   "source": "",
   "id": "38bfb69cd072fa62"
  },
  {
   "metadata": {
    "ExecuteTime": {
     "end_time": "2025-01-29T01:13:45.799917Z",
     "start_time": "2025-01-29T01:13:45.789474Z"
    }
   },
   "cell_type": "code",
   "source": [
    "new_prompt = \"\"\"\n",
    "Instructions\n",
    "    ---\n",
    "    Generate a group of 5 Tweets the subject: AI Security.\n",
    "\n",
    "    Example output\n",
    "    ---\n",
    "    - 10 Digital Marketing Strategies\n",
    "    - That Will Boost Your Business Growth\n",
    "    - 5 Dos and 10 Don'ts\n",
    "    - How to Use Influencer Marketing to Reach Your Target Audience\n",
    "\n",
    "    Rules\n",
    "    ---\n",
    "    Don't talk about SEO in the article titles\n",
    "    Also avoid including any references to blogging, or email marketing with the generated headlines:\n",
    "    ---\n",
    "    \"\"\""
   ],
   "id": "1e8adc14f19c10ea",
   "outputs": [],
   "execution_count": 12
  },
  {
   "metadata": {
    "ExecuteTime": {
     "end_time": "2025-01-29T01:13:50.256108Z",
     "start_time": "2025-01-29T01:13:47.304311Z"
    }
   },
   "cell_type": "code",
   "source": [
    "output = client.invoke(new_prompt)\n",
    "print(output)"
   ],
   "id": "d00119bdbed57505",
   "outputs": [
    {
     "name": "stderr",
     "output_type": "stream",
     "text": [
      "2025-01-28 20:13:47,419 - INFO - Prompt Tokens: \n",
      "total_tokens: 112\n",
      "\n",
      "2025-01-28 20:13:50,250 - INFO - Token Stats: \n",
      "prompt_token_count: 113\n",
      "candidates_token_count: 184\n",
      "total_token_count: 297\n",
      "\n"
     ]
    },
    {
     "name": "stdout",
     "output_type": "stream",
     "text": [
      "- AI Security: The Ultimate Guide to Protecting Your Data 🚨 🛡️ Get the lowdown on keeping your sensitive information safe in the digital age. #AISecurity #DataProtection\n",
      "\n",
      "- AI Security: The Future of Cybersecurity 🌐 🤖 Discover how AI is revolutionizing the way we protect our systems from cyber threats. #AICybersecurity #FutureOfSecurity\n",
      "\n",
      "- AI for Security: Unleashing the Power of Automation 🤖🔒 Automate your security processes to lighten your workload and enhance your defenses. #AIAutomation #SecuritySolutions\n",
      "\n",
      "- AI Security: Bridging the Skills Gap 🎓 🚀 Upskill your workforce with the latest AI security techniques to stay ahead in the cyber race. #AISkills #WorkforceDevelopment\n",
      "\n",
      "- AI Security: Ethics and Responsibility ⚖️ 🤔 Explore the ethical considerations and responsibilities that come with using AI for security purposes. #AIEthics #ResponsibleTechnology\n"
     ]
    }
   ],
   "execution_count": 13
  },
  {
   "metadata": {},
   "cell_type": "markdown",
   "source": "## II. Sentiment Analysis",
   "id": "bba467b7e2795fc2"
  },
  {
   "metadata": {},
   "cell_type": "markdown",
   "source": "### Prompt key = \"sentiment_analysis\"",
   "id": "72b30426fa3a5d42"
  },
  {
   "metadata": {
    "ExecuteTime": {
     "end_time": "2025-01-29T21:14:55.723551Z",
     "start_time": "2025-01-29T21:14:55.701987Z"
    }
   },
   "cell_type": "code",
   "source": [
    "prompt = fetch_prompt(\"sentiment_analysis\")\n",
    "save_to_text(prompt, \"sentiment_analysis.txt\")"
   ],
   "id": "24f5cb0a37f89bde",
   "outputs": [
    {
     "name": "stdout",
     "output_type": "stream",
     "text": [
      "Text saved to '../data/sentiment_analysis.txt'\n"
     ]
    }
   ],
   "execution_count": 8
  },
  {
   "metadata": {},
   "cell_type": "markdown",
   "source": "### Invoke moodel / Sentiment Analysis",
   "id": "411786f5fb5ba8c6"
  },
  {
   "metadata": {
    "ExecuteTime": {
     "end_time": "2025-01-29T01:52:23.084764Z",
     "start_time": "2025-01-29T01:52:22.354571Z"
    }
   },
   "cell_type": "code",
   "source": [
    "output = client.invoke(prompt)\n",
    "print(output)"
   ],
   "id": "6e9afcf1395bdf56",
   "outputs": [
    {
     "name": "stderr",
     "output_type": "stream",
     "text": [
      "2025-01-28 20:52:22,439 - INFO - Prompt Tokens: \n",
      "total_tokens: 331\n",
      "\n",
      "2025-01-28 20:52:23,082 - INFO - Token Stats: \n",
      "prompt_token_count: 332\n",
      "candidates_token_count: 1\n",
      "total_token_count: 333\n",
      "\n"
     ]
    },
    {
     "name": "stdout",
     "output_type": "stream",
     "text": [
      "positive\n"
     ]
    }
   ],
   "execution_count": 15
  },
  {
   "metadata": {},
   "cell_type": "markdown",
   "source": "## III. Explain like I am five!",
   "id": "d18240799c6cd067"
  },
  {
   "metadata": {},
   "cell_type": "markdown",
   "source": "### Prompt Key = \"explain_liam5\"",
   "id": "cf42a36d8c7e2a18"
  },
  {
   "metadata": {
    "ExecuteTime": {
     "end_time": "2025-01-23T22:40:44.072331Z",
     "start_time": "2025-01-23T22:40:44.060512Z"
    }
   },
   "cell_type": "code",
   "source": [
    "prompt = fetch_prompt(\"explain_liam5\")\n",
    "print(prompt)"
   ],
   "id": "6d81493fca2244e5",
   "outputs": [
    {
     "name": "stdout",
     "output_type": "stream",
     "text": [
      "Explain the text below like I’m five:\n",
      "    Impossibility theorem, in political science, the thesis that it is generally impossible to assess the common good. It was first formulated in Social Choice and Individual Values (1951) by Kenneth J. Arrow, who was awarded (with Sir John R. Hicks) the Nobel Prize for Economics in 1972 partially in recognition of his work on the theorem. As a central element of rational choice theory, which attempts to explain political behavior as the rational pursuit of individual self-interest, the impossibility theorem posed a major challenge to 20th-century welfare economics and to a reevaluation of how democratic decision procedures arrive at representative expressions of individuals’ preferences. It has also been used to challenge the concept of “the public” as a meaningful social entity.\n",
      "    The impossibility theorem assumes that agents have complete and well-ordered preferences over all the outcomes under consideration in a collective choice situation. This requires that agents know whether they prefer one in any pair of possible outcomes, and it requires that agents’ preferences obey the logical relationship of transitivity, which requires that if Adams is preferred to Madison and Madison is preferred to Washington, then Washington cannot be preferred to Adams. The impossibility theorem considers cases in which three or more agents make a collective choice from three or more alternatives in situations as diverse as democratic voting, establishing public policies that reflect social welfare, and the marketplace. The theorem is constructed to resolve the question of whether there is any mathematical procedure for amalgamating individual preferences that results in a collectively rational preference ordering of all the possible outcomes.\n",
      "    In addition to assuming that individuals’ preferences are rational, the theorem stipulates that four minimal conditions must apply to the decision procedure for its result to be valid. The theorem requires that individuals be permitted to have any rational preference ordering over alternatives, that there not be a single dictator whose preference over a single pair of alternatives holds for the group decision, that the collective ranking over outcomes remains unchanged if one of the alternatives ceases to be considered, and that a unanimous preference over a pair of outcomes implies a collective preference over that pair. These requirements are generally regarded as beyond controversy.\n",
      "    The theorem proves that, given these minimal assumptions, it is impossible to construct any procedure that results in a collectively rational expression of individual desires. Though highly technical in its statement, the theorem has important implications for philosophies of democracy and political economy. The theorem rejects the notion of a collective democratic will, whether derived through civic deliberation or construed by experts who paternalistically apply knowledge of what is best for a population. The theorem also denies that there could be objective basic needs or universal criteria that any procedure for collective decision making should recognize, such as minimal nutrition standards or human rights.\n",
      "    \n"
     ]
    }
   ],
   "execution_count": 25
  },
  {
   "metadata": {},
   "cell_type": "markdown",
   "source": "### Invoke model | Explain like I am fine!\n",
   "id": "23f53fcc03e75f36"
  },
  {
   "metadata": {
    "ExecuteTime": {
     "end_time": "2025-01-29T02:11:29.516457Z",
     "start_time": "2025-01-29T02:11:26.578422Z"
    }
   },
   "cell_type": "code",
   "source": [
    "output = client.invoke(prompt)\n",
    "render_markdown(output)"
   ],
   "id": "6933f4d844a925e9",
   "outputs": [
    {
     "name": "stderr",
     "output_type": "stream",
     "text": [
      "2025-01-28 21:11:26,623 - INFO - Prompt Tokens: \n",
      "total_tokens: 32\n",
      "\n",
      "2025-01-28 21:11:29,509 - INFO - Token Stats: \n",
      "prompt_token_count: 33\n",
      "candidates_token_count: 188\n",
      "total_token_count: 221\n",
      "\n"
     ]
    },
    {
     "data": {
      "text/plain": [
       "<IPython.core.display.Markdown object>"
      ],
      "text/markdown": "> 1. **Mickey Mouse:** Mickey Mouse is an animated character created by Walt Disney and Ub Iwerks. He is a cheerful, optimistic mouse who wears red shorts, white gloves, and large yellow shoes. Mickey is the official mascot of The Walt Disney Company and is one of the most recognizable characters in the world.\n> 2. **Minnie Mouse:** Minnie Mouse is an animated character created by Walt Disney and Ub Iwerks. She is a beautiful, stylish mouse who wears a red dress with white polka dots and a red bow. Minnie is the girlfriend of Mickey Mouse and is also one of the most recognizable characters in the world.\n> 3. **Donald Duck:** Donald Duck is an animated character created by Walt Disney and Ub Iwerks. He is a grumpy, ill-tempered duck who wears a sailor suit and a cap. Donald is the best friend of Mickey Mouse and is also one of the most recognizable characters in the world."
     },
     "metadata": {},
     "output_type": "display_data"
    }
   ],
   "execution_count": 18
  },
  {
   "metadata": {},
   "cell_type": "markdown",
   "source": "## IV. Least to most",
   "id": "9144fd0fa0a45141"
  },
  {
   "metadata": {},
   "cell_type": "markdown",
   "source": "### Prompt Key = \"least_to_most\"",
   "id": "137bb3ac8ed6b720"
  },
  {
   "metadata": {
    "ExecuteTime": {
     "end_time": "2025-01-29T02:11:15.684331Z",
     "start_time": "2025-01-29T02:11:15.674684Z"
    }
   },
   "cell_type": "code",
   "source": [
    "prompt = fetch_prompt(\"least_to_most\")\n",
    "print(prompt)"
   ],
   "id": "9b9cbe3845a8c439",
   "outputs": [
    {
     "name": "stdout",
     "output_type": "stream",
     "text": [
      "# Create a list of 3 Disney characters.\n",
      "    ## For each character, generate a short biography to tell me more about the character.\n",
      "    \n"
     ]
    }
   ],
   "execution_count": 17
  },
  {
   "metadata": {},
   "cell_type": "markdown",
   "source": "### Invoke mode | Least to most",
   "id": "9e833f764fb079dd"
  },
  {
   "metadata": {
    "ExecuteTime": {
     "end_time": "2025-01-23T22:41:47.179608Z",
     "start_time": "2025-01-23T22:41:43.449205Z"
    }
   },
   "cell_type": "code",
   "source": [
    "output = client.invoke(prompt)\n",
    "render_markdown(output)"
   ],
   "id": "a9df84d8aaef0b42",
   "outputs": [
    {
     "data": {
      "text/plain": [
       "<IPython.core.display.Markdown object>"
      ],
      "text/markdown": "> 1. **Mickey Mouse:** The iconic mascot of The Walt Disney Company, Mickey is a cheerful and optimistic mouse who loves to have fun. He is known for his distinctive red shorts, white gloves, and yellow shoes. Mickey was created by Walt Disney and Ub Iwerks in 1928 and has since become one of the most recognizable characters in the world.\n> \n> 2. **Minnie Mouse:** Mickey's sweetheart, Minnie is a charming and caring mouse who is always there to support her friends. She is known for her big bow, red dress, and white bloomers. Minnie was created by Walt Disney and Ub Iwerks in 1928 and is one of the most beloved female characters in animation.\n> \n> 3. **Donald Duck:** A feisty and quick-tempered duck, Donald is known for his short fuse and his love for his nephews. He is often seen wearing a sailor suit and cap. Donald was created by Walt Disney and Dick Lundy in 1934 and has since become one of the most popular characters in the Disney universe."
     },
     "metadata": {},
     "output_type": "display_data"
    }
   ],
   "execution_count": 29
  },
  {
   "metadata": {},
   "cell_type": "markdown",
   "source": "## V. Clear Instuctions with Delimiters",
   "id": "e3e339b8fb6c75cd"
  },
  {
   "metadata": {
    "ExecuteTime": {
     "end_time": "2025-01-23T22:42:29.295416Z",
     "start_time": "2025-01-23T22:42:29.283686Z"
    }
   },
   "cell_type": "code",
   "source": [
    "prompt = fetch_prompt(\"delimited_instruct\")\n",
    "print(prompt)"
   ],
   "id": "2948c9a62ba1a689",
   "outputs": [
    {
     "name": "stdout",
     "output_type": "stream",
     "text": [
      "\"Summarize the text delimited by triple tildas.\n",
      "    ~~~Insert text here~~~\n",
      "    \n"
     ]
    }
   ],
   "execution_count": 30
  },
  {
   "metadata": {
    "ExecuteTime": {
     "end_time": "2025-01-23T00:03:43.231024Z",
     "start_time": "2025-01-23T00:03:43.220173Z"
    }
   },
   "cell_type": "code",
   "source": [
    "# 1. Make this prompt work\n",
    "# 2. Invoke the model\n",
    "# 3. Add limit on length of output\n",
    "# 4. create a summary of the summary (progressive summary)"
   ],
   "id": "88dddc00feef225f",
   "outputs": [],
   "execution_count": 12
  },
  {
   "metadata": {},
   "cell_type": "markdown",
   "source": "## VI. Step by Step",
   "id": "2caddb880388ec2f"
  },
  {
   "metadata": {},
   "cell_type": "markdown",
   "source": "### Prompt Key = \"step_by_step\"",
   "id": "6052f9127ec05b41"
  },
  {
   "metadata": {
    "ExecuteTime": {
     "end_time": "2025-01-23T22:42:37.759143Z",
     "start_time": "2025-01-23T22:42:37.746604Z"
    }
   },
   "cell_type": "code",
   "source": [
    "to_language = 'Spanish'\n",
    "text='Good morning sunshine! You make the stars dance and the moon smile at the sight of your face!'\n",
    "prompt = fetch_prompt(\"step_by_step\", [to_language, text])\n",
    "print(prompt)"
   ],
   "id": "814418e4b63508e",
   "outputs": [
    {
     "name": "stdout",
     "output_type": "stream",
     "text": [
      "# Follow these steps:\n",
      "    ## Step 1: \n",
      "    Condense the text enclosed in triple quotes into a single sentence.\n",
      "    \n",
      "    ## Step 2: \n",
      "    Translate the summarized text into Spanish.\n",
      "    \n",
      "    # Output format\n",
      "    Summary: <output from Step 1>.\n",
      "    Spanish Translation: <output from Step 2>\n",
      "    \n",
      "    '''Good morning sunshine! You make the stars dance and the moon smile at the sight of your face!'''\n",
      "    \n"
     ]
    }
   ],
   "execution_count": 31
  },
  {
   "metadata": {},
   "cell_type": "markdown",
   "source": "### Invoke model | Step by Step",
   "id": "2f63996b8dc32f"
  },
  {
   "metadata": {
    "ExecuteTime": {
     "end_time": "2025-01-23T22:43:18.751057Z",
     "start_time": "2025-01-23T22:43:17.498186Z"
    }
   },
   "cell_type": "code",
   "source": [
    "output = client.invoke(prompt)\n",
    "print(output)"
   ],
   "id": "f788cd9a77b06d91",
   "outputs": [
    {
     "name": "stdout",
     "output_type": "stream",
     "text": [
      "Summary: The presence of the sun brings joy and vibrancy to the celestial bodies.\n",
      "Spanish Translation: ¡Buenos días, sol! ¡Haces que las estrellas bailen y la luna sonría al ver tu cara!\n"
     ]
    }
   ],
   "execution_count": 33
  },
  {
   "metadata": {},
   "cell_type": "markdown",
   "source": [
    "## VII. Prompt Ideas\n",
    "1. Asking the machine learning model context on a prompt's output:\n",
    "\n",
    "\\<output>\n",
    "\n",
    "Given the above output, generate a prompt that could result in this output.\n",
    "\n",
    "2. Agent model - Make a decision or ask for more context:\n",
    "\n",
    "Goals: I'm looking to improve my fitness, health and wealth.\n",
    "Provide a very detailed, numerical, hierarchical outline for the above goals.\n",
    "\n",
    "2.1 Provide more context about ways so that you can help me with the above goals?\n",
    "I want to provide you with more context about my goals, please provide me with a list of questions that you would like to ask me about my goals:\n"
   ],
   "id": "cf84861f9b4b5a5c"
  },
  {
   "metadata": {},
   "cell_type": "code",
   "outputs": [],
   "execution_count": null,
   "source": "",
   "id": "360d6e44d1231cbd"
  }
 ],
 "metadata": {
  "kernelspec": {
   "display_name": "Python 3",
   "language": "python",
   "name": "python3"
  },
  "language_info": {
   "codemirror_mode": {
    "name": "ipython",
    "version": 2
   },
   "file_extension": ".py",
   "mimetype": "text/x-python",
   "name": "python",
   "nbconvert_exporter": "python",
   "pygments_lexer": "ipython2",
   "version": "2.7.6"
  }
 },
 "nbformat": 4,
 "nbformat_minor": 5
}
