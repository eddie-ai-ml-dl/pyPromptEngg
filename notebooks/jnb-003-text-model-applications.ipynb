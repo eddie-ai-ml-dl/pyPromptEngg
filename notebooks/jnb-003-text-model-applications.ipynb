{
 "cells": [
  {
   "metadata": {},
   "cell_type": "markdown",
   "source": "## Initialization Code",
   "id": "a93dd5014c4f0efc"
  },
  {
   "metadata": {
    "ExecuteTime": {
     "end_time": "2025-02-08T21:55:12.212941Z",
     "start_time": "2025-02-08T21:55:12.205877Z"
    }
   },
   "cell_type": "code",
   "source": [
    "%load_ext autoreload\n",
    "%autoreload 2"
   ],
   "id": "481c67eb4ed41555",
   "outputs": [],
   "execution_count": 1
  },
  {
   "metadata": {
    "ExecuteTime": {
     "end_time": "2025-02-08T21:55:12.461396Z",
     "start_time": "2025-02-08T21:55:12.216479Z"
    }
   },
   "cell_type": "code",
   "source": [
    "from src.genAIClient import GenerativeAIClient\n",
    "from prompts.prompts_text_usecases import fetch_prompt\n",
    "from utils.file_ops import save_to_text\n",
    "from src.fnUtils import render_markdown"
   ],
   "id": "d2b30958328e89d1",
   "outputs": [],
   "execution_count": 2
  },
  {
   "metadata": {
    "ExecuteTime": {
     "end_time": "2025-02-08T21:55:13.550438Z",
     "start_time": "2025-02-08T21:55:13.431019Z"
    }
   },
   "cell_type": "code",
   "source": "client = GenerativeAIClient()",
   "id": "57c544649e9b41af",
   "outputs": [
    {
     "name": "stderr",
     "output_type": "stream",
     "text": [
      "2025-02-08 16:55:13,548 - INFO - Google Generative AI API configured successfully.\n"
     ]
    }
   ],
   "execution_count": 3
  },
  {
   "metadata": {
    "ExecuteTime": {
     "end_time": "2025-02-05T19:08:25.971148Z",
     "start_time": "2025-02-05T19:08:25.958607Z"
    }
   },
   "cell_type": "code",
   "source": "client.show_info_log = False",
   "id": "9f0530effad7a1d0",
   "outputs": [],
   "execution_count": 32
  },
  {
   "metadata": {
    "ExecuteTime": {
     "end_time": "2025-02-05T19:08:32.064257Z",
     "start_time": "2025-02-05T19:08:32.052380Z"
    }
   },
   "cell_type": "code",
   "source": [
    "print(fetch_prompt())\n",
    "# print(product_prompt_template('Vacuum cleaner'))"
   ],
   "id": "ee8e2f797ef94270",
   "outputs": [
    {
     "name": "stdout",
     "output_type": "stream",
     "text": [
      "Remind me to select the proper text analysis task!\n"
     ]
    }
   ],
   "execution_count": 33
  },
  {
   "metadata": {},
   "cell_type": "markdown",
   "source": "## I. List Generation",
   "id": "d101b9d27b031d00"
  },
  {
   "metadata": {
    "ExecuteTime": {
     "end_time": "2025-02-05T19:08:37.663269Z",
     "start_time": "2025-02-05T19:08:37.651094Z"
    }
   },
   "cell_type": "code",
   "source": [
    "prompt = fetch_prompt(\"list_gen\")\n",
    "print(prompt)"
   ],
   "id": "c53851ff63cd6d72",
   "outputs": [
    {
     "name": "stdout",
     "output_type": "stream",
     "text": [
      "Instructions\n",
      "    ---\n",
      "    Create a list of 10 article headlines for the topic: digital marketing.\n",
      "    \n",
      "    Example output\n",
      "    ---\n",
      "    - 10 Digital Marketing Strategies\n",
      "    - That Will Boost Your Business Growth\n",
      "    - 5 Dos and 10 Don'ts\n",
      "    - How to Use Influencer Marketing to Reach Your Target Audience\n",
      "    \n",
      "    Rules\n",
      "    ---\n",
      "    Don't talk about SEO in the article titles\n",
      "    Also avoid including any references to blogging, or email marketing with the generated headlines:\n",
      "    ---\n"
     ]
    }
   ],
   "execution_count": 34
  },
  {
   "metadata": {
    "ExecuteTime": {
     "end_time": "2025-02-05T19:08:46.439818Z",
     "start_time": "2025-02-05T19:08:44.277005Z"
    }
   },
   "cell_type": "code",
   "source": [
    "output = client.invoke(prompt)\n",
    "print(output)"
   ],
   "id": "1d86a17a096a9761",
   "outputs": [
    {
     "name": "stdout",
     "output_type": "stream",
     "text": [
      "1. 10 Digital Marketing Secrets for Massive Growth\n",
      "2. The Ultimate Guide to Paid Traffic Generation\n",
      "3. Content Marketing Mastery: How to Create Content that Converts\n",
      "4. Social Media Marketing Strategies for B2B Businesses\n",
      "5. The Art of Conversion Optimization\n",
      "6. Data-Driven Marketing: How to Use Data to Improve Your Results\n",
      "7. The Future of Digital Marketing\n",
      "8. 10 Digital Marketing Hacks That Will Surprise You\n",
      "9. How to Measure the ROI of Your Digital Marketing Campaigns\n",
      "10. Digital Marketing Budget Management for Small Businesses\n"
     ]
    }
   ],
   "execution_count": 35
  },
  {
   "metadata": {},
   "cell_type": "code",
   "outputs": [],
   "execution_count": null,
   "source": "",
   "id": "38bfb69cd072fa62"
  },
  {
   "metadata": {
    "ExecuteTime": {
     "end_time": "2025-01-29T01:13:45.799917Z",
     "start_time": "2025-01-29T01:13:45.789474Z"
    }
   },
   "cell_type": "code",
   "source": [
    "new_prompt = \"\"\"\n",
    "Instructions\n",
    "    ---\n",
    "    Generate a group of 5 Tweets the subject: AI Security.\n",
    "\n",
    "    Example output\n",
    "    ---\n",
    "    - 10 Digital Marketing Strategies\n",
    "    - That Will Boost Your Business Growth\n",
    "    - 5 Dos and 10 Don'ts\n",
    "    - How to Use Influencer Marketing to Reach Your Target Audience\n",
    "\n",
    "    Rules\n",
    "    ---\n",
    "    Don't talk about SEO in the article titles\n",
    "    Also avoid including any references to blogging, or email marketing with the generated headlines:\n",
    "    ---\n",
    "    \"\"\""
   ],
   "id": "1e8adc14f19c10ea",
   "outputs": [],
   "execution_count": 12
  },
  {
   "metadata": {
    "ExecuteTime": {
     "end_time": "2025-01-29T01:13:50.256108Z",
     "start_time": "2025-01-29T01:13:47.304311Z"
    }
   },
   "cell_type": "code",
   "source": [
    "output = client.invoke(new_prompt)\n",
    "print(output)"
   ],
   "id": "d00119bdbed57505",
   "outputs": [
    {
     "name": "stderr",
     "output_type": "stream",
     "text": [
      "2025-01-28 20:13:47,419 - INFO - Prompt Tokens: \n",
      "total_tokens: 112\n",
      "\n",
      "2025-01-28 20:13:50,250 - INFO - Token Stats: \n",
      "prompt_token_count: 113\n",
      "candidates_token_count: 184\n",
      "total_token_count: 297\n",
      "\n"
     ]
    },
    {
     "name": "stdout",
     "output_type": "stream",
     "text": [
      "- AI Security: The Ultimate Guide to Protecting Your Data 🚨 🛡️ Get the lowdown on keeping your sensitive information safe in the digital age. #AISecurity #DataProtection\n",
      "\n",
      "- AI Security: The Future of Cybersecurity 🌐 🤖 Discover how AI is revolutionizing the way we protect our systems from cyber threats. #AICybersecurity #FutureOfSecurity\n",
      "\n",
      "- AI for Security: Unleashing the Power of Automation 🤖🔒 Automate your security processes to lighten your workload and enhance your defenses. #AIAutomation #SecuritySolutions\n",
      "\n",
      "- AI Security: Bridging the Skills Gap 🎓 🚀 Upskill your workforce with the latest AI security techniques to stay ahead in the cyber race. #AISkills #WorkforceDevelopment\n",
      "\n",
      "- AI Security: Ethics and Responsibility ⚖️ 🤔 Explore the ethical considerations and responsibilities that come with using AI for security purposes. #AIEthics #ResponsibleTechnology\n"
     ]
    }
   ],
   "execution_count": 13
  },
  {
   "metadata": {},
   "cell_type": "markdown",
   "source": "## II. Sentiment Analysis",
   "id": "bba467b7e2795fc2"
  },
  {
   "metadata": {},
   "cell_type": "markdown",
   "source": "### Prompt key = \"sentiment_analysis\"",
   "id": "72b30426fa3a5d42"
  },
  {
   "metadata": {
    "ExecuteTime": {
     "end_time": "2025-01-29T21:14:55.723551Z",
     "start_time": "2025-01-29T21:14:55.701987Z"
    }
   },
   "cell_type": "code",
   "source": [
    "prompt = fetch_prompt(\"sentiment_analysis\")\n",
    "save_to_text(prompt, \"sentiment_analysis.txt\")"
   ],
   "id": "24f5cb0a37f89bde",
   "outputs": [
    {
     "name": "stdout",
     "output_type": "stream",
     "text": [
      "Text saved to '../data/sentiment_analysis.txt'\n"
     ]
    }
   ],
   "execution_count": 8
  },
  {
   "metadata": {},
   "cell_type": "markdown",
   "source": "### Invoke moodel / Sentiment Analysis",
   "id": "411786f5fb5ba8c6"
  },
  {
   "metadata": {
    "ExecuteTime": {
     "end_time": "2025-01-29T01:52:23.084764Z",
     "start_time": "2025-01-29T01:52:22.354571Z"
    }
   },
   "cell_type": "code",
   "source": [
    "output = client.invoke(prompt)\n",
    "print(output)"
   ],
   "id": "6e9afcf1395bdf56",
   "outputs": [
    {
     "name": "stderr",
     "output_type": "stream",
     "text": [
      "2025-01-28 20:52:22,439 - INFO - Prompt Tokens: \n",
      "total_tokens: 331\n",
      "\n",
      "2025-01-28 20:52:23,082 - INFO - Token Stats: \n",
      "prompt_token_count: 332\n",
      "candidates_token_count: 1\n",
      "total_token_count: 333\n",
      "\n"
     ]
    },
    {
     "name": "stdout",
     "output_type": "stream",
     "text": [
      "positive\n"
     ]
    }
   ],
   "execution_count": 15
  },
  {
   "metadata": {},
   "cell_type": "markdown",
   "source": "## III. Explain like I am five!",
   "id": "d18240799c6cd067"
  },
  {
   "metadata": {},
   "cell_type": "markdown",
   "source": "### Prompt Key = \"explain_liam5\"",
   "id": "cf42a36d8c7e2a18"
  },
  {
   "metadata": {
    "ExecuteTime": {
     "end_time": "2025-01-30T18:09:47.608188Z",
     "start_time": "2025-01-30T18:09:47.594180Z"
    }
   },
   "cell_type": "code",
   "source": [
    "prompt = fetch_prompt(\"explain_liam5\")\n",
    "print(prompt)"
   ],
   "id": "6d81493fca2244e5",
   "outputs": [
    {
     "name": "stdout",
     "output_type": "stream",
     "text": [
      "Explain the text below like I’m five:\n",
      "     String Theory.\n"
     ]
    }
   ],
   "execution_count": 10
  },
  {
   "metadata": {},
   "cell_type": "markdown",
   "source": "### Invoke model | Explain like I am fine!\n",
   "id": "23f53fcc03e75f36"
  },
  {
   "metadata": {
    "ExecuteTime": {
     "end_time": "2025-01-30T18:11:15.557413Z",
     "start_time": "2025-01-30T18:11:13.194826Z"
    }
   },
   "cell_type": "code",
   "source": [
    "output = client.invoke(prompt)\n",
    "render_markdown(output)"
   ],
   "id": "6933f4d844a925e9",
   "outputs": [
    {
     "data": {
      "text/plain": [
       "<IPython.core.display.Markdown object>"
      ],
      "text/markdown": "> Imagine the world isn't made of tiny pieces like bricks, but instead of tiny, tiny, vibrating strings. These strings are so small that you can't even see them through a microscope.\n> \n> Just like a guitar string makes different sounds when it's plucked, these tiny strings vibrate in different ways and create different \"notes.\" These \"notes\" are like the building blocks of the whole universe.\n> \n> String Theory says that everything in the world, like you, your toys, and even the stars in the sky, is made up of these tiny, vibrating strings. It's like a huge symphony orchestra, with billions and billions of strings playing together to create the world we see!"
     },
     "metadata": {},
     "output_type": "display_data"
    }
   ],
   "execution_count": 17
  },
  {
   "metadata": {},
   "cell_type": "markdown",
   "source": "## IV. Least to most",
   "id": "9144fd0fa0a45141"
  },
  {
   "metadata": {},
   "cell_type": "markdown",
   "source": "### Prompt Key = \"least_to_most\"",
   "id": "137bb3ac8ed6b720"
  },
  {
   "metadata": {
    "ExecuteTime": {
     "end_time": "2025-02-05T19:10:55.588670Z",
     "start_time": "2025-02-05T19:10:55.548931Z"
    }
   },
   "cell_type": "code",
   "source": [
    "prompt = fetch_prompt(\"least_to_most\")\n",
    "print(prompt)"
   ],
   "id": "9b9cbe3845a8c439",
   "outputs": [
    {
     "name": "stdout",
     "output_type": "stream",
     "text": [
      "# Create a list of 3 Disney characters.\n",
      "    ## For each character, generate a short biography to tell me more about the character.\n",
      "    \n"
     ]
    }
   ],
   "execution_count": 36
  },
  {
   "metadata": {},
   "cell_type": "markdown",
   "source": "### Invoke mode | Least to most",
   "id": "9e833f764fb079dd"
  },
  {
   "metadata": {
    "ExecuteTime": {
     "end_time": "2025-02-05T19:11:00.631549Z",
     "start_time": "2025-02-05T19:10:57.888533Z"
    }
   },
   "cell_type": "code",
   "source": [
    "output = client.invoke(prompt)\n",
    "render_markdown(output)"
   ],
   "id": "a9df84d8aaef0b42",
   "outputs": [
    {
     "data": {
      "text/plain": [
       "<IPython.core.display.Markdown object>"
      ],
      "text/markdown": "> 1. **Mickey Mouse**\n> \n> Mickey Mouse is a funny and mischievous mouse who loves to play pranks on his friends. He is always up for a good time and loves to sing and dance. Mickey is also a very loyal friend and always there for his pals when they need him.\n> \n> 2. **Minnie Mouse**\n> \n> Minnie Mouse is a kind and gentle mouse who loves to bake and sew. She is always there for her friends and loves to help them out. Minnie is also a very talented singer and loves to perform for her friends.\n> \n> 3. **Donald Duck**\n> \n> Donald Duck is a hot-tempered and impulsive duck who is always getting himself into trouble. He is often jealous of his friends and loves to brag about his accomplishments. However, Donald is also a very caring and compassionate duck and always there for his friends when they need him."
     },
     "metadata": {},
     "output_type": "display_data"
    }
   ],
   "execution_count": 37
  },
  {
   "metadata": {},
   "cell_type": "markdown",
   "source": "## V. Clear Instructions with Delimiters",
   "id": "e3e339b8fb6c75cd"
  },
  {
   "metadata": {
    "ExecuteTime": {
     "end_time": "2025-02-05T19:13:07.707097Z",
     "start_time": "2025-02-05T19:13:07.686458Z"
    }
   },
   "cell_type": "code",
   "source": [
    "prompt = fetch_prompt(\"delimited_instruct\")\n",
    "print(prompt)"
   ],
   "id": "2948c9a62ba1a689",
   "outputs": [
    {
     "name": "stdout",
     "output_type": "stream",
     "text": [
      "\"Summarize the text delimited by triple tildas.\n",
      "    ~~~Insert text here~~~\n",
      "    \n"
     ]
    }
   ],
   "execution_count": 38
  },
  {
   "metadata": {
    "ExecuteTime": {
     "end_time": "2025-01-23T00:03:43.231024Z",
     "start_time": "2025-01-23T00:03:43.220173Z"
    }
   },
   "cell_type": "code",
   "source": [
    "# 1. Make this prompt work\n",
    "# 2. Invoke the model\n",
    "# 3. Add limit on length of output\n",
    "# 4. create a summary of the summary (progressive summary)"
   ],
   "id": "88dddc00feef225f",
   "outputs": [],
   "execution_count": 12
  },
  {
   "metadata": {},
   "cell_type": "markdown",
   "source": "## VI. Step by Step",
   "id": "2caddb880388ec2f"
  },
  {
   "metadata": {},
   "cell_type": "markdown",
   "source": "### Prompt Key = \"step_by_step\"",
   "id": "6052f9127ec05b41"
  },
  {
   "metadata": {
    "ExecuteTime": {
     "end_time": "2025-02-05T19:19:57.497844Z",
     "start_time": "2025-02-05T19:19:57.474594Z"
    }
   },
   "cell_type": "code",
   "source": [
    "to_language = 'French'\n",
    "text='Good morning sunshine! You make the stars dance and the moon smile at the sight of your face!'\n",
    "prompt = fetch_prompt(\"step_by_step\", [to_language, text])\n",
    "print(prompt)\n"
   ],
   "id": "814418e4b63508e",
   "outputs": [
    {
     "name": "stdout",
     "output_type": "stream",
     "text": [
      "# Follow these steps:\n",
      "    ## Step 1: \n",
      "    Condense the text enclosed in triple quotes into a single sentence.\n",
      "    \n",
      "    ## Step 2: \n",
      "    Translate the summarized text into French.\n",
      "    \n",
      "    # Output format\n",
      "    Summary: <output from Step 1>.\n",
      "    French Translation: <output from Step 2>\n",
      "    \n",
      "    '''Good morning sunshine! You make the stars dance and the moon smile at the sight of your face!'''\n",
      "    \n"
     ]
    }
   ],
   "execution_count": 43
  },
  {
   "metadata": {},
   "cell_type": "markdown",
   "source": "### Invoke model | Step by Step",
   "id": "2f63996b8dc32f"
  },
  {
   "metadata": {
    "ExecuteTime": {
     "end_time": "2025-02-05T19:20:23.971230Z",
     "start_time": "2025-02-05T19:20:22.829526Z"
    }
   },
   "cell_type": "code",
   "source": [
    "client.show_info_log = False\n",
    "output = client.invoke(prompt)\n",
    "render_markdown(output)"
   ],
   "id": "f788cd9a77b06d91",
   "outputs": [
    {
     "data": {
      "text/plain": [
       "<IPython.core.display.Markdown object>"
      ],
      "text/markdown": "> Summary: The sun brings joy and beauty to the world.\n> French Translation: Bonjour soleil! Tu fais danser les étoiles et sourire la lune à la vue de ton visage!"
     },
     "metadata": {},
     "output_type": "display_data"
    }
   ],
   "execution_count": 44
  },
  {
   "metadata": {},
   "cell_type": "markdown",
   "source": [
    "|## VII. Prompt Ideas\n",
    "1. Asking the machine learning model context on a prompt's output:\n",
    "\n",
    "\\<output>\n",
    "\n",
    "Given the above output, generate a prompt that could result in this output.\n",
    "\n",
    "2. Agent model - Make a decision or ask for more context:\n",
    "\n",
    "Goals: I'm looking to improve my fitness, health and wealth.\n",
    "Provide a very detailed, numerical, hierarchical outline for the above goals.\n",
    "\n",
    "2.1 Provide more context about ways so that you can help me with the above goals?\n",
    "I want to provide you with more context about my goals, please provide me with a list of questions that you would like to ask me about my goals:\n"
   ],
   "id": "cf84861f9b4b5a5c"
  },
  {
   "metadata": {
    "ExecuteTime": {
     "end_time": "2025-02-05T00:21:32.058040Z",
     "start_time": "2025-02-05T00:21:31.992946Z"
    }
   },
   "cell_type": "code",
   "source": [
    "p = fetch_prompt(\"sb_winner\")\n",
    "print(p)"
   ],
   "id": "360d6e44d1231cbd",
   "outputs": [
    {
     "name": "stdout",
     "output_type": "stream",
     "text": [
      "Tell me the name of the superbowl winner in 2024.\n",
      "    \n"
     ]
    }
   ],
   "execution_count": 3
  },
  {
   "metadata": {
    "ExecuteTime": {
     "end_time": "2025-02-05T00:22:33.010153Z",
     "start_time": "2025-02-05T00:22:32.050557Z"
    }
   },
   "cell_type": "code",
   "source": [
    "result = client.invoke(p)\n",
    "print(result)"
   ],
   "id": "96d553bfa1e1eb1b",
   "outputs": [
    {
     "name": "stderr",
     "output_type": "stream",
     "text": [
      "2025-02-04 19:22:32,059 - INFO - Initialized model: gemini-pro\n",
      "2025-02-04 19:22:32,150 - INFO - Prompt Tokens: \n",
      "total_tokens: 19\n",
      "\n",
      "2025-02-04 19:22:33,005 - INFO - Token Stats: \n",
      "prompt_token_count: 20\n",
      "candidates_token_count: 23\n",
      "total_token_count: 43\n",
      "\n"
     ]
    },
    {
     "name": "stdout",
     "output_type": "stream",
     "text": [
      "The 2024 Super Bowl winner has not yet been determined as the game has not taken place yet.\n"
     ]
    }
   ],
   "execution_count": 6
  },
  {
   "metadata": {},
   "cell_type": "code",
   "outputs": [],
   "execution_count": null,
   "source": "",
   "id": "867ad32b402068c0"
  },
  {
   "metadata": {},
   "cell_type": "code",
   "outputs": [],
   "execution_count": null,
   "source": "",
   "id": "5b7f53fe12604118"
  },
  {
   "metadata": {},
   "cell_type": "code",
   "outputs": [],
   "execution_count": null,
   "source": "",
   "id": "1848dcee113963fa"
  },
  {
   "metadata": {
    "ExecuteTime": {
     "end_time": "2025-02-05T19:16:51.249656Z",
     "start_time": "2025-02-05T19:16:51.223470Z"
    }
   },
   "cell_type": "code",
   "outputs": [
    {
     "name": "stdout",
     "output_type": "stream",
     "text": [
      "The sky is blue during the day. But is is grey at night\n",
      "\n"
     ]
    }
   ],
   "execution_count": 41,
   "source": [
    "x=\"grey\"\n",
    "y = \"blue\"\n",
    "s = \"\"\"The sky is {0} during the day. But is is {1} at night\n",
    "\"\"\"\n",
    "print(s.format(y, x))"
   ],
   "id": "1cf74e262d2ce865"
  },
  {
   "metadata": {
    "ExecuteTime": {
     "end_time": "2025-02-05T19:05:45.382717Z",
     "start_time": "2025-02-05T19:05:45.357495Z"
    }
   },
   "cell_type": "code",
   "source": [
    "d = {\n",
    "    \"key 1\": \"asd;lkfjasdf;lgkjasdf \",\n",
    "    \"key 2\": \"value2\",\n",
    "    \"key 3\": \"value3\",\n",
    "}"
   ],
   "id": "1530c5e537ee038",
   "outputs": [],
   "execution_count": 23
  },
  {
   "metadata": {
    "ExecuteTime": {
     "end_time": "2025-02-05T19:05:46.779693Z",
     "start_time": "2025-02-05T19:05:46.767050Z"
    }
   },
   "cell_type": "code",
   "source": "d[\"key 1\"]",
   "id": "2cbce7d2ce0de30e",
   "outputs": [
    {
     "data": {
      "text/plain": [
       "'asd;lkfjasdf;lgkjasdf '"
      ]
     },
     "execution_count": 24,
     "metadata": {},
     "output_type": "execute_result"
    }
   ],
   "execution_count": 24
  },
  {
   "metadata": {
    "ExecuteTime": {
     "end_time": "2025-02-05T19:07:29.165200Z",
     "start_time": "2025-02-05T19:07:29.153782Z"
    }
   },
   "cell_type": "code",
   "source": [
    "x = (\"a;sdlfkjas;dlkgja;dfjg\\n\"\n",
    "     \"a;dflsgkja;lfkgj\"\n",
    "     \"asdf;lkajsdg;lkj\"\n",
    "     \"a'lskdfjasdf\")\n",
    "print(x)"
   ],
   "id": "cd053b5c5964f720",
   "outputs": [
    {
     "name": "stdout",
     "output_type": "stream",
     "text": [
      "a;sdlfkjas;dlkgja;dfjg\n",
      "a;dflsgkja;lfkgjasdf;lkajsdg;lkja'lskdfjasdf\n"
     ]
    }
   ],
   "execution_count": 28
  },
  {
   "metadata": {
    "ExecuteTime": {
     "end_time": "2025-02-05T19:14:48.484632Z",
     "start_time": "2025-02-05T19:14:48.468145Z"
    }
   },
   "cell_type": "code",
   "source": [
    "s = \"The sky is grey\"\n",
    "print(s)"
   ],
   "id": "894fe1af189129c4",
   "outputs": [
    {
     "name": "stdout",
     "output_type": "stream",
     "text": [
      "The sky is grey\n"
     ]
    }
   ],
   "execution_count": 40
  },
  {
   "metadata": {
    "ExecuteTime": {
     "end_time": "2025-02-05T19:21:41.650466Z",
     "start_time": "2025-02-05T19:21:41.616569Z"
    }
   },
   "cell_type": "code",
   "source": [
    "prompt = fetch_prompt(\"new_prompt\")\n",
    "print(prompt)"
   ],
   "id": "c2bcbd1f33337f71",
   "outputs": [
    {
     "name": "stdout",
     "output_type": "stream",
     "text": [
      "this is my new prompt....\n",
      "    \n"
     ]
    }
   ],
   "execution_count": 45
  },
  {
   "metadata": {},
   "cell_type": "code",
   "outputs": [],
   "execution_count": null,
   "source": [
    "prompt = \"\"\"\"Summarize the text delimited by triple tildas.\n",
    "    ~~~Insert text here~~~\n",
    "    \"\"\""
   ],
   "id": "b78ce4c2058f4918"
  },
  {
   "metadata": {
    "ExecuteTime": {
     "end_time": "2025-02-08T21:28:07.795583Z",
     "start_time": "2025-02-08T21:28:07.785274Z"
    }
   },
   "cell_type": "code",
   "source": [
    "d = {\"A\": \"This my first item\",\n",
    "\n",
    "}"
   ],
   "id": "43c0d0919742660d",
   "outputs": [],
   "execution_count": 3
  },
  {
   "metadata": {
    "ExecuteTime": {
     "end_time": "2025-02-08T21:28:09.363823Z",
     "start_time": "2025-02-08T21:28:09.361392Z"
    }
   },
   "cell_type": "code",
   "source": "print(d)",
   "id": "a885310c1b2efa52",
   "outputs": [
    {
     "name": "stdout",
     "output_type": "stream",
     "text": [
      "{'A': 'This my first item'}\n"
     ]
    }
   ],
   "execution_count": 4
  },
  {
   "metadata": {
    "ExecuteTime": {
     "end_time": "2025-02-08T21:28:28.967205Z",
     "start_time": "2025-02-08T21:28:28.964608Z"
    }
   },
   "cell_type": "code",
   "source": "print(len(d))",
   "id": "67eb75b0064f8955",
   "outputs": [
    {
     "name": "stdout",
     "output_type": "stream",
     "text": [
      "1\n"
     ]
    }
   ],
   "execution_count": 5
  },
  {
   "metadata": {
    "ExecuteTime": {
     "end_time": "2025-02-08T21:28:57.005408Z",
     "start_time": "2025-02-08T21:28:57.003020Z"
    }
   },
   "cell_type": "code",
   "source": [
    "d['B']=\"This is my second item\"\n",
    "print(len(d))"
   ],
   "id": "d64f929258cf4ad7",
   "outputs": [
    {
     "name": "stdout",
     "output_type": "stream",
     "text": [
      "2\n"
     ]
    }
   ],
   "execution_count": 6
  },
  {
   "metadata": {
    "ExecuteTime": {
     "end_time": "2025-02-08T21:29:08.462672Z",
     "start_time": "2025-02-08T21:29:08.458622Z"
    }
   },
   "cell_type": "code",
   "source": "print(d)",
   "id": "61dead925452b0c0",
   "outputs": [
    {
     "name": "stdout",
     "output_type": "stream",
     "text": [
      "{'A': 'This my first item', 'B': 'This is my second item'}\n"
     ]
    }
   ],
   "execution_count": 7
  },
  {
   "metadata": {
    "ExecuteTime": {
     "end_time": "2025-02-08T21:31:45.605494Z",
     "start_time": "2025-02-08T21:31:45.603750Z"
    }
   },
   "cell_type": "code",
   "source": "print(d['B'])",
   "id": "ec6f972fc1c4413f",
   "outputs": [
    {
     "name": "stdout",
     "output_type": "stream",
     "text": [
      "This is my second item\n"
     ]
    }
   ],
   "execution_count": 9
  },
  {
   "metadata": {
    "ExecuteTime": {
     "end_time": "2025-02-08T21:36:08.554659Z",
     "start_time": "2025-02-08T21:36:08.551089Z"
    }
   },
   "cell_type": "code",
   "source": "print(d.get('C', 'NOTHING'))",
   "id": "50f9a9e8177bcf9",
   "outputs": [
    {
     "name": "stdout",
     "output_type": "stream",
     "text": [
      "NOTHING\n"
     ]
    }
   ],
   "execution_count": 11
  },
  {
   "metadata": {
    "ExecuteTime": {
     "end_time": "2025-02-08T21:57:23.070820Z",
     "start_time": "2025-02-08T21:57:23.060297Z"
    }
   },
   "cell_type": "code",
   "source": [
    "# print(prompts[\"delimited_instruct\"])\n",
    "\n",
    "input = 'hello world!'\n",
    "prompt = fetch_prompt(\"delimited_instruct\", [input])\n",
    "print(prompt)"
   ],
   "id": "766bc5ef0153e987",
   "outputs": [
    {
     "name": "stdout",
     "output_type": "stream",
     "text": [
      "\"Summarize the text delimited by triple quotes.\n",
      "    '''hello world!'''\n",
      "    \n"
     ]
    }
   ],
   "execution_count": 7
  },
  {
   "metadata": {
    "ExecuteTime": {
     "end_time": "2025-02-08T21:43:16.960197Z",
     "start_time": "2025-02-08T21:43:16.956254Z"
    }
   },
   "cell_type": "code",
   "source": "phrase = \"Good morning\"",
   "id": "2e88bba2f528979d",
   "outputs": [],
   "execution_count": 16
  },
  {
   "metadata": {
    "ExecuteTime": {
     "end_time": "2025-02-08T21:43:20.262930Z",
     "start_time": "2025-02-08T21:43:20.260874Z"
    }
   },
   "cell_type": "code",
   "source": "print(phrase)",
   "id": "8f88cd9a878cf36c",
   "outputs": [
    {
     "name": "stdout",
     "output_type": "stream",
     "text": [
      "Good morning\n"
     ]
    }
   ],
   "execution_count": 17
  },
  {
   "metadata": {
    "ExecuteTime": {
     "end_time": "2025-02-08T21:43:28.845246Z",
     "start_time": "2025-02-08T21:43:28.840310Z"
    }
   },
   "cell_type": "code",
   "source": "len(phrase)",
   "id": "33709255f8399ee0",
   "outputs": [
    {
     "data": {
      "text/plain": [
       "12"
      ]
     },
     "execution_count": 18,
     "metadata": {},
     "output_type": "execute_result"
    }
   ],
   "execution_count": 18
  },
  {
   "metadata": {
    "ExecuteTime": {
     "end_time": "2025-02-08T21:47:55.732677Z",
     "start_time": "2025-02-08T21:47:55.722960Z"
    }
   },
   "cell_type": "code",
   "source": "text = \"There are {0} in the phrase {1}, and I {2} to them!\"",
   "id": "eb8f6a873ae2249f",
   "outputs": [],
   "execution_count": 24
  },
  {
   "metadata": {
    "ExecuteTime": {
     "end_time": "2025-02-08T21:47:58.950558Z",
     "start_time": "2025-02-08T21:47:58.948773Z"
    }
   },
   "cell_type": "code",
   "source": "print(text)",
   "id": "e9482acb794b325c",
   "outputs": [
    {
     "name": "stdout",
     "output_type": "stream",
     "text": [
      "There are {0} in the phrase {1}, and I {2} to them!\n"
     ]
    }
   ],
   "execution_count": 25
  },
  {
   "metadata": {
    "ExecuteTime": {
     "end_time": "2025-02-08T21:48:28.343503Z",
     "start_time": "2025-02-08T21:48:28.339867Z"
    }
   },
   "cell_type": "code",
   "source": "print(text.format(len(phrase), phrase, \"SEE\"))",
   "id": "a695eb0065768c66",
   "outputs": [
    {
     "name": "stdout",
     "output_type": "stream",
     "text": [
      "There are 12 in the phrase Good morning, and I SEE to them!\n"
     ]
    }
   ],
   "execution_count": 27
  },
  {
   "metadata": {
    "ExecuteTime": {
     "end_time": "2025-02-08T21:49:08.775368Z",
     "start_time": "2025-02-08T21:49:08.769293Z"
    }
   },
   "cell_type": "code",
   "source": "phrase = \"Hello\"",
   "id": "ecb16faee10ac5f2",
   "outputs": [],
   "execution_count": 30
  },
  {
   "metadata": {
    "ExecuteTime": {
     "end_time": "2025-02-08T21:49:09.514505Z",
     "start_time": "2025-02-08T21:49:09.512244Z"
    }
   },
   "cell_type": "code",
   "source": "print(text.format(len(phrase), phrase, \"SEE\"))",
   "id": "69686a92bdb22f26",
   "outputs": [
    {
     "name": "stdout",
     "output_type": "stream",
     "text": [
      "There are 5 in the phrase Hello, and I SEE to them!\n"
     ]
    }
   ],
   "execution_count": 31
  },
  {
   "metadata": {},
   "cell_type": "code",
   "outputs": [],
   "execution_count": null,
   "source": "",
   "id": "81fbbb9d9050b25d"
  }
 ],
 "metadata": {
  "kernelspec": {
   "display_name": "Python 3",
   "language": "python",
   "name": "python3"
  },
  "language_info": {
   "codemirror_mode": {
    "name": "ipython",
    "version": 2
   },
   "file_extension": ".py",
   "mimetype": "text/x-python",
   "name": "python",
   "nbconvert_exporter": "python",
   "pygments_lexer": "ipython2",
   "version": "2.7.6"
  }
 },
 "nbformat": 4,
 "nbformat_minor": 5
}
