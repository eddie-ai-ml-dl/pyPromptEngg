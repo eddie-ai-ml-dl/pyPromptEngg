{
 "cells": [
  {
   "metadata": {},
   "cell_type": "markdown",
   "source": "## Initialization Code",
   "id": "a93dd5014c4f0efc"
  },
  {
   "metadata": {
    "ExecuteTime": {
     "end_time": "2025-01-16T21:02:59.238605Z",
     "start_time": "2025-01-16T21:02:59.221330Z"
    }
   },
   "cell_type": "code",
   "source": [
    "%load_ext autoreload\n",
    "%autoreload 2"
   ],
   "id": "481c67eb4ed41555",
   "outputs": [
    {
     "name": "stdout",
     "output_type": "stream",
     "text": [
      "The autoreload extension is already loaded. To reload it, use:\n",
      "  %reload_ext autoreload\n"
     ]
    }
   ],
   "execution_count": 5
  },
  {
   "metadata": {
    "ExecuteTime": {
     "end_time": "2025-01-17T00:58:02.066693Z",
     "start_time": "2025-01-17T00:58:02.055771Z"
    }
   },
   "cell_type": "code",
   "source": [
    "from src.gemini import get_model, invoke_model\n",
    "from prompts.prompts_text_apps import fetch_prompt\n",
    "from src.fnUtils import render_markdown"
   ],
   "id": "d2b30958328e89d1",
   "outputs": [],
   "execution_count": 38
  },
  {
   "metadata": {
    "ExecuteTime": {
     "end_time": "2025-01-16T21:26:43.566969Z",
     "start_time": "2025-01-16T21:26:43.556972Z"
    }
   },
   "cell_type": "code",
   "source": [
    "def invoke_model_key(prompt_key):\n",
    "    prompt_value = fetch_prompt(prompt_key)\n",
    "    response = model.generate_content(prompt_value)\n",
    "    return response.text"
   ],
   "id": "fed54ff2bcadf74c",
   "outputs": [],
   "execution_count": 23
  },
  {
   "metadata": {
    "ExecuteTime": {
     "end_time": "2025-01-16T21:12:18.539705Z",
     "start_time": "2025-01-16T21:12:18.529053Z"
    }
   },
   "cell_type": "code",
   "source": [
    "print(fetch_prompt())\n",
    "# print(product_prompt_template('Vacuum cleaner'))"
   ],
   "id": "ee8e2f797ef94270",
   "outputs": [
    {
     "name": "stdout",
     "output_type": "stream",
     "text": [
      "Instructions\n",
      "---\n",
      "Create a list of 10 article headlines for the topic: digital marketing.\n",
      "\n",
      "Example output\n",
      "---\n",
      "- 10 Digital Marketing Strategies\n",
      "- That Will Boost Your Business Growth\n",
      "- 5 Dos and 10 Don'ts\n",
      "- How to Use Influencer Marketing to Reach Your Target Audience\n",
      "\n",
      "Rules\n",
      "---\n",
      "Don't talk about SEO in the article titles\n",
      "Also avoid including any references to blogging, or email marketing with the generated headlines:\n",
      "---\n"
     ]
    }
   ],
   "execution_count": 16
  },
  {
   "metadata": {
    "ExecuteTime": {
     "end_time": "2025-01-16T21:03:06.056055Z",
     "start_time": "2025-01-16T21:03:06.045089Z"
    }
   },
   "cell_type": "code",
   "source": [
    "model = get_model()\n",
    "model.model_name"
   ],
   "id": "4173883f72560a77",
   "outputs": [
    {
     "data": {
      "text/plain": [
       "'models/gemini-2.0-flash-exp'"
      ]
     },
     "execution_count": 8,
     "metadata": {},
     "output_type": "execute_result"
    }
   ],
   "execution_count": 8
  },
  {
   "metadata": {},
   "cell_type": "markdown",
   "source": "## I. List Generation",
   "id": "d101b9d27b031d00"
  },
  {
   "metadata": {},
   "cell_type": "code",
   "source": [
    "prompt = fetch_prompt(\"list_gen\")\n",
    "print(prompt)"
   ],
   "id": "c53851ff63cd6d72",
   "outputs": [],
   "execution_count": null
  },
  {
   "metadata": {
    "ExecuteTime": {
     "end_time": "2025-01-16T21:27:26.480783Z",
     "start_time": "2025-01-16T21:27:24.924300Z"
    }
   },
   "cell_type": "code",
   "source": [
    "output = invoke_model(model, prompt)\n",
    "print(output)"
   ],
   "id": "1d86a17a096a9761",
   "outputs": [
    {
     "name": "stdout",
     "output_type": "stream",
     "text": [
      "Okay, here are 10 article headlines about digital marketing, avoiding SEO, blogging, and email marketing:\n",
      "\n",
      "1.  Mastering Social Media Ads: A Step-by-Step Guide\n",
      "2.  The Power of Video Marketing: Engaging Your Audience Visually\n",
      "3.  Content Marketing Beyond the Blog: Fresh Ideas for Growth\n",
      "4.  Unlocking the Potential of Mobile Marketing: Reaching Customers on the Go\n",
      "5.  How to Build a Strong Brand Presence Online\n",
      "6.  The Ultimate Guide to Paid Social Media Campaigns\n",
      "7.  Digital Marketing Analytics: Tracking Your Success\n",
      "8.  Creating a Customer-Centric Digital Marketing Strategy\n",
      "9.  Leveraging Influencers for Effective Brand Promotion\n",
      "10. Future-Proofing Your Business with Digital Transformation\n",
      "\n"
     ]
    }
   ],
   "execution_count": 26
  },
  {
   "metadata": {},
   "cell_type": "markdown",
   "source": "## II. Sentiment Analysis",
   "id": "bba467b7e2795fc2"
  },
  {
   "metadata": {},
   "cell_type": "markdown",
   "source": "### Prompt key = \"sentiment_analysis\"",
   "id": "72b30426fa3a5d42"
  },
  {
   "metadata": {
    "ExecuteTime": {
     "end_time": "2025-01-17T00:33:24.478038Z",
     "start_time": "2025-01-17T00:33:24.459809Z"
    }
   },
   "cell_type": "code",
   "outputs": [
    {
     "name": "stdout",
     "output_type": "stream",
     "text": [
      "You are working as a data analyst for a company that wants to improve customer satisfaction. Your task is to perform sentiment analysis on customer reviews of their product.\n",
      "\n",
      "The label must be neutral, negative or positive\n",
      "---\n",
      "product review text: This marketing product was a complete waste of time and money. It didn't do anything it promised and the customer service was terrible. I'm very unhappy with the purchase and would not recommend it to anyone.\n",
      "sentiment: negative\n",
      "product review text: I recently purchased a marketing product from this company and I am so glad I did. The product was exactly what I was looking for, and the customer service was outstanding. The staff was very helpful and knowledgeable and they made sure I got exactly what I needed. I highly recommend this company and their products.\n",
      "sentiment: positive\n",
      "product review text: \n",
      "This product is an effective marketing tool that is easy to use. It has a lot of features that can help with creating a successful marketing campaign. However, it does have some drawbacks that should be taken into consideration when deciding if it is the right solution for your needs. Overall, the product is worth considering.\n",
      "sentiment: neutral\n",
      "---\n",
      "product review text:  I recently purchased a marketing product from this company and I am so pleased with the results. The product is easy to use and the customer service team was incredibly helpful. They provided me with clear instructions and answered all my questions. The product has already improved my marketing efforts, and I look forward to seeing even better results in the future.\n",
      "sentiment:\n",
      "\n"
     ]
    }
   ],
   "execution_count": 27,
   "source": [
    "prompt = fetch_prompt(\"sentiment_analysis\")\n",
    "print(prompt)"
   ],
   "id": "24f5cb0a37f89bde"
  },
  {
   "metadata": {},
   "cell_type": "markdown",
   "source": "### Invoke moodel / Sentiment Analysis",
   "id": "411786f5fb5ba8c6"
  },
  {
   "metadata": {
    "ExecuteTime": {
     "end_time": "2025-01-17T00:34:38.855095Z",
     "start_time": "2025-01-17T00:34:38.310689Z"
    }
   },
   "cell_type": "code",
   "outputs": [
    {
     "name": "stdout",
     "output_type": "stream",
     "text": [
      "positive\n",
      "\n"
     ]
    }
   ],
   "execution_count": 28,
   "source": [
    "output = invoke_model(model, prompt)\n",
    "print(output)"
   ],
   "id": "6e9afcf1395bdf56"
  },
  {
   "metadata": {},
   "cell_type": "markdown",
   "source": "## III. Explain like I am five!",
   "id": "d18240799c6cd067"
  },
  {
   "metadata": {},
   "cell_type": "markdown",
   "source": "### Prompt Key = \"explain_liam5\"",
   "id": "cf42a36d8c7e2a18"
  },
  {
   "metadata": {
    "ExecuteTime": {
     "end_time": "2025-01-17T00:41:43.084106Z",
     "start_time": "2025-01-17T00:41:43.057275Z"
    }
   },
   "cell_type": "code",
   "source": [
    "prompt = fetch_prompt(\"explain_liam5\")\n",
    "print(prompt)"
   ],
   "id": "6d81493fca2244e5",
   "outputs": [
    {
     "name": "stdout",
     "output_type": "stream",
     "text": [
      "Explain the text below like I’m five:\n",
      "Impossibility theorem, in political science, the thesis that it is generally impossible to assess the common good. It was first formulated in Social Choice and Individual Values (1951) by Kenneth J. Arrow, who was awarded (with Sir John R. Hicks) the Nobel Prize for Economics in 1972 partially in recognition of his work on the theorem. As a central element of rational choice theory, which attempts to explain political behavior as the rational pursuit of individual self-interest, the impossibility theorem posed a major challenge to 20th-century welfare economics and to a reevaluation of how democratic decision procedures arrive at representative expressions of individuals’ preferences. It has also been used to challenge the concept of “the public” as a meaningful social entity.\n",
      "The impossibility theorem assumes that agents have complete and well-ordered preferences over all the outcomes under consideration in a collective choice situation. This requires that agents know whether they prefer one in any pair of possible outcomes, and it requires that agents’ preferences obey the logical relationship of transitivity, which requires that if Adams is preferred to Madison and Madison is preferred to Washington, then Washington cannot be preferred to Adams. The impossibility theorem considers cases in which three or more agents make a collective choice from three or more alternatives in situations as diverse as democratic voting, establishing public policies that reflect social welfare, and the marketplace. The theorem is constructed to resolve the question of whether there is any mathematical procedure for amalgamating individual preferences that results in a collectively rational preference ordering of all the possible outcomes.\n",
      "In addition to assuming that individuals’ preferences are rational, the theorem stipulates that four minimal conditions must apply to the decision procedure for its result to be valid. The theorem requires that individuals be permitted to have any rational preference ordering over alternatives, that there not be a single dictator whose preference over a single pair of alternatives holds for the group decision, that the collective ranking over outcomes remains unchanged if one of the alternatives ceases to be considered, and that a unanimous preference over a pair of outcomes implies a collective preference over that pair. These requirements are generally regarded as beyond controversy.\n",
      "The theorem proves that, given these minimal assumptions, it is impossible to construct any procedure that results in a collectively rational expression of individual desires. Though highly technical in its statement, the theorem has important implications for philosophies of democracy and political economy. The theorem rejects the notion of a collective democratic will, whether derived through civic deliberation or construed by experts who paternalistically apply knowledge of what is best for a population. The theorem also denies that there could be objective basic needs or universal criteria that any procedure for collective decision making should recognize, such as minimal nutrition standards or human rights.\n",
      "\n"
     ]
    }
   ],
   "execution_count": 29
  },
  {
   "metadata": {},
   "cell_type": "markdown",
   "source": "### Invoke model | Explain like I am fine!\n",
   "id": "23f53fcc03e75f36"
  },
  {
   "metadata": {
    "ExecuteTime": {
     "end_time": "2025-01-17T00:44:51.059497Z",
     "start_time": "2025-01-17T00:44:47.324120Z"
    }
   },
   "cell_type": "code",
   "source": [
    "output = invoke_model(model, prompt)\n",
    "render_markdown(output)"
   ],
   "id": "6933f4d844a925e9",
   "outputs": [
    {
     "data": {
      "text/plain": [
       "<IPython.core.display.Markdown object>"
      ],
      "text/markdown": "> Okay, imagine you and your friends are trying to decide what to play at recess. You all have different ideas, right?\n> \n> This idea, called the \"impossibility theorem,\" is like saying it's really, *really* hard, maybe even impossible, to figure out what EVERYONE wants to play so that EVERYONE is happy.\n> \n> It’s like this:\n> \n> *   **Everyone has different favorites:** Just like you might want to play tag, your friend might want to play on the swings, and another wants to play with the sandbox. You all have your own \"favorite.\"\n> *   **Everyone's favorites have to make sense:** Like, if you like tag better than swings, and you like swings better than the sandbox, then you can't like the sandbox better than tag. That would be silly!\n> *   **No one gets to decide for everyone:** Just because one person really wants to play tag, they can’t say everyone *has* to play tag. Everyone gets to have their own favorite.\n> *   **If everyone agrees on something, it should be chosen:** If everyone wants to play tag, then it makes sense to play tag, right?\n> *   **The order of choosing doesn't matter:** If you decide to play games instead of going to the library, then go to the library instead of eating, and then go to play games again, you aren't going to end up with eating.\n> \n> This theorem says that even if we agree on those rules, it's still *impossible* to come up with a perfect plan that makes everyone happy when there are more than two choices. It's like trying to mix all the colors of playdough together to make one perfect, beautiful color, but it always turns into a big, messy blob.\n> \n> So, it means it’s very difficult, maybe even impossible, to know what is good for *everyone* because everyone has different things they want.  It makes it hard to say \"the best thing to do for everyone\" or to have just one rule that makes everybody happy. It also makes it harder to say \"this is what all the people want\" because everyone has different favorite things.\n> \n> Does that make sense?\n"
     },
     "metadata": {},
     "output_type": "display_data"
    }
   ],
   "execution_count": 32
  },
  {
   "metadata": {},
   "cell_type": "markdown",
   "source": "## IV. Least to most",
   "id": "9144fd0fa0a45141"
  },
  {
   "metadata": {},
   "cell_type": "markdown",
   "source": "### Prompt Key = \"least_to_most\"",
   "id": "137bb3ac8ed6b720"
  },
  {
   "metadata": {
    "ExecuteTime": {
     "end_time": "2025-01-17T00:58:24.213183Z",
     "start_time": "2025-01-17T00:58:24.199669Z"
    }
   },
   "cell_type": "code",
   "source": [
    "prompt = fetch_prompt(\"least_to_most\")\n",
    "print(prompt)\n"
   ],
   "id": "9b9cbe3845a8c439",
   "outputs": [
    {
     "name": "stdout",
     "output_type": "stream",
     "text": [
      "\n",
      "# Create a list of 3 Disney characters.\n",
      "## For each character, generate a short biography to tell me more about the character.\n",
      "\n"
     ]
    }
   ],
   "execution_count": 40
  },
  {
   "metadata": {},
   "cell_type": "markdown",
   "source": "### Invoke mode | Least to most",
   "id": "9e833f764fb079dd"
  },
  {
   "metadata": {
    "ExecuteTime": {
     "end_time": "2025-01-17T00:58:35.791638Z",
     "start_time": "2025-01-17T00:58:31.509832Z"
    }
   },
   "cell_type": "code",
   "source": [
    "output = invoke_model(model, prompt)\n",
    "render_markdown(output)"
   ],
   "id": "a9df84d8aaef0b42",
   "outputs": [
    {
     "data": {
      "text/plain": [
       "<IPython.core.display.Markdown object>"
      ],
      "text/markdown": "> Okay, here are three Disney characters with short biographies:\n> \n> **1.  Character:  Mulan**\n> \n> *   **Biography:** Mulan is a courageous and determined young woman from ancient China.  Unlike most girls in her village, Mulan doesn't fit the traditional mold expected of her – she's clumsy, outspoken, and feels like an outsider.  When her elderly father is called to war, despite his frail condition, Mulan bravely takes his place by disguising herself as a man.  Through rigorous training and intense battles, she proves her incredible skill and bravery, ultimately saving China from the Hun invasion. Mulan's story is one of defying expectations, finding inner strength, and staying true to oneself. She values her family above all else and is a symbol of female empowerment.\n> \n> **2. Character:  Genie (from *Aladdin*)**\n> \n> *   **Biography:**  The Genie is a powerful, whimsical, and larger-than-life entity who is bound to the magic lamp he inhabits.  He's incredibly funny, quick-witted, and possesses a seemingly endless array of magical abilities, including shapeshifting, teleportation, and reality manipulation.  Despite his immense power, Genie longs for freedom. He's been trapped in the lamp for 10,000 years and, deep down, dreams of the chance to live life without being bound to servitude. He has a big heart, a playful nature, and a genuine affection for his master (especially after Aladdin sets him free). He is a loyal friend, ready to lend a hand (or a magical transformation) to help those he cares about.\n> \n> **3. Character:  Stitch (from *Lilo & Stitch*)**\n> \n> *   **Biography:**  Stitch, also known as Experiment 626, is an alien genetic experiment designed to be destructive. He's a small, blue, furry creature with a lot of teeth and a mischievous personality. He crash lands on Earth and is adopted by a lonely Hawaiian girl named Lilo. Initially, Stitch is antisocial and chaotic, programmed for destruction. However, through Lilo's love, patience, and belief in \"Ohana\" (family), he begins to change. He learns the value of kindness, friendship, and belonging.  Stitch still has moments of chaos and a tendency to revert to his destructive programming, but underneath it all, he has a loyal and loving heart. His story is about finding a place to belong and discovering that even someone who seems broken can be loved.\n"
     },
     "metadata": {},
     "output_type": "display_data"
    }
   ],
   "execution_count": 41
  },
  {
   "metadata": {},
   "cell_type": "code",
   "outputs": [],
   "execution_count": null,
   "source": "",
   "id": "1e51ac5a600daf1e"
  },
  {
   "metadata": {},
   "cell_type": "markdown",
   "source": "## V.",
   "id": "2caddb880388ec2f"
  },
  {
   "metadata": {
    "ExecuteTime": {
     "end_time": "2025-01-17T01:29:29.725389Z",
     "start_time": "2025-01-17T01:29:29.713801Z"
    }
   },
   "cell_type": "code",
   "source": [
    "prompt = fetch_prompt()\n",
    "print(prompt)"
   ],
   "id": "814418e4b63508e",
   "outputs": [
    {
     "name": "stdout",
     "output_type": "stream",
     "text": [
      "Remind me to select the proper text analysis task!\n"
     ]
    }
   ],
   "execution_count": 43
  },
  {
   "metadata": {},
   "cell_type": "code",
   "outputs": [],
   "execution_count": null,
   "source": "",
   "id": "f788cd9a77b06d91"
  }
 ],
 "metadata": {
  "kernelspec": {
   "display_name": "Python 3",
   "language": "python",
   "name": "python3"
  },
  "language_info": {
   "codemirror_mode": {
    "name": "ipython",
    "version": 2
   },
   "file_extension": ".py",
   "mimetype": "text/x-python",
   "name": "python",
   "nbconvert_exporter": "python",
   "pygments_lexer": "ipython2",
   "version": "2.7.6"
  }
 },
 "nbformat": 4,
 "nbformat_minor": 5
}
