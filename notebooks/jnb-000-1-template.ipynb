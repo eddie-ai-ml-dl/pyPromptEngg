{
 "cells": [
  {
   "metadata": {},
   "cell_type": "markdown",
   "source": "# I. Initialization Code",
   "id": "a93dd5014c4f0efc"
  },
  {
   "metadata": {
    "ExecuteTime": {
     "end_time": "2025-01-27T21:50:19.152781Z",
     "start_time": "2025-01-27T21:50:19.145074Z"
    }
   },
   "cell_type": "code",
   "source": [
    "%load_ext autoreload\n",
    "%autoreload 2"
   ],
   "id": "481c67eb4ed41555",
   "outputs": [],
   "execution_count": 1
  },
  {
   "metadata": {
    "ExecuteTime": {
     "end_time": "2025-01-27T21:50:19.456378Z",
     "start_time": "2025-01-27T21:50:19.156024Z"
    }
   },
   "cell_type": "code",
   "source": [
    "from src.genAIClient import GenerativeAIClient\n",
    "client = GenerativeAIClient()"
   ],
   "id": "d2b30958328e89d1",
   "outputs": [
    {
     "name": "stderr",
     "output_type": "stream",
     "text": [
      "2025-01-27 16:50:19,453 - INFO - Google Generative AI API configured successfully.\n"
     ]
    }
   ],
   "execution_count": 2
  },
  {
   "metadata": {},
   "cell_type": "markdown",
   "source": [
    "# I.\n",
    "## 1."
   ],
   "id": "bba467b7e2795fc2"
  },
  {
   "metadata": {
    "ExecuteTime": {
     "end_time": "2025-01-27T21:51:37.701677Z",
     "start_time": "2025-01-27T21:51:37.670479Z"
    }
   },
   "cell_type": "code",
   "source": [
    "system=\"\"\n",
    "\n",
    "prompt=f\"\"\"\"\"\"\n",
    "\n",
    "output=client.invoke(prompt, system)\n",
    "print(output)\n"
   ],
   "id": "d399835e51696d3a",
   "outputs": [],
   "execution_count": null
  },
  {
   "metadata": {},
   "cell_type": "markdown",
   "source": "# II.",
   "id": "d18240799c6cd067"
  },
  {
   "metadata": {},
   "cell_type": "markdown",
   "source": [
    "## 1.\n",
    "### 1.1\n",
    "### 1.2"
   ],
   "id": "fa23df25e50a8e65"
  },
  {
   "metadata": {
    "ExecuteTime": {
     "end_time": "2025-01-16T19:35:55.372146Z",
     "start_time": "2025-01-16T19:35:55.370934Z"
    }
   },
   "cell_type": "code",
   "source": "",
   "id": "4accaee55c9295a",
   "outputs": [],
   "execution_count": null
  }
 ],
 "metadata": {
  "kernelspec": {
   "display_name": "Python 3",
   "language": "python",
   "name": "python3"
  },
  "language_info": {
   "codemirror_mode": {
    "name": "ipython",
    "version": 2
   },
   "file_extension": ".py",
   "mimetype": "text/x-python",
   "name": "python",
   "nbconvert_exporter": "python",
   "pygments_lexer": "ipython2",
   "version": "2.7.6"
  }
 },
 "nbformat": 4,
 "nbformat_minor": 5
}
