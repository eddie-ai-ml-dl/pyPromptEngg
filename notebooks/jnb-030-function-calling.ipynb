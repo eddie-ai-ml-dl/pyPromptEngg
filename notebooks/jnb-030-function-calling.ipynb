{
 "cells": [
  {
   "cell_type": "code",
   "id": "initial_id",
   "metadata": {
    "collapsed": true,
    "ExecuteTime": {
     "end_time": "2025-04-07T02:36:18.162434Z",
     "start_time": "2025-04-07T02:36:17.774671Z"
    }
   },
   "source": [
    "from google import genai\n",
    "from google.genai import types\n",
    "import os\n",
    "from dotenv import load_dotenv\n",
    "\n",
    "load_dotenv()\n",
    "\n",
    "client = genai.Client(api_key=os.getenv(\"GEMINI_API_KEY\"))\n"
   ],
   "outputs": [],
   "execution_count": 1
  },
  {
   "metadata": {
    "ExecuteTime": {
     "end_time": "2025-04-07T02:37:18.061667Z",
     "start_time": "2025-04-07T02:37:17.090126Z"
    }
   },
   "cell_type": "code",
   "source": [
    "prompt = \"What's the weather like in Philly, PA?\"\n",
    "\n",
    "response = client.models.generate_content(\n",
    "    model=\"gemini-2.0-flash\",\n",
    "    contents=prompt)\n",
    "\n",
    "print(response.text)\n"
   ],
   "id": "f0ecc1d4d7c1404d",
   "outputs": [
    {
     "name": "stdout",
     "output_type": "stream",
     "text": [
      "I don't have live, real-time access to weather information. To find out the current weather in Philadelphia, PA, I recommend checking a reliable weather source like:\n",
      "\n",
      "*   **A weather website or app:** AccuWeather, The Weather Channel, Google Weather, etc.\n",
      "*   **Your local news channel's website or app:** They usually have up-to-the-minute forecasts.\n"
     ]
    }
   ],
   "execution_count": 4
  },
  {
   "metadata": {
    "ExecuteTime": {
     "end_time": "2025-04-07T02:37:52.552918Z",
     "start_time": "2025-04-07T02:37:50.970735Z"
    }
   },
   "cell_type": "code",
   "source": [
    "def get_current_weather(location: str):\n",
    "    \"\"\"Gets the current weather conditions for a given location.\n",
    "\n",
    "    Args:\n",
    "        location: The city and state, e.g. San Francisco, CA\n",
    "\n",
    "    Returns:\n",
    "        A dictionary containing the temperature(e.g. 70), unit, feels_like (e.g. 65), condition(e.g. cloudy), humidity and wind_speed.\n",
    "    \"\"\"\n",
    "\n",
    "    return {\n",
    "        \"location\": location,\n",
    "        \"temperature\": 61.0,\n",
    "        \"unit\": \"fahrenheit\",\n",
    "        \"feels_like\": 59.0,\n",
    "        \"condition\": \"Partly cloudy\",\n",
    "        \"humidity\": 30,\n",
    "        \"wind_speed\": \"2.2 mph\"\n",
    "    }\n",
    "\n",
    "config = types.GenerateContentConfig(\n",
    "    tools=[get_current_weather]\n",
    ")  # Pass the function itself\n",
    "\n",
    "# Make the request\n",
    "response = client.models.generate_content(\n",
    "    model=\"gemini-2.0-flash\",\n",
    "    contents=prompt,\n",
    "    config=config,\n",
    ")\n",
    "\n",
    "print(response.text)"
   ],
   "id": "3e99b12a4d0eae62",
   "outputs": [
    {
     "name": "stdout",
     "output_type": "stream",
     "text": [
      "It's partly cloudy in Philly, PA. The temperature is 61 degrees Fahrenheit, but it feels like 61. The humidity is 30% and the wind speed is 2.2 mph.\n",
      "\n"
     ]
    }
   ],
   "execution_count": 6
  },
  {
   "metadata": {
    "ExecuteTime": {
     "end_time": "2025-04-07T02:41:39.110793Z",
     "start_time": "2025-04-07T02:41:39.106606Z"
    }
   },
   "cell_type": "code",
   "source": "import src.current_weather as cw",
   "id": "a736b04fa87811",
   "outputs": [],
   "execution_count": 7
  },
  {
   "metadata": {
    "ExecuteTime": {
     "end_time": "2025-04-07T02:42:09.504704Z",
     "start_time": "2025-04-07T02:42:09.136293Z"
    }
   },
   "cell_type": "code",
   "source": [
    "city = \"Philadelphia, PA\"\n",
    "weather_info = cw.get_current_weather(city)\n",
    "print(weather_info)"
   ],
   "id": "920730bf69cd1936",
   "outputs": [
    {
     "name": "stdout",
     "output_type": "stream",
     "text": [
      "{\"location\": \"Philadelphia, PA\", \"temperature\": 50.4, \"unit\": \"fahrenheit\", \"feels_like\": 48.3, \"condition\": \"Light rain\", \"humidity\": 75, \"wind_speed\": \"5.6 mph\"}\n"
     ]
    }
   ],
   "execution_count": 8
  },
  {
   "metadata": {
    "ExecuteTime": {
     "end_time": "2025-04-07T02:44:03.706316Z",
     "start_time": "2025-04-07T02:44:03.434151Z"
    }
   },
   "cell_type": "code",
   "source": [
    "def get_current_weather(location: str):\n",
    "    \"\"\"Gets the current weather conditions for a given location.\n",
    "\n",
    "    Args:\n",
    "        location: The city and state, e.g. San Francisco, CA\n",
    "\n",
    "    Returns:\n",
    "        A dictionary containing the temperature(e.g. 70), unit, feels_like (e.g. 65), condition(e.g. cloudy), humidity and wind_speed.\n",
    "    \"\"\"\n",
    "\n",
    "    return cw.get_current_weather(location)\n",
    "\n",
    "get_current_weather(city)"
   ],
   "id": "c249aebad87293fc",
   "outputs": [
    {
     "data": {
      "text/plain": [
       "'{\"location\": \"Philadelphia, PA\", \"temperature\": 50.4, \"unit\": \"fahrenheit\", \"feels_like\": 48.3, \"condition\": \"Light rain\", \"humidity\": 75, \"wind_speed\": \"5.6 mph\"}'"
      ]
     },
     "execution_count": 9,
     "metadata": {},
     "output_type": "execute_result"
    }
   ],
   "execution_count": 9
  },
  {
   "metadata": {
    "ExecuteTime": {
     "end_time": "2025-04-07T02:44:19.948999Z",
     "start_time": "2025-04-07T02:44:18.115535Z"
    }
   },
   "cell_type": "code",
   "source": [
    "config=types.GenerateContentConfig(\n",
    "    tools=[get_current_weather]\n",
    ")  # Pass the function itself\n",
    "\n",
    "# Make the request\n",
    "response=client.models.generate_content(\n",
    "    model=\"gemini-2.0-flash\",\n",
    "    contents=prompt,\n",
    "    config=config,\n",
    ")\n",
    "\n",
    "print(response.text)"
   ],
   "id": "5cca5d866d0d3168",
   "outputs": [
    {
     "name": "stdout",
     "output_type": "stream",
     "text": [
      "It's partly cloudy in Philly, PA. The temperature is 78.8 degrees Fahrenheit, but it feels like 80.8. The humidity is 74%, and the wind speed is 2.2 mph.\n",
      "\n"
     ]
    }
   ],
   "execution_count": 10
  },
  {
   "metadata": {},
   "cell_type": "code",
   "outputs": [],
   "execution_count": null,
   "source": "",
   "id": "aed95632bd56b098"
  }
 ],
 "metadata": {
  "kernelspec": {
   "display_name": "Python 3",
   "language": "python",
   "name": "python3"
  },
  "language_info": {
   "codemirror_mode": {
    "name": "ipython",
    "version": 2
   },
   "file_extension": ".py",
   "mimetype": "text/x-python",
   "name": "python",
   "nbconvert_exporter": "python",
   "pygments_lexer": "ipython2",
   "version": "2.7.6"
  }
 },
 "nbformat": 4,
 "nbformat_minor": 5
}
