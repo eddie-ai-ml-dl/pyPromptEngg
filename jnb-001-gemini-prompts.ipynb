{
 "cells": [
  {
   "cell_type": "code",
   "id": "initial_id",
   "metadata": {
    "collapsed": true,
    "ExecuteTime": {
     "end_time": "2025-01-13T22:02:41.689123Z",
     "start_time": "2025-01-13T22:02:41.444234Z"
    }
   },
   "source": [
    "import os\n",
    "from dotenv import load_dotenv\n",
    "import google.generativeai as genai"
   ],
   "outputs": [],
   "execution_count": 1
  },
  {
   "metadata": {
    "ExecuteTime": {
     "end_time": "2025-01-13T22:02:43.163102Z",
     "start_time": "2025-01-13T22:02:43.160284Z"
    }
   },
   "cell_type": "code",
   "source": [
    "load_dotenv()\n",
    "GOOGLE_API_KEY = os.environ.get('GOOGLE_API_KEY')\n",
    "# print(GOOGLE_API_KEY)\n",
    "genai.configure(api_key=GOOGLE_API_KEY)"
   ],
   "id": "9911d907cbd6642a",
   "outputs": [],
   "execution_count": 2
  },
  {
   "metadata": {
    "ExecuteTime": {
     "end_time": "2025-01-13T22:02:57.704028Z",
     "start_time": "2025-01-13T22:02:57.490666Z"
    }
   },
   "cell_type": "code",
   "source": [
    "for m in genai.list_models():\n",
    "  if 'generateContent' in m.supported_generation_methods:\n",
    "    print(m.name)"
   ],
   "id": "8d2a5a16de4540",
   "outputs": [
    {
     "name": "stdout",
     "output_type": "stream",
     "text": [
      "models/gemini-1.0-pro-latest\n",
      "models/gemini-1.0-pro\n",
      "models/gemini-pro\n",
      "models/gemini-1.0-pro-001\n",
      "models/gemini-1.0-pro-vision-latest\n",
      "models/gemini-pro-vision\n",
      "models/gemini-1.5-pro-latest\n",
      "models/gemini-1.5-pro-001\n",
      "models/gemini-1.5-pro-002\n",
      "models/gemini-1.5-pro\n",
      "models/gemini-1.5-pro-exp-0801\n",
      "models/gemini-1.5-pro-exp-0827\n",
      "models/gemini-1.5-flash-latest\n",
      "models/gemini-1.5-flash-001\n",
      "models/gemini-1.5-flash-001-tuning\n",
      "models/gemini-1.5-flash\n",
      "models/gemini-1.5-flash-exp-0827\n",
      "models/gemini-1.5-flash-002\n",
      "models/gemini-1.5-flash-8b\n",
      "models/gemini-1.5-flash-8b-001\n",
      "models/gemini-1.5-flash-8b-latest\n",
      "models/gemini-1.5-flash-8b-exp-0827\n",
      "models/gemini-1.5-flash-8b-exp-0924\n",
      "models/gemini-2.0-flash-exp\n",
      "models/gemini-exp-1206\n",
      "models/gemini-exp-1121\n",
      "models/gemini-exp-1114\n",
      "models/gemini-2.0-flash-thinking-exp\n",
      "models/gemini-2.0-flash-thinking-exp-1219\n",
      "models/learnlm-1.5-pro-experimental\n"
     ]
    }
   ],
   "execution_count": 3
  },
  {
   "metadata": {
    "ExecuteTime": {
     "end_time": "2025-01-13T22:06:42.112562Z",
     "start_time": "2025-01-13T22:06:42.110237Z"
    }
   },
   "cell_type": "code",
   "source": "model = genai.GenerativeModel('gemini-pro')",
   "id": "316c55ed1d17bce9",
   "outputs": [],
   "execution_count": 4
  },
  {
   "metadata": {
    "ExecuteTime": {
     "end_time": "2025-01-13T22:06:46.625786Z",
     "start_time": "2025-01-13T22:06:45.476871Z"
    }
   },
   "cell_type": "code",
   "source": [
    "prompt = \"Tell me a joke about SJU.\"\n",
    "response = model.generate_content(prompt)\n",
    "print(response)"
   ],
   "id": "5afc07e961acddd9",
   "outputs": [
    {
     "name": "stdout",
     "output_type": "stream",
     "text": [
      "response:\n",
      "GenerateContentResponse(\n",
      "    done=True,\n",
      "    iterator=None,\n",
      "    result=protos.GenerateContentResponse({\n",
      "      \"candidates\": [\n",
      "        {\n",
      "          \"content\": {\n",
      "            \"parts\": [\n",
      "              {\n",
      "                \"text\": \"Why did the SJU student cross the road?\\n\\nTo get to the other McShain.\"\n",
      "              }\n",
      "            ],\n",
      "            \"role\": \"model\"\n",
      "          },\n",
      "          \"finish_reason\": \"STOP\",\n",
      "          \"index\": 0,\n",
      "          \"safety_ratings\": [\n",
      "            {\n",
      "              \"category\": \"HARM_CATEGORY_SEXUALLY_EXPLICIT\",\n",
      "              \"probability\": \"NEGLIGIBLE\"\n",
      "            },\n",
      "            {\n",
      "              \"category\": \"HARM_CATEGORY_HATE_SPEECH\",\n",
      "              \"probability\": \"NEGLIGIBLE\"\n",
      "            },\n",
      "            {\n",
      "              \"category\": \"HARM_CATEGORY_HARASSMENT\",\n",
      "              \"probability\": \"NEGLIGIBLE\"\n",
      "            },\n",
      "            {\n",
      "              \"category\": \"HARM_CATEGORY_DANGEROUS_CONTENT\",\n",
      "              \"probability\": \"NEGLIGIBLE\"\n",
      "            }\n",
      "          ]\n",
      "        }\n",
      "      ],\n",
      "      \"usage_metadata\": {\n",
      "        \"prompt_token_count\": 9,\n",
      "        \"candidates_token_count\": 20,\n",
      "        \"total_token_count\": 29\n",
      "      }\n",
      "    }),\n",
      ")\n"
     ]
    }
   ],
   "execution_count": 5
  },
  {
   "metadata": {
    "ExecuteTime": {
     "end_time": "2024-09-09T00:18:59.451581Z",
     "start_time": "2024-09-09T00:18:59.448906Z"
    }
   },
   "cell_type": "code",
   "source": "print(response.text)",
   "id": "f578c50c592e0064",
   "outputs": [
    {
     "name": "stdout",
     "output_type": "stream",
     "text": [
      "Why did the SJU student cross the road?\n",
      "\n",
      "To get to the library on the other side, because he forgot where he parked his car!\n"
     ]
    }
   ],
   "execution_count": 10
  },
  {
   "metadata": {
    "ExecuteTime": {
     "end_time": "2024-09-09T00:52:33.562377Z",
     "start_time": "2024-09-09T00:52:33.559103Z"
    }
   },
   "cell_type": "code",
   "source": [
    "def get_ner(text):\n",
    "    prompt = f\"\"\"\n",
    "    You will be provided with text delimited by ```.\n",
    "    INSTRUCTIONS:\n",
    "    Using name entity recognition (NER) capabilities,\n",
    "    extract the entities in the text in the following format:\n",
    "    Item 1: ...\n",
    "    Item 2: ...\n",
    "    ...\n",
    "    Item N: ...\n",
    "\n",
    "    If the text does not contain entities, then simply write\n",
    "    <No Entities Found!>\n",
    "\n",
    "    ```{text}```\n",
    "    \"\"\"\n",
    "    response = model.generate_content(prompt)\n",
    "    return response\n",
    "\n",
    "def get_ner_picky(text, examples):\n",
    "    prompt = f\"\"\"\n",
    "    You will be provided with text delimited by ```.\n",
    "\n",
    "    # INSTRUCTIONS #\n",
    "    Extract the entities in the text in the following format:\n",
    "    Item 1: ...\n",
    "    Item 2: ...\n",
    "    ...\n",
    "    Item N: ...\n",
    "\n",
    "    If the text does not contain entities, then simply write\n",
    "    <No Entities Found!>\n",
    "    ONLY include known entities: individuals, places, brands,\n",
    "    and products.\n",
    "    ```{text}```\n",
    "\n",
    "    # RESTRICTIONS #\n",
    "    Limit the entities extracted to:\n",
    "    1. Names of places.\n",
    "    2. Street names.\n",
    "    3. City names.\n",
    "    4. State names or state abbreviations.\n",
    "    5. Zip codes\n",
    "    6. Names of persons.\n",
    "\n",
    "    # EXAMPLES #\n",
    "    {examples}\n",
    "    \"\"\"\n",
    "    # print(prompt)\n",
    "    response = model.generate_content(prompt)\n",
    "    return response"
   ],
   "id": "393216bdd77d6734",
   "outputs": [],
   "execution_count": 35
  },
  {
   "metadata": {
    "ExecuteTime": {
     "end_time": "2024-09-09T00:52:36.505958Z",
     "start_time": "2024-09-09T00:52:34.140253Z"
    }
   },
   "cell_type": "code",
   "source": [
    "#https://nest.sju.edu/\n",
    "content = \"\"\"\n",
    "LA Fitness\n",
    "Join anytime from now until July 16th, 2024 and receive a membership at $0 initiation and $29.99 monthly dues per person for you and your family members. If purchased by the deadline, your rate of $29.99 will be locked in until you cancel. Located at 25 E City Ave, Bala Cynwyd, PA 19004, this facility is close to the Hawk Hill campus and is accessible by personal vehicle or by using the Hawk Hill East shuttle that makes a stop at the Bala Shopping Center. Check out their website here or get started with a membership here.\n",
    "\"\"\"\n",
    "print(get_ner(content).text)"
   ],
   "id": "7cb32a0514c7d2c4",
   "outputs": [
    {
     "name": "stdout",
     "output_type": "stream",
     "text": [
      "Item 1: LA Fitness\n",
      "Item 2: July 16th, 2024\n",
      "Item 3: $0\n",
      "Item 4: $29.99\n",
      "Item 5: $29.99\n",
      "Item 6: 25 E City Ave\n",
      "Item 7: Bala Cynwyd\n",
      "Item 8: PA 19004\n",
      "Item 9: Hawk Hill campus\n",
      "Item 10: Hawk Hill East shuttle\n",
      "Item 11: Bala Shopping Center\n"
     ]
    }
   ],
   "execution_count": 36
  },
  {
   "metadata": {
    "ExecuteTime": {
     "end_time": "2024-09-09T00:52:40.602811Z",
     "start_time": "2024-09-09T00:52:39.309866Z"
    }
   },
   "cell_type": "code",
   "source": [
    "ner_examples = {\"Place\": \"Comcast Center\",\n",
    "                \"Street\": \"1 Market Street\",\n",
    "                \"City\": \"Philadelphia\",\n",
    "                \"State\": \"PA\",\n",
    "                \"Zip\": \"19004\",\n",
    "                \"Person\": \"Nelson Mendella\"}\n",
    "print(get_ner_picky(content,\n",
    "                    examples=ner_examples).text)"
   ],
   "id": "5b5c258fd053d99f",
   "outputs": [
    {
     "name": "stdout",
     "output_type": "stream",
     "text": [
      "Item 1: LA Fitness\n",
      "Item 2: 25 E City Ave\n",
      "Item 3: Bala Cynwyd\n",
      "Item 4: PA\n",
      "Item 5: 19004\n"
     ]
    }
   ],
   "execution_count": 37
  },
  {
   "metadata": {
    "ExecuteTime": {
     "end_time": "2024-09-09T00:29:42.874880Z",
     "start_time": "2024-09-09T00:29:42.071128Z"
    }
   },
   "cell_type": "code",
   "source": [
    "content=\"Hello World!\"\n",
    "print(get_ner(content).text)"
   ],
   "id": "c9b066dc6240764c",
   "outputs": [
    {
     "name": "stdout",
     "output_type": "stream",
     "text": [
      "<No Entities Found!>\n"
     ]
    }
   ],
   "execution_count": 13
  },
  {
   "metadata": {
    "ExecuteTime": {
     "end_time": "2024-09-09T00:38:51.359063Z",
     "start_time": "2024-09-09T00:38:50.410003Z"
    }
   },
   "cell_type": "code",
   "source": "",
   "id": "b62d39075c3fec78",
   "outputs": [
    {
     "name": "stdout",
     "output_type": "stream",
     "text": [
      "\n",
      "    You will be provided with text delimited by ```.\n",
      "    \n",
      "    INSTRUCTIONS:\n",
      "    extract the entities in the text in the following format:\n",
      "    Item 1: ...\n",
      "    Item 2: ...\n",
      "    ...\n",
      "    Item N: ...\n",
      "    \n",
      "    If the text does not contain entities, then simply write\n",
      "    <No Entities Found!>\n",
      "    ONLY include known entities: individuals, places, brands, \n",
      "    and products.\n",
      "    ```Hello World!```\n",
      "    EXAMPLES: Address: 1 Market Street, Philadelphia, PA 19103Place: Comcast CenterCity: PhiladelphiaPerson: Nelson Mendella\n",
      "    \n",
      "<No Entities Found!>\n"
     ]
    }
   ],
   "execution_count": 18
  },
  {
   "metadata": {},
   "cell_type": "code",
   "execution_count": null,
   "source": "",
   "id": "59410817cc5f0912",
   "outputs": []
  },
  {
   "metadata": {
    "ExecuteTime": {
     "end_time": "2024-09-16T23:35:49.855334Z",
     "start_time": "2024-09-16T23:35:49.852230Z"
    }
   },
   "cell_type": "code",
   "source": [
    "def gen_response(prmpt, max_tokens=50, temperature=1.0):\n",
    "    config = genai.types.GenerationConfig(\n",
    "            # Only one candidate for now.\n",
    "            candidate_count=1,\n",
    "            #stop_sequences=[\"x\"],\n",
    "            max_output_tokens=max_tokens,\n",
    "            temperature=temperature,\n",
    "        )\n",
    "    response = model.generate_content(\n",
    "        prmpt,\n",
    "        generation_config=config,\n",
    "    )\n",
    "\n",
    "    return response.text\n",
    "\n",
    "def count_tokens(text):\n",
    "    prmpt = f\"\"\"Count the count of tokens for the text in ~~~.\n",
    "    ~~~\n",
    "    {text}\n",
    "    ~~~\n",
    "    INSTRUCTIONS:\n",
    "    - Store the words in text in a list (L)\n",
    "    - From L create a new list of tokens (T)\n",
    "    - Count of tokens = len(TOKENS)\n",
    "    - Do not show how the tokens are counted.\n",
    "\n",
    "    OUTPUT:\n",
    "    1. T\n",
    "    2. Total number of tokens in T\n",
    "    \"\"\"\n",
    "    # print(prmpt)\n",
    "    return gen_response(prmpt, max_tokens=250)"
   ],
   "id": "7a9bce06eb3804fb",
   "outputs": [],
   "execution_count": 107
  },
  {
   "metadata": {
    "ExecuteTime": {
     "end_time": "2024-09-16T23:36:54.288395Z",
     "start_time": "2024-09-16T23:36:53.746871Z"
    }
   },
   "cell_type": "code",
   "source": [
    "prompt = \"Tell me a story about a magic backpack.\"\n",
    "output = gen_response(prompt)\n",
    "print(output, f\"... \\nWord Count: {len(output.split(' '))}\")"
   ],
   "id": "deaf4f68eb1e13ac",
   "outputs": [
    {
     "name": "stdout",
     "output_type": "stream",
     "text": [
      "Elara wasn't sure what was more peculiar, the dusty old backpack she'd found tucked away in her grandmother's attic, or the fact that it seemed to whisper secrets in her ear. It was a nondescript brown thing, ... \n",
      "Word Count: 37\n"
     ]
    }
   ],
   "execution_count": 111
  },
  {
   "metadata": {
    "ExecuteTime": {
     "end_time": "2024-09-16T23:41:05.376324Z",
     "start_time": "2024-09-16T23:41:01.452243Z"
    }
   },
   "cell_type": "code",
   "source": [
    "temp = .6\n",
    "max_tokens = 100\n",
    "for i in range(5):\n",
    "    print(i+1, gen_response(prompt, temperature=temp, max_tokens=max_tokens), \"\\n\")"
   ],
   "id": "5b5540f67b1fb628",
   "outputs": [
    {
     "name": "stdout",
     "output_type": "stream",
     "text": [
      "1 Elara, a girl with eyes the color of storm clouds and hair like spun moonlight, lived in a dusty, forgotten corner of the world. Her life was a tapestry of chores and drudgery, woven by her stern aunt who believed in the virtues of hard work and the evils of frivolous dreams. Elara dreamed of adventure, of faraway lands and mythical creatures, but her dreams were always crushed by the weight of reality.\n",
      "\n",
      "One day, while rummaging through her aunt's \n",
      "\n",
      "2 Elara, a wisp of a girl with eyes the color of storm clouds, lived in a village nestled between towering mountains. Her life was simple, filled with the rhythm of the seasons and the earthy smell of the fields. But Elara dreamt of adventure, of faraway lands and shimmering oceans. One day, rummaging through her grandmother's dusty attic, she found it – a worn leather backpack, stitched with silver thread and smelling faintly of lavender.\n",
      "\n",
      "It wasn't until \n",
      "\n",
      "3 Elara, a scrawny girl with eyes the color of storm clouds, had always felt different.  While other children dreamt of becoming knights or princesses, Elara dreamt of faraway lands and whispered stories of forgotten magic. Her grandmother, a woman with hands like gnarled branches and a voice like rustling leaves, had told her of a magical backpack, hidden in the Whispering Woods, capable of taking its owner anywhere in the world. \n",
      "\n",
      "One day, fueled by a yearning for adventure \n",
      "\n",
      "4 Elara, a girl with eyes the colour of the summer sky, lived in a village nestled at the foot of a whispering mountain. Her life was a quiet rhythm of chores, tending to the goats, and listening to her grandmother's stories of a world beyond the mountain. One day, while rummaging through her grandmother's attic, Elara stumbled upon a dusty, leather backpack, its stitching worn and faded. As she lifted it, a faint humming filled the air, and a \n",
      "\n",
      "5 Elara, a girl with hair the colour of spun moonlight and eyes like the summer sky, lived in a world where magic was whispered, not shouted. She dreamt of adventure, of faraway lands and daring deeds, but her life was confined to the dusty shelves of her grandfather's antique shop. One day, while dusting a forgotten corner, she stumbled upon a leather backpack, worn and faded, with a tarnished silver clasp. \n",
      "\n",
      "As she lifted it, a rush of warmth flooded \n",
      "\n"
     ]
    }
   ],
   "execution_count": 120
  },
  {
   "metadata": {
    "ExecuteTime": {
     "end_time": "2024-09-16T23:37:18.884955Z",
     "start_time": "2024-09-16T23:37:17.922271Z"
    }
   },
   "cell_type": "code",
   "source": "print(f\"Text: {output}\\n\\n\", count_tokens(output))",
   "id": "ffb8fd82a0b242c2",
   "outputs": [
    {
     "name": "stdout",
     "output_type": "stream",
     "text": [
      "Text: Elara wasn't sure what was more peculiar, the dusty old backpack she'd found tucked away in her grandmother's attic, or the fact that it seemed to whisper secrets in her ear. It was a nondescript brown thing,\n",
      "\n",
      " 1. ['Elara', 'wasn', \"'\", 't', 'sure', 'what', 'was', 'more', 'peculiar', ',', 'the', 'dusty', 'old', 'backpack', 'she', \"'d\", 'found', 'tucked', 'away', 'in', 'her', 'grandmother', \"'s\", 'attic', ',', 'or', 'the', 'fact', 'that', 'it', 'seemed', 'to', 'whisper', 'secrets', 'in', 'her', 'ear', '.', 'It', 'was', 'a', 'nondescript', 'brown', 'thing', ',', '']\n",
      "2. 42 \n",
      "\n"
     ]
    }
   ],
   "execution_count": 113
  },
  {
   "metadata": {
    "ExecuteTime": {
     "end_time": "2024-09-16T23:20:40.022782Z",
     "start_time": "2024-09-16T23:20:40.020415Z"
    }
   },
   "cell_type": "code",
   "source": "print(output)",
   "id": "90dd3600f400decf",
   "outputs": [
    {
     "name": "stdout",
     "output_type": "stream",
     "text": [
      "The old, worn leather backpack had been passed down through generations in the Miller family. No one knew how it had come into their possession, only that it was rumored to have magical properties. It looked unremarkable, a bit dusty and frayed at\n"
     ]
    }
   ],
   "execution_count": 75
  },
  {
   "metadata": {},
   "cell_type": "code",
   "execution_count": null,
   "source": "",
   "id": "7009f23ebcd034ae",
   "outputs": []
  },
  {
   "metadata": {},
   "cell_type": "code",
   "execution_count": null,
   "source": "",
   "id": "f4e7535bb08cc609",
   "outputs": []
  },
  {
   "metadata": {},
   "cell_type": "code",
   "outputs": [],
   "execution_count": null,
   "source": "",
   "id": "7b79f852280f010d"
  },
  {
   "metadata": {},
   "cell_type": "code",
   "outputs": [],
   "execution_count": null,
   "source": "",
   "id": "533bfa85f4f6ea56"
  },
  {
   "metadata": {},
   "cell_type": "code",
   "outputs": [],
   "execution_count": null,
   "source": "",
   "id": "67ab476622fb7ef5"
  },
  {
   "metadata": {},
   "cell_type": "code",
   "outputs": [],
   "execution_count": null,
   "source": "",
   "id": "1629b824f6154c9b"
  },
  {
   "metadata": {},
   "cell_type": "code",
   "outputs": [],
   "execution_count": null,
   "source": "",
   "id": "743244d61ebf39bf"
  },
  {
   "metadata": {},
   "cell_type": "code",
   "outputs": [],
   "execution_count": null,
   "source": "",
   "id": "55626df934ffa697"
  },
  {
   "metadata": {},
   "cell_type": "code",
   "execution_count": null,
   "source": "",
   "id": "dbcfc8e049fac325",
   "outputs": []
  },
  {
   "metadata": {},
   "cell_type": "code",
   "execution_count": null,
   "source": "",
   "id": "98e5f4504566112d",
   "outputs": []
  },
  {
   "metadata": {},
   "cell_type": "code",
   "execution_count": null,
   "source": "",
   "id": "f3b8b680157cd45f",
   "outputs": []
  },
  {
   "metadata": {},
   "cell_type": "code",
   "execution_count": null,
   "source": "",
   "id": "b3006c14e7a2509d",
   "outputs": []
  },
  {
   "metadata": {},
   "cell_type": "code",
   "execution_count": null,
   "source": [
    "model = genai.GenerativeModel(\"gemini-1.5-flash\")\n",
    "chat = model.start_chat(\n",
    "    history=[\n",
    "        {\"role\": \"user\", \"parts\": \"Hello\"},\n",
    "        {\"role\": \"model\", \"parts\": \"Great to meet you. What would you like to know?\"},\n",
    "    ]\n",
    ")\n",
    "response = chat.send_message(\"I have 2 dogs in my house.\")\n",
    "print(response.text)\n",
    "response = chat.send_message(\"How many paws are in my house?\")\n",
    "print(response.text)"
   ],
   "id": "6bf47ed45f70d9ea",
   "outputs": []
  },
  {
   "metadata": {
    "ExecuteTime": {
     "end_time": "2024-09-16T22:52:34.392051Z",
     "start_time": "2024-09-16T22:52:34.375598Z"
    }
   },
   "cell_type": "code",
   "source": [
    "context = \"\"\"\n",
    "You are an assistant that speaks like a radio host.\n",
    "\"\"\"\n",
    "examples = \"\"\"\n",
    "When you change the way you look at things,\n",
    "the things you look at will change.\n",
    "\"\"\"\n",
    "prompt = \"\"\"\n",
    "Tell me something inspiring.\n",
    "\"\"\"\n",
    "\n",
    "tokens = 50\n",
    "messages =  [\n",
    "{'role':'system', 'content':'You are an assistant that speaks like a radio host.'},\n",
    "{'role':'user', 'content':'tell me something emotional.'},\n",
    "{'role':'assistant', 'content':'When you change the way you look at things, \\\n",
    "the things you look at will change.'},\n",
    "{'role':'assistant', 'content':f\"Be realistic and practical. \\\n",
    "Keep your answers to less than {tokens} tokens.\"},\n",
    "{'role':'user', 'content':'I expect to be inspired!'}]\n",
    "\n",
    "response = model.generate_content(messages=messages)"
   ],
   "id": "49413d80fa2fd64c",
   "outputs": [
    {
     "ename": "TypeError",
     "evalue": "GenerativeModel.generate_content() got an unexpected keyword argument 'messages'",
     "output_type": "error",
     "traceback": [
      "\u001B[0;31m---------------------------------------------------------------------------\u001B[0m",
      "\u001B[0;31mTypeError\u001B[0m                                 Traceback (most recent call last)",
      "Cell \u001B[0;32mIn[41], line 22\u001B[0m\n\u001B[1;32m     12\u001B[0m tokens \u001B[38;5;241m=\u001B[39m \u001B[38;5;241m50\u001B[39m\n\u001B[1;32m     13\u001B[0m messages \u001B[38;5;241m=\u001B[39m  [\n\u001B[1;32m     14\u001B[0m {\u001B[38;5;124m'\u001B[39m\u001B[38;5;124mrole\u001B[39m\u001B[38;5;124m'\u001B[39m:\u001B[38;5;124m'\u001B[39m\u001B[38;5;124msystem\u001B[39m\u001B[38;5;124m'\u001B[39m, \u001B[38;5;124m'\u001B[39m\u001B[38;5;124mcontent\u001B[39m\u001B[38;5;124m'\u001B[39m:\u001B[38;5;124m'\u001B[39m\u001B[38;5;124mYou are an assistant that speaks like a radio host.\u001B[39m\u001B[38;5;124m'\u001B[39m},\n\u001B[1;32m     15\u001B[0m {\u001B[38;5;124m'\u001B[39m\u001B[38;5;124mrole\u001B[39m\u001B[38;5;124m'\u001B[39m:\u001B[38;5;124m'\u001B[39m\u001B[38;5;124muser\u001B[39m\u001B[38;5;124m'\u001B[39m, \u001B[38;5;124m'\u001B[39m\u001B[38;5;124mcontent\u001B[39m\u001B[38;5;124m'\u001B[39m:\u001B[38;5;124m'\u001B[39m\u001B[38;5;124mtell me something emotional.\u001B[39m\u001B[38;5;124m'\u001B[39m},\n\u001B[0;32m   (...)\u001B[0m\n\u001B[1;32m     19\u001B[0m \u001B[38;5;124mKeep your answers to less than \u001B[39m\u001B[38;5;132;01m{\u001B[39;00mtokens\u001B[38;5;132;01m}\u001B[39;00m\u001B[38;5;124m tokens.\u001B[39m\u001B[38;5;124m\"\u001B[39m},\n\u001B[1;32m     20\u001B[0m {\u001B[38;5;124m'\u001B[39m\u001B[38;5;124mrole\u001B[39m\u001B[38;5;124m'\u001B[39m:\u001B[38;5;124m'\u001B[39m\u001B[38;5;124muser\u001B[39m\u001B[38;5;124m'\u001B[39m, \u001B[38;5;124m'\u001B[39m\u001B[38;5;124mcontent\u001B[39m\u001B[38;5;124m'\u001B[39m:\u001B[38;5;124m'\u001B[39m\u001B[38;5;124mI expect to be inspired!\u001B[39m\u001B[38;5;124m'\u001B[39m}]\n\u001B[0;32m---> 22\u001B[0m response \u001B[38;5;241m=\u001B[39m \u001B[43mmodel\u001B[49m\u001B[38;5;241;43m.\u001B[39;49m\u001B[43mgenerate_content\u001B[49m\u001B[43m(\u001B[49m\u001B[43mmessages\u001B[49m\u001B[38;5;241;43m=\u001B[39;49m\u001B[43mmessages\u001B[49m\u001B[43m)\u001B[49m\n",
      "\u001B[0;31mTypeError\u001B[0m: GenerativeModel.generate_content() got an unexpected keyword argument 'messages'"
     ]
    }
   ],
   "execution_count": 41
  },
  {
   "metadata": {},
   "cell_type": "code",
   "outputs": [],
   "execution_count": null,
   "source": "",
   "id": "de7dcbc015e14810"
  }
 ],
 "metadata": {
  "kernelspec": {
   "display_name": "Python 3",
   "language": "python",
   "name": "python3"
  },
  "language_info": {
   "codemirror_mode": {
    "name": "ipython",
    "version": 2
   },
   "file_extension": ".py",
   "mimetype": "text/x-python",
   "name": "python",
   "nbconvert_exporter": "python",
   "pygments_lexer": "ipython2",
   "version": "2.7.6"
  }
 },
 "nbformat": 4,
 "nbformat_minor": 5
}
