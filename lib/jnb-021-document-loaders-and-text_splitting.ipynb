{
 "cells": [
  {
   "cell_type": "markdown",
   "metadata": {
    "id": "dCvtxtyyCiYG"
   },
   "source": [
    "## Chat Models - <a href='https://python.langchain.com/docs/modules/data_connection/document_loaders/'>Document Loaders</a> and Text Splitting\n"
   ]
  },
  {
   "cell_type": "code",
   "execution_count": null,
   "metadata": {
    "id": "ilpML_49CiYI"
   },
   "outputs": [],
   "source": [
    "%pip install langchain langchain_openai beautifulsoup4 langchain-community --upgrade"
   ]
  },
  {
   "cell_type": "code",
   "metadata": {
    "id": "IEvhajVQCiYJ",
    "ExecuteTime": {
     "end_time": "2025-04-01T22:15:10.724280Z",
     "start_time": "2025-04-01T22:15:10.195367Z"
    }
   },
   "source": [
    "from bs4 import BeautifulSoup\n",
    "from langchain_community.document_loaders import TextLoader\n",
    "import requests\n",
    "\n",
    "# Get this file and save it locally:\n",
    "url = \"https://github.com/hammer-mt/thumb/blob/master/README.md\"\n",
    "\n",
    "# Save it locally:\n",
    "r = requests.get(url)\n",
    "\n",
    "# Extract the text from the HTML:\n",
    "soup = BeautifulSoup(r.text, 'html.parser')\n",
    "text = soup.get_text()\n",
    "\n",
    "with open(\"README.md\", \"w\") as f:\n",
    "    f.write(text)\n",
    "\n",
    "loader = TextLoader('README.md')\n",
    "docs = loader.load()"
   ],
   "outputs": [],
   "execution_count": 4
  },
  {
   "cell_type": "code",
   "metadata": {
    "id": "6W_rNH3DCiYJ",
    "ExecuteTime": {
     "end_time": "2025-04-01T22:15:13.023053Z",
     "start_time": "2025-04-01T22:15:13.016979Z"
    }
   },
   "source": [
    "from langchain_core.documents import Document\n",
    "[ Document(page_content='test', metadata={'test': 'test'}) ]"
   ],
   "outputs": [
    {
     "data": {
      "text/plain": [
       "[Document(metadata={'test': 'test'}, page_content='test')]"
      ]
     },
     "execution_count": 5,
     "metadata": {},
     "output_type": "execute_result"
    }
   ],
   "execution_count": 5
  },
  {
   "cell_type": "code",
   "metadata": {
    "id": "p7rHaDryCiYK",
    "ExecuteTime": {
     "end_time": "2025-04-01T22:15:18.305635Z",
     "start_time": "2025-04-01T22:15:18.297204Z"
    }
   },
   "source": [
    "# Split the text into sentences:\n",
    "from langchain.text_splitter import RecursiveCharacterTextSplitter\n",
    "\n",
    "text_splitter = RecursiveCharacterTextSplitter(\n",
    "    # Set a really small chunk size, just to show.\n",
    "    chunk_size = 300,\n",
    "    chunk_overlap  = 50,\n",
    "    length_function = len,\n",
    "    is_separator_regex = False,\n",
    ")\n",
    "\n",
    "final_docs = text_splitter.split_documents(loader.load())"
   ],
   "outputs": [],
   "execution_count": 6
  },
  {
   "cell_type": "code",
   "metadata": {
    "id": "EVpwwheFCiYK",
    "ExecuteTime": {
     "end_time": "2025-04-01T22:15:20.678971Z",
     "start_time": "2025-04-01T22:15:20.674265Z"
    }
   },
   "source": [
    "len(final_docs)"
   ],
   "outputs": [
    {
     "data": {
      "text/plain": [
       "79"
      ]
     },
     "execution_count": 7,
     "metadata": {},
     "output_type": "execute_result"
    }
   ],
   "execution_count": 7
  },
  {
   "cell_type": "code",
   "metadata": {
    "id": "XJt0jvzqCiYK",
    "ExecuteTime": {
     "end_time": "2025-04-01T22:15:23.363425Z",
     "start_time": "2025-04-01T22:15:23.350854Z"
    }
   },
   "source": [
    "from dotenv import load_dotenv\n",
    "from langchain_google_genai import ChatGoogleGenerativeAI as genai_chat\n",
    "from langchain.chains.summarize import load_summarize_chain\n",
    "load_dotenv()\n",
    "model_name = \"models/gemini-2.0-flash-exp\"\n",
    "\n",
    "chat = genai_chat(model=model_name)"
   ],
   "outputs": [],
   "execution_count": 8
  },
  {
   "cell_type": "code",
   "metadata": {
    "id": "PRqOsYmgCiYK",
    "ExecuteTime": {
     "end_time": "2025-04-01T22:17:23.378588Z",
     "start_time": "2025-04-01T22:17:15.215898Z"
    }
   },
   "source": [
    "chain = load_summarize_chain(llm=chat, chain_type=\"map_reduce\")\n",
    "result = chain.invoke({\n",
    "    \"input_documents\": final_docs[:10],\n",
    "})"
   ],
   "outputs": [
    {
     "name": "stderr",
     "output_type": "stream",
     "text": [
      "Retrying langchain_google_genai.chat_models._chat_with_retry.<locals>._chat_with_retry in 2.0 seconds as it raised ResourceExhausted: 429 You exceeded your current quota, please check your plan and billing details. For more information on this error, head to: https://ai.google.dev/gemini-api/docs/rate-limits. [violations {\n",
      "}\n",
      ", links {\n",
      "  description: \"Learn more about Gemini API quotas\"\n",
      "  url: \"https://ai.google.dev/gemini-api/docs/rate-limits\"\n",
      "}\n",
      ", retry_delay {\n",
      "  seconds: 44\n",
      "}\n",
      "].\n"
     ]
    }
   ],
   "execution_count": 13
  },
  {
   "metadata": {},
   "cell_type": "code",
   "outputs": [],
   "execution_count": null,
   "source": ""
  }
 ],
 "metadata": {
  "kernelspec": {
   "display_name": "base",
   "language": "python",
   "name": "python3"
  },
  "language_info": {
   "codemirror_mode": {
    "name": "ipython",
    "version": 3
   },
   "file_extension": ".py",
   "mimetype": "text/x-python",
   "name": "python",
   "nbconvert_exporter": "python",
   "pygments_lexer": "ipython3",
   "version": "3.9.13"
  },
  "orig_nbformat": 4,
  "colab": {
   "provenance": []
  }
 },
 "nbformat": 4,
 "nbformat_minor": 0
}
